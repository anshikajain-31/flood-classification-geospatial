{
  "nbformat": 4,
  "nbformat_minor": 0,
  "metadata": {
    "colab": {
      "provenance": [],
      "gpuType": "T4"
    },
    "kernelspec": {
      "name": "python3",
      "display_name": "Python 3"
    },
    "language_info": {
      "name": "python"
    },
    "accelerator": "GPU"
  },
  "cells": [
    {
      "cell_type": "code",
      "source": [
        "!pip install rasterio\n",
        "import numpy as np\n",
        "import pandas as pd\n",
        "import os\n",
        "import rasterio\n",
        "import matplotlib.pyplot as plt\n",
        "import random\n",
        "import torch\n",
        "import torch.nn as nn\n",
        "import torch.nn.functional as F\n",
        "from sklearn.metrics import accuracy_score, balanced_accuracy_score, precision_score, recall_score, f1_score, jaccard_score, cohen_kappa_score\n",
        "from sklearn.model_selection import train_test_split\n"
      ],
      "metadata": {
        "colab": {
          "base_uri": "https://localhost:8080/"
        },
        "id": "vkGLjZMnJgOU",
        "outputId": "4828e964-9d33-45d5-bf6d-4d2f39e55b1d"
      },
      "execution_count": 1,
      "outputs": [
        {
          "output_type": "stream",
          "name": "stdout",
          "text": [
            "Requirement already satisfied: rasterio in /usr/local/lib/python3.11/dist-packages (1.4.3)\n",
            "Requirement already satisfied: affine in /usr/local/lib/python3.11/dist-packages (from rasterio) (2.4.0)\n",
            "Requirement already satisfied: attrs in /usr/local/lib/python3.11/dist-packages (from rasterio) (25.3.0)\n",
            "Requirement already satisfied: certifi in /usr/local/lib/python3.11/dist-packages (from rasterio) (2025.4.26)\n",
            "Requirement already satisfied: click>=4.0 in /usr/local/lib/python3.11/dist-packages (from rasterio) (8.2.1)\n",
            "Requirement already satisfied: cligj>=0.5 in /usr/local/lib/python3.11/dist-packages (from rasterio) (0.7.2)\n",
            "Requirement already satisfied: numpy>=1.24 in /usr/local/lib/python3.11/dist-packages (from rasterio) (2.0.2)\n",
            "Requirement already satisfied: click-plugins in /usr/local/lib/python3.11/dist-packages (from rasterio) (1.1.1)\n",
            "Requirement already satisfied: pyparsing in /usr/local/lib/python3.11/dist-packages (from rasterio) (3.2.3)\n"
          ]
        }
      ]
    },
    {
      "cell_type": "code",
      "source": [
        "#upload all_DATA zip file\n",
        "import zipfile\n",
        "import os\n",
        "\n",
        "zip_path = \"/content/all_DATA.zip\"\n",
        "extract_path = \"/content\"\n",
        "\n",
        "# Unzip it\n",
        "with zipfile.ZipFile(zip_path, 'r') as zip_ref:\n",
        "    zip_ref.extractall(extract_path)\n",
        "\n",
        "# Confirm it worked\n",
        "print(\"Extracted files:\", os.listdir(extract_path))\n"
      ],
      "metadata": {
        "colab": {
          "base_uri": "https://localhost:8080/"
        },
        "id": "WJe-miZMJLEb",
        "outputId": "eb7d60ee-3235-4231-830d-5ddbf997cb5e"
      },
      "execution_count": 3,
      "outputs": [
        {
          "output_type": "stream",
          "name": "stdout",
          "text": [
            "Extracted files: ['.config', 'all_DATA', 'all_DATA.zip', 'sample_data']\n"
          ]
        }
      ]
    },
    {
      "cell_type": "code",
      "source": [
        "def set_seed(seed=42):\n",
        "    random.seed(seed)\n",
        "    np.random.seed(seed)\n",
        "    torch.manual_seed(seed)\n",
        "    torch.cuda.manual_seed_all(seed)\n",
        "\n",
        "    # For deterministic behavior (slower but reproducible)\n",
        "    torch.backends.cudnn.deterministic = True\n",
        "    torch.backends.cudnn.benchmark = False\n",
        "    os.environ['PYTHONHASHSEED'] = str(seed)\n",
        "\n",
        "set_seed(42)"
      ],
      "metadata": {
        "id": "FmB_fkjjJaCf"
      },
      "execution_count": 2,
      "outputs": []
    },
    {
      "cell_type": "code",
      "source": [
        "!sudo apt update\n",
        "!sudo apt install -y build-essential libopenjp2-7-dev libjpeg-dev zlib1g-dev libtiff-dev libwebp-dev\n"
      ],
      "metadata": {
        "colab": {
          "base_uri": "https://localhost:8080/"
        },
        "id": "rHBh1tQp7KVh",
        "outputId": "f6242b8a-a404-455e-8d41-96697aec3eee"
      },
      "execution_count": 3,
      "outputs": [
        {
          "output_type": "stream",
          "name": "stdout",
          "text": [
            "\u001b[33m\r0% [Working]\u001b[0m\r            \rGet:1 https://cloud.r-project.org/bin/linux/ubuntu jammy-cran40/ InRelease [3,632 B]\n",
            "Get:2 https://developer.download.nvidia.com/compute/cuda/repos/ubuntu2204/x86_64  InRelease [1,581 B]\n",
            "Get:3 http://security.ubuntu.com/ubuntu jammy-security InRelease [129 kB]\n",
            "Hit:4 http://archive.ubuntu.com/ubuntu jammy InRelease\n",
            "Get:5 https://r2u.stat.illinois.edu/ubuntu jammy InRelease [6,555 B]\n",
            "Get:6 http://archive.ubuntu.com/ubuntu jammy-updates InRelease [128 kB]\n",
            "Get:7 https://developer.download.nvidia.com/compute/cuda/repos/ubuntu2204/x86_64  Packages [1,741 kB]\n",
            "Get:8 http://archive.ubuntu.com/ubuntu jammy-backports InRelease [127 kB]\n",
            "Get:9 https://ppa.launchpadcontent.net/deadsnakes/ppa/ubuntu jammy InRelease [18.1 kB]\n",
            "Hit:10 https://ppa.launchpadcontent.net/graphics-drivers/ppa/ubuntu jammy InRelease\n",
            "Get:11 https://r2u.stat.illinois.edu/ubuntu jammy/main all Packages [9,003 kB]\n",
            "Hit:12 https://ppa.launchpadcontent.net/ubuntugis/ppa/ubuntu jammy InRelease\n",
            "Get:13 http://archive.ubuntu.com/ubuntu jammy-updates/restricted amd64 Packages [4,630 kB]\n",
            "Get:14 http://archive.ubuntu.com/ubuntu jammy-updates/main amd64 Packages [3,295 kB]\n",
            "Get:15 http://archive.ubuntu.com/ubuntu jammy-updates/universe amd64 Packages [1,553 kB]\n",
            "Get:16 https://r2u.stat.illinois.edu/ubuntu jammy/main amd64 Packages [2,739 kB]\n",
            "Get:17 http://security.ubuntu.com/ubuntu jammy-security/main amd64 Packages [2,984 kB]\n",
            "Get:18 https://ppa.launchpadcontent.net/deadsnakes/ppa/ubuntu jammy/main amd64 Packages [32.8 kB]\n",
            "Get:19 http://security.ubuntu.com/ubuntu jammy-security/universe amd64 Packages [1,246 kB]\n",
            "Get:20 http://security.ubuntu.com/ubuntu jammy-security/restricted amd64 Packages [4,476 kB]\n",
            "Fetched 32.1 MB in 5s (6,588 kB/s)\n",
            "Reading package lists... Done\n",
            "Building dependency tree... Done\n",
            "Reading state information... Done\n",
            "44 packages can be upgraded. Run 'apt list --upgradable' to see them.\n",
            "\u001b[1;33mW: \u001b[0mSkipping acquire of configured file 'main/source/Sources' as repository 'https://r2u.stat.illinois.edu/ubuntu jammy InRelease' does not seem to provide it (sources.list entry misspelt?)\u001b[0m\n",
            "Reading package lists... Done\n",
            "Building dependency tree... Done\n",
            "Reading state information... Done\n",
            "build-essential is already the newest version (12.9ubuntu3).\n",
            "libjpeg-dev is already the newest version (8c-2ubuntu10).\n",
            "libjpeg-dev set to manually installed.\n",
            "libopenjp2-7-dev is already the newest version (2.4.0-6ubuntu0.3).\n",
            "libopenjp2-7-dev set to manually installed.\n",
            "libtiff-dev is already the newest version (4.3.0-6ubuntu0.10).\n",
            "libtiff-dev set to manually installed.\n",
            "libwebp-dev is already the newest version (1.2.2-2ubuntu0.22.04.2).\n",
            "libwebp-dev set to manually installed.\n",
            "zlib1g-dev is already the newest version (1:1.2.11.dfsg-2ubuntu9.2).\n",
            "zlib1g-dev set to manually installed.\n",
            "0 upgraded, 0 newly installed, 0 to remove and 44 not upgraded.\n"
          ]
        }
      ]
    },
    {
      "cell_type": "code",
      "source": [
        "!pip install --upgrade pip --quiet\n",
        "!pip install tifffile imagecodecs --quiet\n"
      ],
      "metadata": {
        "id": "nNXjgQVALMqz"
      },
      "execution_count": 3,
      "outputs": []
    },
    {
      "cell_type": "code",
      "source": [
        "import tifffile as tiff\n",
        "import numpy as np\n",
        "import matplotlib.pyplot as plt\n",
        "\n",
        "# File paths for three images\n",
        "file_paths = [\n",
        "    '/content/all_DATA/Bangladesh/GEE_Patches/Mask_patch_465.tif',\n",
        "    '/content/all_DATA/Bangladesh/GEE_Patches/S2_NDWI_patch_465.tif',\n",
        "    '/content/all_DATA/Bangladesh/GEE_Patches/S1_VH_patch_465.tif'  # replace with your third image path\n",
        "]\n",
        "\n",
        "# Load images\n",
        "images = [tiff.imread(fp) for fp in file_paths]\n",
        "\n",
        "# Check that all images are 2D or handle differently if needed\n",
        "for i, img in enumerate(images):\n",
        "    print(f\"Image {i+1} - Type: {type(img)}, Shape: {img.shape}, Dtype: {img.dtype}\")\n",
        "\n",
        "# Create a subplot with 3 axes side by side\n",
        "fig, axs = plt.subplots(1, 3, figsize=(15, 5))\n",
        "\n",
        "for i, (img, ax) in enumerate(zip(images, axs)):\n",
        "    if img.ndim == 2:\n",
        "        im = ax.imshow(img, cmap='gray')\n",
        "        ax.set_title(f\"Image {i+1}\")\n",
        "        fig.colorbar(im, ax=ax, fraction=0.046, pad=0.04)\n",
        "    else:\n",
        "        ax.text(0.5, 0.5, \"Not a 2D image\", ha='center', va='center')\n",
        "        ax.set_title(f\"Image {i+1}\")\n",
        "        ax.axis('off')\n",
        "\n",
        "plt.tight_layout()\n",
        "plt.show()\n"
      ],
      "metadata": {
        "colab": {
          "base_uri": "https://localhost:8080/",
          "height": 349
        },
        "id": "FlNiIMnBKRoh",
        "outputId": "22dc6709-21bb-45c6-a196-8a7f0f4d261b"
      },
      "execution_count": null,
      "outputs": [
        {
          "output_type": "stream",
          "name": "stdout",
          "text": [
            "Image 1 - Type: <class 'numpy.ndarray'>, Shape: (51, 56), Dtype: uint8\n",
            "Image 2 - Type: <class 'numpy.ndarray'>, Shape: (51, 56), Dtype: float32\n",
            "Image 3 - Type: <class 'numpy.ndarray'>, Shape: (51, 56), Dtype: float64\n"
          ]
        },
        {
          "output_type": "display_data",
          "data": {
            "text/plain": [
              "<Figure size 1500x500 with 6 Axes>"
            ],
            "image/png": "[encoded data removed]"
          },
          "metadata": {}
        }
      ]
    },
    {
      "cell_type": "code",
      "execution_count": 4,
      "metadata": {
        "id": "503fa564-5c81-4a01-9877-e8e2f9592d6d"
      },
      "outputs": [],
      "source": [
        "## Image patch extraction\n",
        "PATCH_SIZE = 50\n",
        "def extract_patches(image, patch_size=PATCH_SIZE):\n",
        "    patches = []\n",
        "    h, w = image.shape\n",
        "    for i in range(h // patch_size):\n",
        "        for j in range(w // patch_size):\n",
        "            patch = image[i*patch_size:(i+1)*patch_size, j*patch_size:(j+1)*patch_size]\n",
        "            patches.append(patch)\n",
        "    return np.expand_dims(np.array(patches), axis=-1)\n",
        "\n",
        "def load_and_extract_patches(directory):\n",
        "    vh_files = sorted([f for f in os.listdir(directory) if f.startswith('S1_VH')])\n",
        "    ndwi_files = sorted([f for f in os.listdir(directory) if f.startswith('S2_NDWI')])\n",
        "    mask_files = sorted([f for f in os.listdir(directory) if f.startswith('Mask')])\n",
        "    print(\"Number of VH files:\", len(vh_files))\n",
        "    print(\"Number of NDWI files:\", len(ndwi_files))\n",
        "    print(\"Number of Mask files:\", len(mask_files))\n",
        "    print(\"First 3 VH files:\")\n",
        "    for file in vh_files[:3]:\n",
        "        print(file)\n",
        "\n",
        "    print(\"First 3 NDWI files:\")\n",
        "    for file in ndwi_files[:3]:\n",
        "        print(file)\n",
        "\n",
        "    print(\"First 3 Mask files:\")\n",
        "    for file in mask_files[:3]:\n",
        "        print(file)\n",
        "\n",
        "    X_vh, X_ndwi, y = [], [], []\n",
        "    for vh_file, ndwi_file, mask_file in zip(vh_files, ndwi_files, mask_files):\n",
        "        with rasterio.open(os.path.join(directory, vh_file)) as src: vh_img = np.nan_to_num(src.read(1))\n",
        "        with rasterio.open(os.path.join(directory, ndwi_file)) as src: ndwi_img = np.nan_to_num(src.read(1))\n",
        "        with rasterio.open(os.path.join(directory, mask_file)) as src:\n",
        "            mask_img = (np.nan_to_num(src.read(1)) > 0).astype(np.float32)\n",
        "\n",
        "        X_vh.append(extract_patches(vh_img))\n",
        "        X_ndwi.append(extract_patches(ndwi_img))\n",
        "        y.append(extract_patches(mask_img))\n",
        "\n",
        "    X_vh = np.concatenate(X_vh)\n",
        "    X_ndwi = np.concatenate(X_ndwi)\n",
        "    y = np.concatenate(y)\n",
        "    print(f\"Class balance: {np.mean(y)*100:.2f}% positive pixels\")\n",
        "\n",
        "\n",
        "    return X_vh, X_ndwi, y\n"
      ]
    },
    {
      "cell_type": "markdown",
      "metadata": {
        "id": "60e92614-47ba-4e34-ba70-80aaa8f0b237"
      },
      "source": [
        "### Each returned array (`X_vh`, `X_ndwi`, `y`) has the shape: (num_patches, patch_height, patch_width, num_channels)\n",
        "\n",
        "X_vh shape: (50, 50, 50, 1)\n",
        "\n",
        "50 patches in total (from all input images).\n",
        "\n",
        "Each patch is 50x50 pixels.\n",
        "\n",
        "1 channel (since radar and NDWI images are single-band)"
      ]
    },
    {
      "cell_type": "code",
      "execution_count": 5,
      "metadata": {
        "id": "1e610a69-74c2-4864-a16d-8c8cf40c524c"
      },
      "outputs": [],
      "source": [
        "\n",
        "def display_patch_table(patch, title, i=0):\n",
        "    data = patch[i, :5, :5, 0]  # first patch, top-left 5x5\n",
        "    df = pd.DataFrame(data)\n",
        "    print(f\"\\n{title} (shape: {patch[i].shape})\")\n",
        "    display(df.style.format(\"{:.2f}\").set_caption(title))\n",
        "\n",
        "\n",
        "def show_patch_triplets(X_vh, X_ndwi, y, num_patches=3):\n",
        "    for i in range(num_patches):\n",
        "        fig, axs = plt.subplots(1, 3, figsize=(10, 3))\n",
        "        axs[0].imshow(X_vh[i, :, :, 0], cmap='gray')\n",
        "        axs[0].set_title(\"VH Patch\")\n",
        "        axs[0].axis('off')\n",
        "\n",
        "        axs[1].imshow(X_ndwi[i, :, :, 0], cmap='gray')\n",
        "        axs[1].set_title(\"NDWI Patch\")\n",
        "        axs[1].axis('off')\n",
        "\n",
        "        axs[2].imshow(y[i, :, :, 0], cmap='gray')\n",
        "        axs[2].set_title(\"Mask Patch\")\n",
        "        axs[2].axis('off')\n",
        "\n",
        "        plt.tight_layout()\n",
        "        plt.show()\n",
        "\n",
        "        display_patch_table(X_vh, \"VH Patch\", i)\n",
        "        display_patch_table(X_ndwi, \"NDWI Patch\", i)\n",
        "        display_patch_table(y, \"Mask Patch\", i)\n",
        "\n"
      ]
    },
    {
      "cell_type": "code",
      "execution_count": 6,
      "metadata": {
        "id": "2c51d61e-82ae-45a0-ab92-9ec932d7cebd"
      },
      "outputs": [],
      "source": [
        "## Data augmentation\n",
        "\n",
        "def augment_dataset(X_vh, X_ndwi, y):\n",
        "    def flip_h(x): return np.flip(x, axis=2)\n",
        "    def flip_v(x): return np.flip(x, axis=1)\n",
        "    def rot90(x): return np.rot90(x, k=1, axes=(1,2))\n",
        "    def noise(x): return x + np.random.normal(0, 0.01, x.shape)\n",
        "\n",
        "    augmented = [(X_vh, X_ndwi, y)]\n",
        "    for fn in [flip_h, flip_v, rot90, noise]:\n",
        "        augmented.append((fn(X_vh), fn(X_ndwi), fn(y)))\n",
        "    X_vh_aug, X_ndwi_aug, y_aug = zip(*augmented)\n",
        "    return np.concatenate(X_vh_aug), np.concatenate(X_ndwi_aug), np.concatenate(y_aug)"
      ]
    },
    {
      "cell_type": "code",
      "source": [
        "# Set device\n",
        "DEVICE = torch.device(\"cuda\" if torch.cuda.is_available() else \"cpu\")"
      ],
      "metadata": {
        "id": "nb55n9iW-HWG"
      },
      "execution_count": 7,
      "outputs": []
    },
    {
      "cell_type": "code",
      "source": [
        "## Load and visualize data\n",
        "country=\"Bangladesh\"\n",
        "data_dir = f\"/content/all_DATA/{country}/GEE_Patches\"\n",
        "print(\"Loading and augmenting patches...\")\n",
        "X_vh, X_ndwi, y = load_and_extract_patches(data_dir)\n",
        "# Print dimensions\n",
        "print(f\"X_vh shape: {X_vh.shape}\")\n",
        "print(f\"X_ndwi shape: {X_ndwi.shape}\")\n",
        "print(f\"y shape: {y.shape}\")\n",
        "# show_patch_triplets(X_vh, X_ndwi, y, num_patches=3)\n",
        "X_vh = (X_vh - X_vh.min()) / (X_vh.max() - X_vh.min())\n",
        "X_ndwi = (X_ndwi - X_ndwi.min()) / (X_ndwi.max() - X_ndwi.min())\n",
        "X_vh, X_ndwi, y = augment_dataset(X_vh, X_ndwi, y)\n",
        "\n",
        "# Print dimensions\n",
        "print(f\"X_vh shape: {X_vh.shape}\")\n",
        "print(f\"X_ndwi shape: {X_ndwi.shape}\")\n",
        "print(f\"y shape: {y.shape}\")\n",
        "show_patch_triplets(X_vh, X_ndwi, y, num_patches=3)\n",
        "X = np.concatenate([X_vh, X_ndwi], axis=-1)\n",
        "print(f\"X shape: {X.shape}\")\n"
      ],
      "metadata": {
        "colab": {
          "base_uri": "https://localhost:8080/",
          "height": 1000
        },
        "id": "lEQvRi-WTJhF",
        "outputId": "ec938b4a-504c-458b-8f0c-dbbb827a97c5"
      },
      "execution_count": 43,
      "outputs": [
        {
          "output_type": "stream",
          "name": "stdout",
          "text": [
            "Loading and augmenting patches...\n",
            "Number of VH files: 50\n",
            "Number of NDWI files: 50\n",
            "Number of Mask files: 50\n",
            "First 3 VH files:\n",
            "S1_VH_patch_120.tif\n",
            "S1_VH_patch_136.tif\n",
            "S1_VH_patch_137.tif\n",
            "First 3 NDWI files:\n",
            "S2_NDWI_patch_120.tif\n",
            "S2_NDWI_patch_136.tif\n",
            "S2_NDWI_patch_137.tif\n",
            "First 3 Mask files:\n",
            "Mask_patch_120.tif\n",
            "Mask_patch_136.tif\n",
            "Mask_patch_137.tif\n",
            "Class balance: 92.93% positive pixels\n",
            "X_vh shape: (50, 50, 50, 1)\n",
            "X_ndwi shape: (50, 50, 50, 1)\n",
            "y shape: (50, 50, 50, 1)\n",
            "X_vh shape: (250, 50, 50, 1)\n",
            "X_ndwi shape: (250, 50, 50, 1)\n",
            "y shape: (250, 50, 50, 1)\n"
          ]
        },
        {
          "output_type": "display_data",
          "data": {
            "text/plain": [
              "<Figure size 1000x300 with 3 Axes>"
            ],
            "image/png": "[encoded data removed]"
          },
          "metadata": {}
        },
        {
          "output_type": "stream",
          "name": "stdout",
          "text": [
            "\n",
            "VH Patch (shape: (50, 50, 1))\n"
          ]
        },
        {
          "output_type": "display_data",
          "data": {
            "text/plain": [
              "<pandas.io.formats.style.Styler at 0x7d02d4bcd010>"
            ],
            "text/html": [
              "<style type=\"text/css\">\n",
              "</style>\n",
              "<table id=\"T_49ba0\" class=\"dataframe\">\n",
              "  <caption>VH Patch</caption>\n",
              "  <thead>\n",
              "    <tr>\n",
              "      <th class=\"blank level0\" >&nbsp;</th>\n",
              "      <th id=\"T_49ba0_level0_col0\" class=\"col_heading level0 col0\" >0</th>\n",
              "      <th id=\"T_49ba0_level0_col1\" class=\"col_heading level0 col1\" >1</th>\n",
              "      <th id=\"T_49ba0_level0_col2\" class=\"col_heading level0 col2\" >2</th>\n",
              "      <th id=\"T_49ba0_level0_col3\" class=\"col_heading level0 col3\" >3</th>\n",
              "      <th id=\"T_49ba0_level0_col4\" class=\"col_heading level0 col4\" >4</th>\n",
              "    </tr>\n",
              "  </thead>\n",
              "  <tbody>\n",
              "    <tr>\n",
              "      <th id=\"T_49ba0_level0_row0\" class=\"row_heading level0 row0\" >0</th>\n",
              "      <td id=\"T_49ba0_row0_col0\" class=\"data row0 col0\" >0.33</td>\n",
              "      <td id=\"T_49ba0_row0_col1\" class=\"data row0 col1\" >0.23</td>\n",
              "      <td id=\"T_49ba0_row0_col2\" class=\"data row0 col2\" >0.23</td>\n",
              "      <td id=\"T_49ba0_row0_col3\" class=\"data row0 col3\" >0.25</td>\n",
              "      <td id=\"T_49ba0_row0_col4\" class=\"data row0 col4\" >0.33</td>\n",
              "    </tr>\n",
              "    <tr>\n",
              "      <th id=\"T_49ba0_level0_row1\" class=\"row_heading level0 row1\" >1</th>\n",
              "      <td id=\"T_49ba0_row1_col0\" class=\"data row1 col0\" >0.28</td>\n",
              "      <td id=\"T_49ba0_row1_col1\" class=\"data row1 col1\" >0.27</td>\n",
              "      <td id=\"T_49ba0_row1_col2\" class=\"data row1 col2\" >0.30</td>\n",
              "      <td id=\"T_49ba0_row1_col3\" class=\"data row1 col3\" >0.29</td>\n",
              "      <td id=\"T_49ba0_row1_col4\" class=\"data row1 col4\" >0.33</td>\n",
              "    </tr>\n",
              "    <tr>\n",
              "      <th id=\"T_49ba0_level0_row2\" class=\"row_heading level0 row2\" >2</th>\n",
              "      <td id=\"T_49ba0_row2_col0\" class=\"data row2 col0\" >0.29</td>\n",
              "      <td id=\"T_49ba0_row2_col1\" class=\"data row2 col1\" >0.35</td>\n",
              "      <td id=\"T_49ba0_row2_col2\" class=\"data row2 col2\" >0.34</td>\n",
              "      <td id=\"T_49ba0_row2_col3\" class=\"data row2 col3\" >0.32</td>\n",
              "      <td id=\"T_49ba0_row2_col4\" class=\"data row2 col4\" >0.29</td>\n",
              "    </tr>\n",
              "    <tr>\n",
              "      <th id=\"T_49ba0_level0_row3\" class=\"row_heading level0 row3\" >3</th>\n",
              "      <td id=\"T_49ba0_row3_col0\" class=\"data row3 col0\" >0.33</td>\n",
              "      <td id=\"T_49ba0_row3_col1\" class=\"data row3 col1\" >0.37</td>\n",
              "      <td id=\"T_49ba0_row3_col2\" class=\"data row3 col2\" >0.38</td>\n",
              "      <td id=\"T_49ba0_row3_col3\" class=\"data row3 col3\" >0.36</td>\n",
              "      <td id=\"T_49ba0_row3_col4\" class=\"data row3 col4\" >0.31</td>\n",
              "    </tr>\n",
              "    <tr>\n",
              "      <th id=\"T_49ba0_level0_row4\" class=\"row_heading level0 row4\" >4</th>\n",
              "      <td id=\"T_49ba0_row4_col0\" class=\"data row4 col0\" >0.35</td>\n",
              "      <td id=\"T_49ba0_row4_col1\" class=\"data row4 col1\" >0.41</td>\n",
              "      <td id=\"T_49ba0_row4_col2\" class=\"data row4 col2\" >0.44</td>\n",
              "      <td id=\"T_49ba0_row4_col3\" class=\"data row4 col3\" >0.36</td>\n",
              "      <td id=\"T_49ba0_row4_col4\" class=\"data row4 col4\" >0.33</td>\n",
              "    </tr>\n",
              "  </tbody>\n",
              "</table>\n"
            ]
          },
          "metadata": {}
        },
        {
          "output_type": "stream",
          "name": "stdout",
          "text": [
            "\n",
            "NDWI Patch (shape: (50, 50, 1))\n"
          ]
        },
        {
          "output_type": "display_data",
          "data": {
            "text/plain": [
              "<pandas.io.formats.style.Styler at 0x7d02d3ce8210>"
            ],
            "text/html": [
              "<style type=\"text/css\">\n",
              "</style>\n",
              "<table id=\"T_356ad\" class=\"dataframe\">\n",
              "  <caption>NDWI Patch</caption>\n",
              "  <thead>\n",
              "    <tr>\n",
              "      <th class=\"blank level0\" >&nbsp;</th>\n",
              "      <th id=\"T_356ad_level0_col0\" class=\"col_heading level0 col0\" >0</th>\n",
              "      <th id=\"T_356ad_level0_col1\" class=\"col_heading level0 col1\" >1</th>\n",
              "      <th id=\"T_356ad_level0_col2\" class=\"col_heading level0 col2\" >2</th>\n",
              "      <th id=\"T_356ad_level0_col3\" class=\"col_heading level0 col3\" >3</th>\n",
              "      <th id=\"T_356ad_level0_col4\" class=\"col_heading level0 col4\" >4</th>\n",
              "    </tr>\n",
              "  </thead>\n",
              "  <tbody>\n",
              "    <tr>\n",
              "      <th id=\"T_356ad_level0_row0\" class=\"row_heading level0 row0\" >0</th>\n",
              "      <td id=\"T_356ad_row0_col0\" class=\"data row0 col0\" >0.72</td>\n",
              "      <td id=\"T_356ad_row0_col1\" class=\"data row0 col1\" >0.73</td>\n",
              "      <td id=\"T_356ad_row0_col2\" class=\"data row0 col2\" >0.75</td>\n",
              "      <td id=\"T_356ad_row0_col3\" class=\"data row0 col3\" >0.77</td>\n",
              "      <td id=\"T_356ad_row0_col4\" class=\"data row0 col4\" >0.79</td>\n",
              "    </tr>\n",
              "    <tr>\n",
              "      <th id=\"T_356ad_level0_row1\" class=\"row_heading level0 row1\" >1</th>\n",
              "      <td id=\"T_356ad_row1_col0\" class=\"data row1 col0\" >0.72</td>\n",
              "      <td id=\"T_356ad_row1_col1\" class=\"data row1 col1\" >0.72</td>\n",
              "      <td id=\"T_356ad_row1_col2\" class=\"data row1 col2\" >0.75</td>\n",
              "      <td id=\"T_356ad_row1_col3\" class=\"data row1 col3\" >0.76</td>\n",
              "      <td id=\"T_356ad_row1_col4\" class=\"data row1 col4\" >0.78</td>\n",
              "    </tr>\n",
              "    <tr>\n",
              "      <th id=\"T_356ad_level0_row2\" class=\"row_heading level0 row2\" >2</th>\n",
              "      <td id=\"T_356ad_row2_col0\" class=\"data row2 col0\" >0.75</td>\n",
              "      <td id=\"T_356ad_row2_col1\" class=\"data row2 col1\" >0.73</td>\n",
              "      <td id=\"T_356ad_row2_col2\" class=\"data row2 col2\" >0.76</td>\n",
              "      <td id=\"T_356ad_row2_col3\" class=\"data row2 col3\" >0.75</td>\n",
              "      <td id=\"T_356ad_row2_col4\" class=\"data row2 col4\" >0.77</td>\n",
              "    </tr>\n",
              "    <tr>\n",
              "      <th id=\"T_356ad_level0_row3\" class=\"row_heading level0 row3\" >3</th>\n",
              "      <td id=\"T_356ad_row3_col0\" class=\"data row3 col0\" >0.75</td>\n",
              "      <td id=\"T_356ad_row3_col1\" class=\"data row3 col1\" >0.74</td>\n",
              "      <td id=\"T_356ad_row3_col2\" class=\"data row3 col2\" >0.75</td>\n",
              "      <td id=\"T_356ad_row3_col3\" class=\"data row3 col3\" >0.74</td>\n",
              "      <td id=\"T_356ad_row3_col4\" class=\"data row3 col4\" >0.75</td>\n",
              "    </tr>\n",
              "    <tr>\n",
              "      <th id=\"T_356ad_level0_row4\" class=\"row_heading level0 row4\" >4</th>\n",
              "      <td id=\"T_356ad_row4_col0\" class=\"data row4 col0\" >0.75</td>\n",
              "      <td id=\"T_356ad_row4_col1\" class=\"data row4 col1\" >0.74</td>\n",
              "      <td id=\"T_356ad_row4_col2\" class=\"data row4 col2\" >0.74</td>\n",
              "      <td id=\"T_356ad_row4_col3\" class=\"data row4 col3\" >0.73</td>\n",
              "      <td id=\"T_356ad_row4_col4\" class=\"data row4 col4\" >0.75</td>\n",
              "    </tr>\n",
              "  </tbody>\n",
              "</table>\n"
            ]
          },
          "metadata": {}
        },
        {
          "output_type": "stream",
          "name": "stdout",
          "text": [
            "\n",
            "Mask Patch (shape: (50, 50, 1))\n"
          ]
        },
        {
          "output_type": "display_data",
          "data": {
            "text/plain": [
              "<pandas.io.formats.style.Styler at 0x7d02d4bcd010>"
            ],
            "text/html": [
              "<style type=\"text/css\">\n",
              "</style>\n",
              "<table id=\"T_43c20\" class=\"dataframe\">\n",
              "  <caption>Mask Patch</caption>\n",
              "  <thead>\n",
              "    <tr>\n",
              "      <th class=\"blank level0\" >&nbsp;</th>\n",
              "      <th id=\"T_43c20_level0_col0\" class=\"col_heading level0 col0\" >0</th>\n",
              "      <th id=\"T_43c20_level0_col1\" class=\"col_heading level0 col1\" >1</th>\n",
              "      <th id=\"T_43c20_level0_col2\" class=\"col_heading level0 col2\" >2</th>\n",
              "      <th id=\"T_43c20_level0_col3\" class=\"col_heading level0 col3\" >3</th>\n",
              "      <th id=\"T_43c20_level0_col4\" class=\"col_heading level0 col4\" >4</th>\n",
              "    </tr>\n",
              "  </thead>\n",
              "  <tbody>\n",
              "    <tr>\n",
              "      <th id=\"T_43c20_level0_row0\" class=\"row_heading level0 row0\" >0</th>\n",
              "      <td id=\"T_43c20_row0_col0\" class=\"data row0 col0\" >1.00</td>\n",
              "      <td id=\"T_43c20_row0_col1\" class=\"data row0 col1\" >1.00</td>\n",
              "      <td id=\"T_43c20_row0_col2\" class=\"data row0 col2\" >1.00</td>\n",
              "      <td id=\"T_43c20_row0_col3\" class=\"data row0 col3\" >1.00</td>\n",
              "      <td id=\"T_43c20_row0_col4\" class=\"data row0 col4\" >1.00</td>\n",
              "    </tr>\n",
              "    <tr>\n",
              "      <th id=\"T_43c20_level0_row1\" class=\"row_heading level0 row1\" >1</th>\n",
              "      <td id=\"T_43c20_row1_col0\" class=\"data row1 col0\" >1.00</td>\n",
              "      <td id=\"T_43c20_row1_col1\" class=\"data row1 col1\" >1.00</td>\n",
              "      <td id=\"T_43c20_row1_col2\" class=\"data row1 col2\" >1.00</td>\n",
              "      <td id=\"T_43c20_row1_col3\" class=\"data row1 col3\" >1.00</td>\n",
              "      <td id=\"T_43c20_row1_col4\" class=\"data row1 col4\" >1.00</td>\n",
              "    </tr>\n",
              "    <tr>\n",
              "      <th id=\"T_43c20_level0_row2\" class=\"row_heading level0 row2\" >2</th>\n",
              "      <td id=\"T_43c20_row2_col0\" class=\"data row2 col0\" >1.00</td>\n",
              "      <td id=\"T_43c20_row2_col1\" class=\"data row2 col1\" >1.00</td>\n",
              "      <td id=\"T_43c20_row2_col2\" class=\"data row2 col2\" >1.00</td>\n",
              "      <td id=\"T_43c20_row2_col3\" class=\"data row2 col3\" >1.00</td>\n",
              "      <td id=\"T_43c20_row2_col4\" class=\"data row2 col4\" >1.00</td>\n",
              "    </tr>\n",
              "    <tr>\n",
              "      <th id=\"T_43c20_level0_row3\" class=\"row_heading level0 row3\" >3</th>\n",
              "      <td id=\"T_43c20_row3_col0\" class=\"data row3 col0\" >1.00</td>\n",
              "      <td id=\"T_43c20_row3_col1\" class=\"data row3 col1\" >1.00</td>\n",
              "      <td id=\"T_43c20_row3_col2\" class=\"data row3 col2\" >1.00</td>\n",
              "      <td id=\"T_43c20_row3_col3\" class=\"data row3 col3\" >1.00</td>\n",
              "      <td id=\"T_43c20_row3_col4\" class=\"data row3 col4\" >1.00</td>\n",
              "    </tr>\n",
              "    <tr>\n",
              "      <th id=\"T_43c20_level0_row4\" class=\"row_heading level0 row4\" >4</th>\n",
              "      <td id=\"T_43c20_row4_col0\" class=\"data row4 col0\" >1.00</td>\n",
              "      <td id=\"T_43c20_row4_col1\" class=\"data row4 col1\" >1.00</td>\n",
              "      <td id=\"T_43c20_row4_col2\" class=\"data row4 col2\" >1.00</td>\n",
              "      <td id=\"T_43c20_row4_col3\" class=\"data row4 col3\" >1.00</td>\n",
              "      <td id=\"T_43c20_row4_col4\" class=\"data row4 col4\" >1.00</td>\n",
              "    </tr>\n",
              "  </tbody>\n",
              "</table>\n"
            ]
          },
          "metadata": {}
        },
        {
          "output_type": "display_data",
          "data": {
            "text/plain": [
              "<Figure size 1000x300 with 3 Axes>"
            ],
            "image/png": "[encoded data removed]"
          },
          "metadata": {}
        },
        {
          "output_type": "stream",
          "name": "stdout",
          "text": [
            "\n",
            "VH Patch (shape: (50, 50, 1))\n"
          ]
        },
        {
          "output_type": "display_data",
          "data": {
            "text/plain": [
              "<pandas.io.formats.style.Styler at 0x7d02d38ac750>"
            ],
            "text/html": [
              "<style type=\"text/css\">\n",
              "</style>\n",
              "<table id=\"T_26c0c\" class=\"dataframe\">\n",
              "  <caption>VH Patch</caption>\n",
              "  <thead>\n",
              "    <tr>\n",
              "      <th class=\"blank level0\" >&nbsp;</th>\n",
              "      <th id=\"T_26c0c_level0_col0\" class=\"col_heading level0 col0\" >0</th>\n",
              "      <th id=\"T_26c0c_level0_col1\" class=\"col_heading level0 col1\" >1</th>\n",
              "      <th id=\"T_26c0c_level0_col2\" class=\"col_heading level0 col2\" >2</th>\n",
              "      <th id=\"T_26c0c_level0_col3\" class=\"col_heading level0 col3\" >3</th>\n",
              "      <th id=\"T_26c0c_level0_col4\" class=\"col_heading level0 col4\" >4</th>\n",
              "    </tr>\n",
              "  </thead>\n",
              "  <tbody>\n",
              "    <tr>\n",
              "      <th id=\"T_26c0c_level0_row0\" class=\"row_heading level0 row0\" >0</th>\n",
              "      <td id=\"T_26c0c_row0_col0\" class=\"data row0 col0\" >0.55</td>\n",
              "      <td id=\"T_26c0c_row0_col1\" class=\"data row0 col1\" >0.53</td>\n",
              "      <td id=\"T_26c0c_row0_col2\" class=\"data row0 col2\" >0.53</td>\n",
              "      <td id=\"T_26c0c_row0_col3\" class=\"data row0 col3\" >0.57</td>\n",
              "      <td id=\"T_26c0c_row0_col4\" class=\"data row0 col4\" >0.56</td>\n",
              "    </tr>\n",
              "    <tr>\n",
              "      <th id=\"T_26c0c_level0_row1\" class=\"row_heading level0 row1\" >1</th>\n",
              "      <td id=\"T_26c0c_row1_col0\" class=\"data row1 col0\" >0.55</td>\n",
              "      <td id=\"T_26c0c_row1_col1\" class=\"data row1 col1\" >0.54</td>\n",
              "      <td id=\"T_26c0c_row1_col2\" class=\"data row1 col2\" >0.55</td>\n",
              "      <td id=\"T_26c0c_row1_col3\" class=\"data row1 col3\" >0.60</td>\n",
              "      <td id=\"T_26c0c_row1_col4\" class=\"data row1 col4\" >0.55</td>\n",
              "    </tr>\n",
              "    <tr>\n",
              "      <th id=\"T_26c0c_level0_row2\" class=\"row_heading level0 row2\" >2</th>\n",
              "      <td id=\"T_26c0c_row2_col0\" class=\"data row2 col0\" >0.53</td>\n",
              "      <td id=\"T_26c0c_row2_col1\" class=\"data row2 col1\" >0.56</td>\n",
              "      <td id=\"T_26c0c_row2_col2\" class=\"data row2 col2\" >0.58</td>\n",
              "      <td id=\"T_26c0c_row2_col3\" class=\"data row2 col3\" >0.56</td>\n",
              "      <td id=\"T_26c0c_row2_col4\" class=\"data row2 col4\" >0.51</td>\n",
              "    </tr>\n",
              "    <tr>\n",
              "      <th id=\"T_26c0c_level0_row3\" class=\"row_heading level0 row3\" >3</th>\n",
              "      <td id=\"T_26c0c_row3_col0\" class=\"data row3 col0\" >0.55</td>\n",
              "      <td id=\"T_26c0c_row3_col1\" class=\"data row3 col1\" >0.57</td>\n",
              "      <td id=\"T_26c0c_row3_col2\" class=\"data row3 col2\" >0.58</td>\n",
              "      <td id=\"T_26c0c_row3_col3\" class=\"data row3 col3\" >0.55</td>\n",
              "      <td id=\"T_26c0c_row3_col4\" class=\"data row3 col4\" >0.53</td>\n",
              "    </tr>\n",
              "    <tr>\n",
              "      <th id=\"T_26c0c_level0_row4\" class=\"row_heading level0 row4\" >4</th>\n",
              "      <td id=\"T_26c0c_row4_col0\" class=\"data row4 col0\" >0.61</td>\n",
              "      <td id=\"T_26c0c_row4_col1\" class=\"data row4 col1\" >0.60</td>\n",
              "      <td id=\"T_26c0c_row4_col2\" class=\"data row4 col2\" >0.60</td>\n",
              "      <td id=\"T_26c0c_row4_col3\" class=\"data row4 col3\" >0.57</td>\n",
              "      <td id=\"T_26c0c_row4_col4\" class=\"data row4 col4\" >0.56</td>\n",
              "    </tr>\n",
              "  </tbody>\n",
              "</table>\n"
            ]
          },
          "metadata": {}
        },
        {
          "output_type": "stream",
          "name": "stdout",
          "text": [
            "\n",
            "NDWI Patch (shape: (50, 50, 1))\n"
          ]
        },
        {
          "output_type": "display_data",
          "data": {
            "text/plain": [
              "<pandas.io.formats.style.Styler at 0x7d02d4b3dbd0>"
            ],
            "text/html": [
              "<style type=\"text/css\">\n",
              "</style>\n",
              "<table id=\"T_ed2e3\" class=\"dataframe\">\n",
              "  <caption>NDWI Patch</caption>\n",
              "  <thead>\n",
              "    <tr>\n",
              "      <th class=\"blank level0\" >&nbsp;</th>\n",
              "      <th id=\"T_ed2e3_level0_col0\" class=\"col_heading level0 col0\" >0</th>\n",
              "      <th id=\"T_ed2e3_level0_col1\" class=\"col_heading level0 col1\" >1</th>\n",
              "      <th id=\"T_ed2e3_level0_col2\" class=\"col_heading level0 col2\" >2</th>\n",
              "      <th id=\"T_ed2e3_level0_col3\" class=\"col_heading level0 col3\" >3</th>\n",
              "      <th id=\"T_ed2e3_level0_col4\" class=\"col_heading level0 col4\" >4</th>\n",
              "    </tr>\n",
              "  </thead>\n",
              "  <tbody>\n",
              "    <tr>\n",
              "      <th id=\"T_ed2e3_level0_row0\" class=\"row_heading level0 row0\" >0</th>\n",
              "      <td id=\"T_ed2e3_row0_col0\" class=\"data row0 col0\" >0.77</td>\n",
              "      <td id=\"T_ed2e3_row0_col1\" class=\"data row0 col1\" >0.79</td>\n",
              "      <td id=\"T_ed2e3_row0_col2\" class=\"data row0 col2\" >0.78</td>\n",
              "      <td id=\"T_ed2e3_row0_col3\" class=\"data row0 col3\" >0.79</td>\n",
              "      <td id=\"T_ed2e3_row0_col4\" class=\"data row0 col4\" >0.79</td>\n",
              "    </tr>\n",
              "    <tr>\n",
              "      <th id=\"T_ed2e3_level0_row1\" class=\"row_heading level0 row1\" >1</th>\n",
              "      <td id=\"T_ed2e3_row1_col0\" class=\"data row1 col0\" >0.79</td>\n",
              "      <td id=\"T_ed2e3_row1_col1\" class=\"data row1 col1\" >0.79</td>\n",
              "      <td id=\"T_ed2e3_row1_col2\" class=\"data row1 col2\" >0.81</td>\n",
              "      <td id=\"T_ed2e3_row1_col3\" class=\"data row1 col3\" >0.82</td>\n",
              "      <td id=\"T_ed2e3_row1_col4\" class=\"data row1 col4\" >0.79</td>\n",
              "    </tr>\n",
              "    <tr>\n",
              "      <th id=\"T_ed2e3_level0_row2\" class=\"row_heading level0 row2\" >2</th>\n",
              "      <td id=\"T_ed2e3_row2_col0\" class=\"data row2 col0\" >0.75</td>\n",
              "      <td id=\"T_ed2e3_row2_col1\" class=\"data row2 col1\" >0.74</td>\n",
              "      <td id=\"T_ed2e3_row2_col2\" class=\"data row2 col2\" >0.76</td>\n",
              "      <td id=\"T_ed2e3_row2_col3\" class=\"data row2 col3\" >0.80</td>\n",
              "      <td id=\"T_ed2e3_row2_col4\" class=\"data row2 col4\" >0.81</td>\n",
              "    </tr>\n",
              "    <tr>\n",
              "      <th id=\"T_ed2e3_level0_row3\" class=\"row_heading level0 row3\" >3</th>\n",
              "      <td id=\"T_ed2e3_row3_col0\" class=\"data row3 col0\" >0.64</td>\n",
              "      <td id=\"T_ed2e3_row3_col1\" class=\"data row3 col1\" >0.65</td>\n",
              "      <td id=\"T_ed2e3_row3_col2\" class=\"data row3 col2\" >0.67</td>\n",
              "      <td id=\"T_ed2e3_row3_col3\" class=\"data row3 col3\" >0.71</td>\n",
              "      <td id=\"T_ed2e3_row3_col4\" class=\"data row3 col4\" >0.78</td>\n",
              "    </tr>\n",
              "    <tr>\n",
              "      <th id=\"T_ed2e3_level0_row4\" class=\"row_heading level0 row4\" >4</th>\n",
              "      <td id=\"T_ed2e3_row4_col0\" class=\"data row4 col0\" >0.58</td>\n",
              "      <td id=\"T_ed2e3_row4_col1\" class=\"data row4 col1\" >0.67</td>\n",
              "      <td id=\"T_ed2e3_row4_col2\" class=\"data row4 col2\" >0.69</td>\n",
              "      <td id=\"T_ed2e3_row4_col3\" class=\"data row4 col3\" >0.72</td>\n",
              "      <td id=\"T_ed2e3_row4_col4\" class=\"data row4 col4\" >0.80</td>\n",
              "    </tr>\n",
              "  </tbody>\n",
              "</table>\n"
            ]
          },
          "metadata": {}
        },
        {
          "output_type": "stream",
          "name": "stdout",
          "text": [
            "\n",
            "Mask Patch (shape: (50, 50, 1))\n"
          ]
        },
        {
          "output_type": "display_data",
          "data": {
            "text/plain": [
              "<pandas.io.formats.style.Styler at 0x7d02d38e14d0>"
            ],
            "text/html": [
              "<style type=\"text/css\">\n",
              "</style>\n",
              "<table id=\"T_52b63\" class=\"dataframe\">\n",
              "  <caption>Mask Patch</caption>\n",
              "  <thead>\n",
              "    <tr>\n",
              "      <th class=\"blank level0\" >&nbsp;</th>\n",
              "      <th id=\"T_52b63_level0_col0\" class=\"col_heading level0 col0\" >0</th>\n",
              "      <th id=\"T_52b63_level0_col1\" class=\"col_heading level0 col1\" >1</th>\n",
              "      <th id=\"T_52b63_level0_col2\" class=\"col_heading level0 col2\" >2</th>\n",
              "      <th id=\"T_52b63_level0_col3\" class=\"col_heading level0 col3\" >3</th>\n",
              "      <th id=\"T_52b63_level0_col4\" class=\"col_heading level0 col4\" >4</th>\n",
              "    </tr>\n",
              "  </thead>\n",
              "  <tbody>\n",
              "    <tr>\n",
              "      <th id=\"T_52b63_level0_row0\" class=\"row_heading level0 row0\" >0</th>\n",
              "      <td id=\"T_52b63_row0_col0\" class=\"data row0 col0\" >1.00</td>\n",
              "      <td id=\"T_52b63_row0_col1\" class=\"data row0 col1\" >1.00</td>\n",
              "      <td id=\"T_52b63_row0_col2\" class=\"data row0 col2\" >1.00</td>\n",
              "      <td id=\"T_52b63_row0_col3\" class=\"data row0 col3\" >1.00</td>\n",
              "      <td id=\"T_52b63_row0_col4\" class=\"data row0 col4\" >1.00</td>\n",
              "    </tr>\n",
              "    <tr>\n",
              "      <th id=\"T_52b63_level0_row1\" class=\"row_heading level0 row1\" >1</th>\n",
              "      <td id=\"T_52b63_row1_col0\" class=\"data row1 col0\" >1.00</td>\n",
              "      <td id=\"T_52b63_row1_col1\" class=\"data row1 col1\" >1.00</td>\n",
              "      <td id=\"T_52b63_row1_col2\" class=\"data row1 col2\" >1.00</td>\n",
              "      <td id=\"T_52b63_row1_col3\" class=\"data row1 col3\" >1.00</td>\n",
              "      <td id=\"T_52b63_row1_col4\" class=\"data row1 col4\" >1.00</td>\n",
              "    </tr>\n",
              "    <tr>\n",
              "      <th id=\"T_52b63_level0_row2\" class=\"row_heading level0 row2\" >2</th>\n",
              "      <td id=\"T_52b63_row2_col0\" class=\"data row2 col0\" >1.00</td>\n",
              "      <td id=\"T_52b63_row2_col1\" class=\"data row2 col1\" >1.00</td>\n",
              "      <td id=\"T_52b63_row2_col2\" class=\"data row2 col2\" >1.00</td>\n",
              "      <td id=\"T_52b63_row2_col3\" class=\"data row2 col3\" >1.00</td>\n",
              "      <td id=\"T_52b63_row2_col4\" class=\"data row2 col4\" >1.00</td>\n",
              "    </tr>\n",
              "    <tr>\n",
              "      <th id=\"T_52b63_level0_row3\" class=\"row_heading level0 row3\" >3</th>\n",
              "      <td id=\"T_52b63_row3_col0\" class=\"data row3 col0\" >1.00</td>\n",
              "      <td id=\"T_52b63_row3_col1\" class=\"data row3 col1\" >1.00</td>\n",
              "      <td id=\"T_52b63_row3_col2\" class=\"data row3 col2\" >1.00</td>\n",
              "      <td id=\"T_52b63_row3_col3\" class=\"data row3 col3\" >1.00</td>\n",
              "      <td id=\"T_52b63_row3_col4\" class=\"data row3 col4\" >1.00</td>\n",
              "    </tr>\n",
              "    <tr>\n",
              "      <th id=\"T_52b63_level0_row4\" class=\"row_heading level0 row4\" >4</th>\n",
              "      <td id=\"T_52b63_row4_col0\" class=\"data row4 col0\" >1.00</td>\n",
              "      <td id=\"T_52b63_row4_col1\" class=\"data row4 col1\" >1.00</td>\n",
              "      <td id=\"T_52b63_row4_col2\" class=\"data row4 col2\" >1.00</td>\n",
              "      <td id=\"T_52b63_row4_col3\" class=\"data row4 col3\" >1.00</td>\n",
              "      <td id=\"T_52b63_row4_col4\" class=\"data row4 col4\" >1.00</td>\n",
              "    </tr>\n",
              "  </tbody>\n",
              "</table>\n"
            ]
          },
          "metadata": {}
        },
        {
          "output_type": "display_data",
          "data": {
            "text/plain": [
              "<Figure size 1000x300 with 3 Axes>"
            ],
            "image/png": "[encoded data removed]"
          },
          "metadata": {}
        },
        {
          "output_type": "stream",
          "name": "stdout",
          "text": [
            "\n",
            "VH Patch (shape: (50, 50, 1))\n"
          ]
        },
        {
          "output_type": "display_data",
          "data": {
            "text/plain": [
              "<pandas.io.formats.style.Styler at 0x7d02d4a6a3d0>"
            ],
            "text/html": [
              "<style type=\"text/css\">\n",
              "</style>\n",
              "<table id=\"T_75029\" class=\"dataframe\">\n",
              "  <caption>VH Patch</caption>\n",
              "  <thead>\n",
              "    <tr>\n",
              "      <th class=\"blank level0\" >&nbsp;</th>\n",
              "      <th id=\"T_75029_level0_col0\" class=\"col_heading level0 col0\" >0</th>\n",
              "      <th id=\"T_75029_level0_col1\" class=\"col_heading level0 col1\" >1</th>\n",
              "      <th id=\"T_75029_level0_col2\" class=\"col_heading level0 col2\" >2</th>\n",
              "      <th id=\"T_75029_level0_col3\" class=\"col_heading level0 col3\" >3</th>\n",
              "      <th id=\"T_75029_level0_col4\" class=\"col_heading level0 col4\" >4</th>\n",
              "    </tr>\n",
              "  </thead>\n",
              "  <tbody>\n",
              "    <tr>\n",
              "      <th id=\"T_75029_level0_row0\" class=\"row_heading level0 row0\" >0</th>\n",
              "      <td id=\"T_75029_row0_col0\" class=\"data row0 col0\" >0.30</td>\n",
              "      <td id=\"T_75029_row0_col1\" class=\"data row0 col1\" >0.29</td>\n",
              "      <td id=\"T_75029_row0_col2\" class=\"data row0 col2\" >0.27</td>\n",
              "      <td id=\"T_75029_row0_col3\" class=\"data row0 col3\" >0.25</td>\n",
              "      <td id=\"T_75029_row0_col4\" class=\"data row0 col4\" >0.30</td>\n",
              "    </tr>\n",
              "    <tr>\n",
              "      <th id=\"T_75029_level0_row1\" class=\"row_heading level0 row1\" >1</th>\n",
              "      <td id=\"T_75029_row1_col0\" class=\"data row1 col0\" >0.26</td>\n",
              "      <td id=\"T_75029_row1_col1\" class=\"data row1 col1\" >0.23</td>\n",
              "      <td id=\"T_75029_row1_col2\" class=\"data row1 col2\" >0.24</td>\n",
              "      <td id=\"T_75029_row1_col3\" class=\"data row1 col3\" >0.26</td>\n",
              "      <td id=\"T_75029_row1_col4\" class=\"data row1 col4\" >0.30</td>\n",
              "    </tr>\n",
              "    <tr>\n",
              "      <th id=\"T_75029_level0_row2\" class=\"row_heading level0 row2\" >2</th>\n",
              "      <td id=\"T_75029_row2_col0\" class=\"data row2 col0\" >0.21</td>\n",
              "      <td id=\"T_75029_row2_col1\" class=\"data row2 col1\" >0.26</td>\n",
              "      <td id=\"T_75029_row2_col2\" class=\"data row2 col2\" >0.29</td>\n",
              "      <td id=\"T_75029_row2_col3\" class=\"data row2 col3\" >0.30</td>\n",
              "      <td id=\"T_75029_row2_col4\" class=\"data row2 col4\" >0.27</td>\n",
              "    </tr>\n",
              "    <tr>\n",
              "      <th id=\"T_75029_level0_row3\" class=\"row_heading level0 row3\" >3</th>\n",
              "      <td id=\"T_75029_row3_col0\" class=\"data row3 col0\" >0.17</td>\n",
              "      <td id=\"T_75029_row3_col1\" class=\"data row3 col1\" >0.20</td>\n",
              "      <td id=\"T_75029_row3_col2\" class=\"data row3 col2\" >0.28</td>\n",
              "      <td id=\"T_75029_row3_col3\" class=\"data row3 col3\" >0.28</td>\n",
              "      <td id=\"T_75029_row3_col4\" class=\"data row3 col4\" >0.28</td>\n",
              "    </tr>\n",
              "    <tr>\n",
              "      <th id=\"T_75029_level0_row4\" class=\"row_heading level0 row4\" >4</th>\n",
              "      <td id=\"T_75029_row4_col0\" class=\"data row4 col0\" >0.20</td>\n",
              "      <td id=\"T_75029_row4_col1\" class=\"data row4 col1\" >0.24</td>\n",
              "      <td id=\"T_75029_row4_col2\" class=\"data row4 col2\" >0.28</td>\n",
              "      <td id=\"T_75029_row4_col3\" class=\"data row4 col3\" >0.28</td>\n",
              "      <td id=\"T_75029_row4_col4\" class=\"data row4 col4\" >0.27</td>\n",
              "    </tr>\n",
              "  </tbody>\n",
              "</table>\n"
            ]
          },
          "metadata": {}
        },
        {
          "output_type": "stream",
          "name": "stdout",
          "text": [
            "\n",
            "NDWI Patch (shape: (50, 50, 1))\n"
          ]
        },
        {
          "output_type": "display_data",
          "data": {
            "text/plain": [
              "<pandas.io.formats.style.Styler at 0x7d02d39b4e90>"
            ],
            "text/html": [
              "<style type=\"text/css\">\n",
              "</style>\n",
              "<table id=\"T_a8354\" class=\"dataframe\">\n",
              "  <caption>NDWI Patch</caption>\n",
              "  <thead>\n",
              "    <tr>\n",
              "      <th class=\"blank level0\" >&nbsp;</th>\n",
              "      <th id=\"T_a8354_level0_col0\" class=\"col_heading level0 col0\" >0</th>\n",
              "      <th id=\"T_a8354_level0_col1\" class=\"col_heading level0 col1\" >1</th>\n",
              "      <th id=\"T_a8354_level0_col2\" class=\"col_heading level0 col2\" >2</th>\n",
              "      <th id=\"T_a8354_level0_col3\" class=\"col_heading level0 col3\" >3</th>\n",
              "      <th id=\"T_a8354_level0_col4\" class=\"col_heading level0 col4\" >4</th>\n",
              "    </tr>\n",
              "  </thead>\n",
              "  <tbody>\n",
              "    <tr>\n",
              "      <th id=\"T_a8354_level0_row0\" class=\"row_heading level0 row0\" >0</th>\n",
              "      <td id=\"T_a8354_row0_col0\" class=\"data row0 col0\" >0.79</td>\n",
              "      <td id=\"T_a8354_row0_col1\" class=\"data row0 col1\" >0.78</td>\n",
              "      <td id=\"T_a8354_row0_col2\" class=\"data row0 col2\" >0.76</td>\n",
              "      <td id=\"T_a8354_row0_col3\" class=\"data row0 col3\" >0.76</td>\n",
              "      <td id=\"T_a8354_row0_col4\" class=\"data row0 col4\" >0.76</td>\n",
              "    </tr>\n",
              "    <tr>\n",
              "      <th id=\"T_a8354_level0_row1\" class=\"row_heading level0 row1\" >1</th>\n",
              "      <td id=\"T_a8354_row1_col0\" class=\"data row1 col0\" >0.84</td>\n",
              "      <td id=\"T_a8354_row1_col1\" class=\"data row1 col1\" >0.84</td>\n",
              "      <td id=\"T_a8354_row1_col2\" class=\"data row1 col2\" >0.82</td>\n",
              "      <td id=\"T_a8354_row1_col3\" class=\"data row1 col3\" >0.80</td>\n",
              "      <td id=\"T_a8354_row1_col4\" class=\"data row1 col4\" >0.80</td>\n",
              "    </tr>\n",
              "    <tr>\n",
              "      <th id=\"T_a8354_level0_row2\" class=\"row_heading level0 row2\" >2</th>\n",
              "      <td id=\"T_a8354_row2_col0\" class=\"data row2 col0\" >0.85</td>\n",
              "      <td id=\"T_a8354_row2_col1\" class=\"data row2 col1\" >0.85</td>\n",
              "      <td id=\"T_a8354_row2_col2\" class=\"data row2 col2\" >0.85</td>\n",
              "      <td id=\"T_a8354_row2_col3\" class=\"data row2 col3\" >0.84</td>\n",
              "      <td id=\"T_a8354_row2_col4\" class=\"data row2 col4\" >0.84</td>\n",
              "    </tr>\n",
              "    <tr>\n",
              "      <th id=\"T_a8354_level0_row3\" class=\"row_heading level0 row3\" >3</th>\n",
              "      <td id=\"T_a8354_row3_col0\" class=\"data row3 col0\" >0.86</td>\n",
              "      <td id=\"T_a8354_row3_col1\" class=\"data row3 col1\" >0.86</td>\n",
              "      <td id=\"T_a8354_row3_col2\" class=\"data row3 col2\" >0.86</td>\n",
              "      <td id=\"T_a8354_row3_col3\" class=\"data row3 col3\" >0.85</td>\n",
              "      <td id=\"T_a8354_row3_col4\" class=\"data row3 col4\" >0.85</td>\n",
              "    </tr>\n",
              "    <tr>\n",
              "      <th id=\"T_a8354_level0_row4\" class=\"row_heading level0 row4\" >4</th>\n",
              "      <td id=\"T_a8354_row4_col0\" class=\"data row4 col0\" >0.86</td>\n",
              "      <td id=\"T_a8354_row4_col1\" class=\"data row4 col1\" >0.87</td>\n",
              "      <td id=\"T_a8354_row4_col2\" class=\"data row4 col2\" >0.85</td>\n",
              "      <td id=\"T_a8354_row4_col3\" class=\"data row4 col3\" >0.83</td>\n",
              "      <td id=\"T_a8354_row4_col4\" class=\"data row4 col4\" >0.83</td>\n",
              "    </tr>\n",
              "  </tbody>\n",
              "</table>\n"
            ]
          },
          "metadata": {}
        },
        {
          "output_type": "stream",
          "name": "stdout",
          "text": [
            "\n",
            "Mask Patch (shape: (50, 50, 1))\n"
          ]
        },
        {
          "output_type": "display_data",
          "data": {
            "text/plain": [
              "<pandas.io.formats.style.Styler at 0x7d02d3a00a10>"
            ],
            "text/html": [
              "<style type=\"text/css\">\n",
              "</style>\n",
              "<table id=\"T_f215e\" class=\"dataframe\">\n",
              "  <caption>Mask Patch</caption>\n",
              "  <thead>\n",
              "    <tr>\n",
              "      <th class=\"blank level0\" >&nbsp;</th>\n",
              "      <th id=\"T_f215e_level0_col0\" class=\"col_heading level0 col0\" >0</th>\n",
              "      <th id=\"T_f215e_level0_col1\" class=\"col_heading level0 col1\" >1</th>\n",
              "      <th id=\"T_f215e_level0_col2\" class=\"col_heading level0 col2\" >2</th>\n",
              "      <th id=\"T_f215e_level0_col3\" class=\"col_heading level0 col3\" >3</th>\n",
              "      <th id=\"T_f215e_level0_col4\" class=\"col_heading level0 col4\" >4</th>\n",
              "    </tr>\n",
              "  </thead>\n",
              "  <tbody>\n",
              "    <tr>\n",
              "      <th id=\"T_f215e_level0_row0\" class=\"row_heading level0 row0\" >0</th>\n",
              "      <td id=\"T_f215e_row0_col0\" class=\"data row0 col0\" >1.00</td>\n",
              "      <td id=\"T_f215e_row0_col1\" class=\"data row0 col1\" >1.00</td>\n",
              "      <td id=\"T_f215e_row0_col2\" class=\"data row0 col2\" >1.00</td>\n",
              "      <td id=\"T_f215e_row0_col3\" class=\"data row0 col3\" >1.00</td>\n",
              "      <td id=\"T_f215e_row0_col4\" class=\"data row0 col4\" >1.00</td>\n",
              "    </tr>\n",
              "    <tr>\n",
              "      <th id=\"T_f215e_level0_row1\" class=\"row_heading level0 row1\" >1</th>\n",
              "      <td id=\"T_f215e_row1_col0\" class=\"data row1 col0\" >1.00</td>\n",
              "      <td id=\"T_f215e_row1_col1\" class=\"data row1 col1\" >1.00</td>\n",
              "      <td id=\"T_f215e_row1_col2\" class=\"data row1 col2\" >1.00</td>\n",
              "      <td id=\"T_f215e_row1_col3\" class=\"data row1 col3\" >1.00</td>\n",
              "      <td id=\"T_f215e_row1_col4\" class=\"data row1 col4\" >1.00</td>\n",
              "    </tr>\n",
              "    <tr>\n",
              "      <th id=\"T_f215e_level0_row2\" class=\"row_heading level0 row2\" >2</th>\n",
              "      <td id=\"T_f215e_row2_col0\" class=\"data row2 col0\" >1.00</td>\n",
              "      <td id=\"T_f215e_row2_col1\" class=\"data row2 col1\" >1.00</td>\n",
              "      <td id=\"T_f215e_row2_col2\" class=\"data row2 col2\" >1.00</td>\n",
              "      <td id=\"T_f215e_row2_col3\" class=\"data row2 col3\" >1.00</td>\n",
              "      <td id=\"T_f215e_row2_col4\" class=\"data row2 col4\" >1.00</td>\n",
              "    </tr>\n",
              "    <tr>\n",
              "      <th id=\"T_f215e_level0_row3\" class=\"row_heading level0 row3\" >3</th>\n",
              "      <td id=\"T_f215e_row3_col0\" class=\"data row3 col0\" >1.00</td>\n",
              "      <td id=\"T_f215e_row3_col1\" class=\"data row3 col1\" >1.00</td>\n",
              "      <td id=\"T_f215e_row3_col2\" class=\"data row3 col2\" >1.00</td>\n",
              "      <td id=\"T_f215e_row3_col3\" class=\"data row3 col3\" >1.00</td>\n",
              "      <td id=\"T_f215e_row3_col4\" class=\"data row3 col4\" >1.00</td>\n",
              "    </tr>\n",
              "    <tr>\n",
              "      <th id=\"T_f215e_level0_row4\" class=\"row_heading level0 row4\" >4</th>\n",
              "      <td id=\"T_f215e_row4_col0\" class=\"data row4 col0\" >1.00</td>\n",
              "      <td id=\"T_f215e_row4_col1\" class=\"data row4 col1\" >1.00</td>\n",
              "      <td id=\"T_f215e_row4_col2\" class=\"data row4 col2\" >1.00</td>\n",
              "      <td id=\"T_f215e_row4_col3\" class=\"data row4 col3\" >1.00</td>\n",
              "      <td id=\"T_f215e_row4_col4\" class=\"data row4 col4\" >1.00</td>\n",
              "    </tr>\n",
              "  </tbody>\n",
              "</table>\n"
            ]
          },
          "metadata": {}
        },
        {
          "output_type": "stream",
          "name": "stdout",
          "text": [
            "X shape: (250, 50, 50, 2)\n"
          ]
        }
      ]
    },
    {
      "cell_type": "code",
      "source": [
        "import numpy as np\n",
        "\n",
        "# Hyperparameters\n",
        "PATCH_SIZE = 50\n",
        "EPOCHS = 50\n",
        "DIFFUSION_STEPS = 100\n",
        "MIN_BETA = 1e-4\n",
        "MAX_BETA = 0.02\n",
        "betas = np.linspace(MIN_BETA, MAX_BETA, DIFFUSION_STEPS, dtype=np.float32)\n",
        "alphas = 1.0 - betas\n",
        "alpha_bars = np.cumprod(alphas).astype(np.float32)\n",
        "\n",
        "def forward_diffusion(images, alpha_bars, steps=DIFFUSION_STEPS):\n",
        "    N, H, W, C = images.shape\n",
        "    noise = np.random.randn(N, H, W, C).astype(np.float32)\n",
        "    noisy_images = []\n",
        "\n",
        "    for t in range(steps):\n",
        "        sqrt_alpha_bar = np.sqrt(alpha_bars[t])\n",
        "        sqrt_one_minus_alpha_bar = np.sqrt(1.0 - alpha_bars[t])\n",
        "        noisy = sqrt_alpha_bar * images + sqrt_one_minus_alpha_bar * noise\n",
        "        noisy_images.append(noisy)\n",
        "\n",
        "    return noisy_images, noise\n"
      ],
      "metadata": {
        "id": "uZkZnHC-N4Gl"
      },
      "execution_count": 44,
      "outputs": []
    },
    {
      "cell_type": "code",
      "source": [
        "# Apply diffusion\n",
        "noisy_images, noise = forward_diffusion(X, alpha_bars)\n",
        "\n",
        "# Plot original and noisy\n",
        "fig, axes = plt.subplots(2, 2, figsize=(8, 8))\n",
        "\n",
        "for ch in range(2):\n",
        "    axes[0, ch].imshow(X[1, :, :, ch], cmap='gray')\n",
        "    axes[0, ch].set_title(f\"Original - Channel {ch}\")\n",
        "    axes[0, ch].axis('off')\n",
        "\n",
        "    axes[1, ch].imshow(noisy_images[-1][0, :, :, ch], cmap='gray')\n",
        "    axes[1, ch].set_title(f\"Noisy (t=99) - Channel {ch}\")\n",
        "    axes[1, ch].axis('off')\n",
        "\n",
        "plt.tight_layout()\n",
        "plt.show()"
      ],
      "metadata": {
        "colab": {
          "base_uri": "https://localhost:8080/",
          "height": 807
        },
        "id": "SPKLSmqC4tyF",
        "outputId": "cc178bfd-e6b2-4eff-9c31-2204b5a19b93"
      },
      "execution_count": 45,
      "outputs": [
        {
          "output_type": "display_data",
          "data": {
            "text/plain": [
              "<Figure size 800x800 with 4 Axes>"
            ],
            "image/png": "[encoded data removed]"
          },
          "metadata": {}
        }
      ]
    },
    {
      "cell_type": "code",
      "execution_count": 46,
      "metadata": {
        "id": "kUKBMJRF_u3Q"
      },
      "outputs": [],
      "source": [
        "import torch\n",
        "import torch.nn as nn\n",
        "import torch.nn.functional as F\n",
        "\n",
        "# 3D Downsampling Block\n",
        "class DownsamplingBlock(nn.Module):\n",
        "    def __init__(self, in_channels, out_channels):\n",
        "        super(DownsamplingBlock, self).__init__()\n",
        "        self.conv1 = nn.Conv3d(in_channels, out_channels, kernel_size=3, stride=2, padding=1)\n",
        "        self.bn1 = nn.BatchNorm3d(out_channels)\n",
        "        self.relu1 = nn.ReLU(inplace=True)\n",
        "\n",
        "        self.conv2 = nn.Conv3d(out_channels, out_channels, kernel_size=3, padding=1)\n",
        "        self.bn2 = nn.BatchNorm3d(out_channels)\n",
        "        self.relu2 = nn.ReLU(inplace=True)\n",
        "\n",
        "    def forward(self, x):\n",
        "        residual = x\n",
        "        x = self.relu1(self.bn1(self.conv1(x)))\n",
        "        x = self.relu2(self.bn2(self.conv2(x)))\n",
        "        return x\n",
        "\n",
        "# 3D Upsampling Block\n",
        "class UpsamplingBlock(nn.Module):\n",
        "    def __init__(self, in_channels, out_channels):\n",
        "        super(UpsamplingBlock, self).__init__()\n",
        "        self.upconv = nn.ConvTranspose3d(in_channels, out_channels, kernel_size=3, stride=2, padding=1, output_padding=1)\n",
        "        self.bn1 = nn.BatchNorm3d(out_channels)\n",
        "        self.relu1 = nn.ReLU(inplace=True)\n",
        "\n",
        "        self.conv2 = nn.Conv3d(out_channels, out_channels, kernel_size=3, padding=1)\n",
        "        self.bn2 = nn.BatchNorm3d(out_channels)\n",
        "        self.relu2 = nn.ReLU(inplace=True)\n",
        "\n",
        "    def forward(self, x, target_shape):\n",
        "        x = self.relu1(self.bn1(self.upconv(x)))\n",
        "\n",
        "        # Ensure x matches target spatial shape using interpolation\n",
        "        x = F.interpolate(x, size=target_shape[2:], mode='trilinear', align_corners=False)\n",
        "\n",
        "        x = self.relu2(self.bn2(self.conv2(x)))\n",
        "        return x\n",
        "\n",
        "# Spectral-Spatial Denoising Network\n",
        "class SpectralSpatialDenoisingNet(nn.Module):\n",
        "    def __init__(self, in_channels=2, spectral_bands=32):\n",
        "        super(SpectralSpatialDenoisingNet, self).__init__()\n",
        "\n",
        "        self.initial_conv = nn.Conv3d(in_channels, 16, kernel_size=3, padding=1)\n",
        "\n",
        "        # Encoder\n",
        "        self.down1 = DownsamplingBlock(16, 32)\n",
        "        self.down2 = DownsamplingBlock(32, 64)\n",
        "        self.down3 = DownsamplingBlock(64, 128)\n",
        "\n",
        "        # Decoder\n",
        "        self.up1 = UpsamplingBlock(128, 64)\n",
        "        self.up2 = UpsamplingBlock(64, 32)\n",
        "        self.up3 = UpsamplingBlock(32, 16)\n",
        "\n",
        "        # Final Conv\n",
        "        self.final_conv = nn.Conv3d(16, in_channels, kernel_size=3, padding=1)\n",
        "\n",
        "    def forward(self, x,return_features=False):\n",
        "      x1 = self.initial_conv(x)\n",
        "      x2 = self.down1(x1)\n",
        "      x3 = self.down2(x2)\n",
        "      x4 = self.down3(x3)\n",
        "      if return_features:\n",
        "        return [x3,x2,x1]  # or [x2, x3, x4] if you want multi-scale features\n",
        "\n",
        "      x = self.up1(x4, x3.shape)\n",
        "      x = x + x3                  # Skip connection\n",
        "      x = self.up2(x, x2.shape)\n",
        "      x = x + x2\n",
        "      x = self.up3(x, x1.shape)\n",
        "      x = x + x1\n",
        "\n",
        "      out = self.final_conv(x)\n",
        "      out = out.permute(0, 1, 4, 2, 3)\n",
        "      return out ,[x3,x2,x1]\n"
      ]
    },
    {
      "cell_type": "code",
      "source": [
        "import numpy as np\n",
        "import torch\n",
        "from torch.utils.data import Dataset, DataLoader\n",
        "\n",
        "noisy_stack = np.stack(noisy_images[:100], axis=2)\n",
        "noisy_stack = np.transpose(noisy_stack, (0, 4, 3, 1, 2))\n",
        "clean_stack = np.transpose(X, (0, 3, 1, 2))\n",
        "clean_stack = np.expand_dims(clean_stack, axis=2)\n",
        "clean_stack = np.repeat(clean_stack, 100, axis=2)\n",
        "\n",
        "print(noisy_stack.shape)\n",
        "print(clean_stack.shape)"
      ],
      "metadata": {
        "id": "75qpWPDz7ztR",
        "colab": {
          "base_uri": "https://localhost:8080/"
        },
        "outputId": "8f7aff0d-a792-4dbb-d0b3-67e86af141a8"
      },
      "execution_count": 47,
      "outputs": [
        {
          "output_type": "stream",
          "name": "stdout",
          "text": [
            "(250, 2, 50, 50, 100)\n",
            "(250, 2, 100, 50, 50)\n"
          ]
        }
      ]
    },
    {
      "cell_type": "code",
      "source": [
        "class HyperspectralDataset(Dataset):\n",
        "    def __init__(self, noisy_data, clean_data):\n",
        "        self.noisy_data = torch.from_numpy(noisy_data).float()\n",
        "        self.clean_data = torch.from_numpy(clean_data).float()\n",
        "\n",
        "    def __len__(self):\n",
        "        return self.noisy_data.shape[0]\n",
        "\n",
        "    def __getitem__(self, idx):\n",
        "        return self.noisy_data[idx], self.clean_data[idx]\n"
      ],
      "metadata": {
        "id": "TbNif-dNXW24"
      },
      "execution_count": 48,
      "outputs": []
    },
    {
      "cell_type": "code",
      "source": [
        "BATCH_SIZE = 10\n",
        "dataset = HyperspectralDataset(noisy_stack, clean_stack)\n",
        "dataloader = DataLoader(dataset, batch_size=BATCH_SIZE, shuffle=True)"
      ],
      "metadata": {
        "id": "iwYqlrSAXW5i"
      },
      "execution_count": 49,
      "outputs": []
    },
    {
      "cell_type": "code",
      "source": [
        "model = SpectralSpatialDenoisingNet(in_channels=2, spectral_bands=100)"
      ],
      "metadata": {
        "id": "wJkg6mr4XW8M"
      },
      "execution_count": 50,
      "outputs": []
    },
    {
      "cell_type": "code",
      "source": [
        "import torch.nn as nn\n",
        "\n",
        "for batch_no, (x_batch, y_batch) in enumerate(dataloader):\n",
        "    output,features = model(x_batch)\n",
        "\n",
        "    # Example loss (e.g., MSE)\n",
        "    loss_fn = nn.MSELoss()\n",
        "    loss = loss_fn(output, y_batch)\n",
        "\n",
        "    print(f\"Batch {batch_no}: output shape = {output.shape}, loss = {loss.item()}\")\n"
      ],
      "metadata": {
        "colab": {
          "base_uri": "https://localhost:8080/"
        },
        "id": "_PAVrckJXW_p",
        "outputId": "9831cabe-9084-48fd-d808-733233588b16"
      },
      "execution_count": 51,
      "outputs": [
        {
          "output_type": "stream",
          "name": "stdout",
          "text": [
            "Batch 0: output shape = torch.Size([10, 2, 100, 50, 50]), loss = 0.3606562614440918\n",
            "Batch 1: output shape = torch.Size([10, 2, 100, 50, 50]), loss = 0.34691178798675537\n",
            "Batch 2: output shape = torch.Size([10, 2, 100, 50, 50]), loss = 0.3650847375392914\n",
            "Batch 3: output shape = torch.Size([10, 2, 100, 50, 50]), loss = 0.35946428775787354\n",
            "Batch 4: output shape = torch.Size([10, 2, 100, 50, 50]), loss = 0.36097896099090576\n",
            "Batch 5: output shape = torch.Size([10, 2, 100, 50, 50]), loss = 0.37744078040122986\n",
            "Batch 6: output shape = torch.Size([10, 2, 100, 50, 50]), loss = 0.3646683394908905\n",
            "Batch 7: output shape = torch.Size([10, 2, 100, 50, 50]), loss = 0.35607123374938965\n",
            "Batch 8: output shape = torch.Size([10, 2, 100, 50, 50]), loss = 0.3484843373298645\n",
            "Batch 9: output shape = torch.Size([10, 2, 100, 50, 50]), loss = 0.36305350065231323\n",
            "Batch 10: output shape = torch.Size([10, 2, 100, 50, 50]), loss = 0.36259448528289795\n",
            "Batch 11: output shape = torch.Size([10, 2, 100, 50, 50]), loss = 0.3674071133136749\n",
            "Batch 12: output shape = torch.Size([10, 2, 100, 50, 50]), loss = 0.368984580039978\n",
            "Batch 13: output shape = torch.Size([10, 2, 100, 50, 50]), loss = 0.36076363921165466\n",
            "Batch 14: output shape = torch.Size([10, 2, 100, 50, 50]), loss = 0.35666388273239136\n",
            "Batch 15: output shape = torch.Size([10, 2, 100, 50, 50]), loss = 0.3693571388721466\n",
            "Batch 16: output shape = torch.Size([10, 2, 100, 50, 50]), loss = 0.3545930087566376\n",
            "Batch 17: output shape = torch.Size([10, 2, 100, 50, 50]), loss = 0.34437495470046997\n",
            "Batch 18: output shape = torch.Size([10, 2, 100, 50, 50]), loss = 0.3552498519420624\n",
            "Batch 19: output shape = torch.Size([10, 2, 100, 50, 50]), loss = 0.36096981167793274\n",
            "Batch 20: output shape = torch.Size([10, 2, 100, 50, 50]), loss = 0.3449290692806244\n",
            "Batch 21: output shape = torch.Size([10, 2, 100, 50, 50]), loss = 0.3598455786705017\n",
            "Batch 22: output shape = torch.Size([10, 2, 100, 50, 50]), loss = 0.3625548779964447\n",
            "Batch 23: output shape = torch.Size([10, 2, 100, 50, 50]), loss = 0.3632425367832184\n",
            "Batch 24: output shape = torch.Size([10, 2, 100, 50, 50]), loss = 0.36603420972824097\n"
          ]
        }
      ]
    },
    {
      "cell_type": "code",
      "source": [
        "print(\"x_batch shape:\", x_batch.shape)\n",
        "print(\"y_batch shape:\", y_batch.shape)"
      ],
      "metadata": {
        "colab": {
          "base_uri": "https://localhost:8080/"
        },
        "id": "dygTLqSQgrmS",
        "outputId": "dd8edd57-7081-42b3-ec5e-60a57fb78c8f"
      },
      "execution_count": 52,
      "outputs": [
        {
          "output_type": "stream",
          "name": "stdout",
          "text": [
            "x_batch shape: torch.Size([10, 2, 50, 50, 100])\n",
            "y_batch shape: torch.Size([10, 2, 100, 50, 50])\n"
          ]
        }
      ]
    },
    {
      "cell_type": "code",
      "source": [
        "print(features[0].shape)\n",
        "print(features[1].shape)\n",
        "print(features[2].shape)"
      ],
      "metadata": {
        "colab": {
          "base_uri": "https://localhost:8080/"
        },
        "id": "PbqkEbK1V_PL",
        "outputId": "3760a543-f29a-4ff1-fd2d-07916afbbcf6"
      },
      "execution_count": 53,
      "outputs": [
        {
          "output_type": "stream",
          "name": "stdout",
          "text": [
            "torch.Size([10, 64, 13, 13, 25])\n",
            "torch.Size([10, 32, 25, 25, 50])\n",
            "torch.Size([10, 16, 50, 50, 100])\n"
          ]
        }
      ]
    },
    {
      "cell_type": "code",
      "source": [
        "import matplotlib.pyplot as plt\n",
        "\n",
        "# Just take one batch for visualization\n",
        "for x_batch, y_batch in dataloader:\n",
        "    output,features = model(x_batch)\n",
        "    break\n",
        "\n",
        "print(f\"Input shape  : {x_batch.shape}\")\n",
        "print(f\"Target shape : {y_batch.shape}\")\n",
        "print(f\"Output shape : {output.shape}\")\n",
        "\n",
        "# Pick one sample\n",
        "x_sample = x_batch[0].cpu().numpy()\n",
        "y_sample = y_batch[0].cpu().numpy()\n",
        "out_sample = output[0].detach().cpu().numpy()\n",
        "\n",
        "band_idx = 99  # Should be between 0 and 99\n",
        "channel_idx = 0  # 0 or 1\n",
        "\n",
        "# Extract spatial 2D slices\n",
        "input_slice = x_sample[channel_idx, :, :, band_idx]           # shape: [50, 50]\n",
        "target_slice = y_sample[channel_idx, band_idx, :, :]          # shape: [50, 50]\n",
        "output_slice = out_sample[channel_idx, band_idx, :, :]        # shape: [50, 50]\n",
        "\n",
        "# Plot all three\n",
        "plt.figure(figsize=(12, 4))\n",
        "\n",
        "plt.subplot(1, 3, 1)\n",
        "plt.imshow(input_slice, cmap='gray')\n",
        "plt.title(\"Noisy Input\")\n",
        "plt.colorbar()\n",
        "\n",
        "plt.subplot(1, 3, 2)\n",
        "plt.imshow(output_slice, cmap='gray')\n",
        "plt.title(\"Denoised Output\")\n",
        "plt.colorbar()\n",
        "\n",
        "plt.subplot(1, 3, 3)\n",
        "plt.imshow(target_slice, cmap='gray')\n",
        "plt.title(\"Clean Target\")\n",
        "plt.colorbar()\n",
        "\n",
        "plt.suptitle(f\"Visualization at Band {band_idx}, Channel {channel_idx}\")\n",
        "plt.tight_layout()\n",
        "plt.show()\n"
      ],
      "metadata": {
        "colab": {
          "base_uri": "https://localhost:8080/",
          "height": 427
        },
        "id": "od_X03yOg2D8",
        "outputId": "1fe70bf5-ac3e-4935-80f2-d3d8dca82fe7"
      },
      "execution_count": 54,
      "outputs": [
        {
          "output_type": "stream",
          "name": "stdout",
          "text": [
            "Input shape  : torch.Size([10, 2, 50, 50, 100])\n",
            "Target shape : torch.Size([10, 2, 100, 50, 50])\n",
            "Output shape : torch.Size([10, 2, 100, 50, 50])\n"
          ]
        },
        {
          "output_type": "display_data",
          "data": {
            "text/plain": [
              "<Figure size 1200x400 with 6 Axes>"
            ],
            "image/png": "[encoded data removed]"
          },
          "metadata": {}
        }
      ]
    },
    {
      "cell_type": "code",
      "source": [
        "import torch.nn.functional as F\n",
        "\n",
        "def get_diffusion_feature_tensor(features):\n",
        "    # Target spatial size from last feature\n",
        "    target_size = features[-1].shape[2:]  # e.g. (H,W) or (D,H,W)\n",
        "    upsampled_feats = []\n",
        "    for f in features:\n",
        "        f_up = F.interpolate(f, size=target_size, mode=\"trilinear\", align_corners=False)\n",
        "        upsampled_feats.append(f_up)\n",
        "    # Now concatenate along channel dim\n",
        "    F_cat = torch.cat(upsampled_feats, dim=1)\n",
        "    return F_cat\n",
        "\n",
        "\n",
        "def extract_patch_tensor(features, kernel_size=3):\n",
        "\n",
        "    B, C, H, W = features.shape\n",
        "    patches = F.unfold(features, kernel_size=kernel_size, padding=kernel_size // 2)  # [B, C*k*k, H*W]\n",
        "    patches = patches.permute(0, 2, 1)  # [B, H*W, C*k*k]\n",
        "    patches = patches.view(B, H * W, C, kernel_size, kernel_size)  # [B, H*W, C, k, k]\n",
        "    return patches\n"
      ],
      "metadata": {
        "id": "H5UhcjQ0nB45"
      },
      "execution_count": 20,
      "outputs": []
    },
    {
      "cell_type": "code",
      "source": [
        "print(\"clean_stack.shape:\", y.shape)\n",
        "masked_ratio = np.mean(y, axis=(1, 2, 3))\n",
        "print(\"masked_ratio.shape:\", masked_ratio.shape)\n",
        "threshold = np.median(masked_ratio)\n",
        "#print(threshold)\n",
        "labels_binary = (masked_ratio > threshold).astype(int)\n",
        "print(\"labels_binary.shape:\", labels_binary.shape)\n"
      ],
      "metadata": {
        "colab": {
          "base_uri": "https://localhost:8080/"
        },
        "id": "E_Og1XqDfEZa",
        "outputId": "f0916fed-bdf2-461b-aac5-c8062fcc2761"
      },
      "execution_count": 21,
      "outputs": [
        {
          "output_type": "stream",
          "name": "stdout",
          "text": [
            "clean_stack.shape: (90, 50, 50, 1)\n",
            "masked_ratio.shape: (90,)\n",
            "labels_binary.shape: (90,)\n"
          ]
        }
      ]
    },
    {
      "cell_type": "code",
      "source": [
        "import matplotlib.pyplot as plt\n",
        "\n",
        "plt.hist(masked_ratio, bins=20)\n",
        "plt.title(\"Distribution of masked_ratio\")\n",
        "plt.xlabel(\"masked_ratio\")\n",
        "plt.ylabel(\"Count\")\n",
        "plt.show()\n",
        "\n",
        "print(\"min:\", masked_ratio.min(), \"max:\", masked_ratio.max())\n"
      ],
      "metadata": {
        "colab": {
          "base_uri": "https://localhost:8080/",
          "height": 489
        },
        "id": "p6ii-uo1lXiU",
        "outputId": "d29a71e3-946a-429a-fdca-39aff8aa6111"
      },
      "execution_count": 25,
      "outputs": [
        {
          "output_type": "display_data",
          "data": {
            "text/plain": [
              "<Figure size 640x480 with 1 Axes>"
            ],
            "image/png": "[encoded data removed]"
          },
          "metadata": {}
        },
        {
          "output_type": "stream",
          "name": "stdout",
          "text": [
            "min: 0.8038997227801349 max: 1.0002292641302708\n"
          ]
        }
      ]
    },
    {
      "cell_type": "code",
      "source": [
        "class ClassifierDataset(Dataset):\n",
        "    def __init__(self, noisy_data, labels_binary):\n",
        "        self.noisy_data = torch.from_numpy(noisy_data).float()  # Shape: [N, 2, 100, 50, 50]\n",
        "        self.labels = torch.from_numpy(labels_binary).long()    # Shape: [N]\n",
        "\n",
        "    def __len__(self):\n",
        "        return len(self.noisy_data)\n",
        "\n",
        "    def __getitem__(self, idx):\n",
        "        return self.noisy_data[idx], self.labels[idx]\n",
        "\n",
        "classifier_dataset = ClassifierDataset(noisy_stack, labels_binary)\n"
      ],
      "metadata": {
        "id": "yhP8k-B_fKNf"
      },
      "execution_count": 22,
      "outputs": []
    },
    {
      "cell_type": "code",
      "source": [
        "from torch.utils.data import random_split\n",
        "\n",
        "total_size = len(classifier_dataset)\n",
        "train_size = int(0.7 * total_size)\n",
        "test_size = total_size - train_size   # Ensure all data is used\n",
        "\n",
        "# Fixed seed via generator\n",
        "train_dataset,test_dataset = random_split(\n",
        "    classifier_dataset,\n",
        "    [train_size,test_size],\n",
        "    generator=torch.Generator().manual_seed(42)\n",
        ")"
      ],
      "metadata": {
        "id": "oNER-lftfNEa"
      },
      "execution_count": 23,
      "outputs": []
    },
    {
      "cell_type": "code",
      "source": [
        "from torch.utils.data import DataLoader\n",
        "\n",
        "train_loader = DataLoader(train_dataset, batch_size=16, shuffle=True)\n",
        "test_loader = DataLoader(test_dataset, batch_size=16, shuffle=False)\n"
      ],
      "metadata": {
        "id": "0bD0Cd4NzLt-"
      },
      "execution_count": 24,
      "outputs": []
    },
    {
      "cell_type": "code",
      "source": [
        "print(labels_binary.shape)\n",
        "print(noisy_stack.shape)"
      ],
      "metadata": {
        "colab": {
          "base_uri": "https://localhost:8080/"
        },
        "id": "JyZyZs-JiMC8",
        "outputId": "70d129c2-a4cc-4b52-8cc9-96ceba26a33f"
      },
      "execution_count": 25,
      "outputs": [
        {
          "output_type": "stream",
          "name": "stdout",
          "text": [
            "(90,)\n",
            "(90, 2, 50, 50, 100)\n"
          ]
        }
      ]
    },
    {
      "cell_type": "code",
      "source": [
        "class PatchTokenizer(nn.Module):\n",
        "    def __init__(self, in_channels, embed_dim):\n",
        "        super().__init__()\n",
        "        self.conv = nn.Conv2d(in_channels, in_channels, kernel_size=3, padding=1)  # keeps shape\n",
        "        self.bn = nn.BatchNorm2d(in_channels)\n",
        "        self.relu = nn.ReLU()\n",
        "        self.project = nn.Linear(in_channels * 3 * 3, embed_dim)\n",
        "\n",
        "\n",
        "    def forward(self, patch_tensor):\n",
        "        # patch_tensor: [B, N, C, k, k]\n",
        "        B, N, C, k, _ = patch_tensor.shape\n",
        "        patch_tensor = patch_tensor.reshape(B * N, C, k, k)\n",
        "        x = self.relu(self.bn(self.conv(patch_tensor)))  # [B*N, C, k, k]\n",
        "        x = x.view(B * N, -1)  # Flatten\n",
        "        tokens = self.project(x)  # [B*N, embed_dim]\n",
        "        return tokens.view(B, N, -1)  # [B, N, embed_dim]\n"
      ],
      "metadata": {
        "id": "SfYFrpHw0QGY"
      },
      "execution_count": 26,
      "outputs": []
    },
    {
      "cell_type": "code",
      "source": [
        "import torch\n",
        "import torch.nn as nn\n",
        "import math\n",
        "\n",
        "class SinusoidalPositionalEncoding(nn.Module):\n",
        "    def __init__(self, embed_dim, max_len=5000):\n",
        "        super().__init__()\n",
        "\n",
        "        pe = torch.zeros(max_len, embed_dim)  # (max_len, embed_dim)\n",
        "        position = torch.arange(0, max_len, dtype=torch.float).unsqueeze(1)  # (max_len, 1)\n",
        "        div_term = torch.exp(torch.arange(0, embed_dim, 2).float() * (-math.log(10000.0) / embed_dim))\n",
        "\n",
        "        pe[:, 0::2] = torch.sin(position * div_term)  # even indices\n",
        "        pe[:, 1::2] = torch.cos(position * div_term)  # odd indices\n",
        "\n",
        "        pe = pe.unsqueeze(0)  # (1, max_len, embed_dim)\n",
        "\n",
        "        # Register as buffer so it is saved but not a parameter\n",
        "        self.register_buffer('pe', pe)\n",
        "\n",
        "    def forward(self, x):\n",
        "        seq_len = x.size(1)\n",
        "        return x + self.pe[:, :seq_len, :]\n"
      ],
      "metadata": {
        "id": "lo2QxF1z-l4M"
      },
      "execution_count": 27,
      "outputs": []
    },
    {
      "cell_type": "code",
      "source": [
        "class TransformerClassifier(nn.Module):\n",
        "    def __init__(self, embed_dim=128, num_heads=4, num_layers=4, num_classes=2, max_tokens=5000):\n",
        "        super().__init__()\n",
        "        self.pos_encoder = SinusoidalPositionalEncoding(embed_dim, max_len=max_tokens)\n",
        "\n",
        "        encoder_layer = nn.TransformerEncoderLayer(d_model=embed_dim, nhead=num_heads, batch_first=True)\n",
        "        self.transformer = nn.TransformerEncoder(encoder_layer, num_layers=num_layers)\n",
        "\n",
        "        self.mlp_head = nn.Sequential(\n",
        "            nn.LayerNorm(embed_dim),\n",
        "            nn.Linear(embed_dim, num_classes)\n",
        "        )\n",
        "\n",
        "    def forward(self, tokens):\n",
        "        # tokens: [B, N, embed_dim]\n",
        "        tokens = self.pos_encoder(tokens)\n",
        "        x = self.transformer(tokens)  # [B, N, embed_dim]\n",
        "        x = x.mean(dim=1)             # global average pooling over tokens\n",
        "        return self.mlp_head(x)       # [B, num_classes]\n"
      ],
      "metadata": {
        "id": "P6pPZZrl0QGa"
      },
      "execution_count": 28,
      "outputs": []
    },
    {
      "cell_type": "code",
      "source": [
        "class AttentionBasedClassifier(nn.Module):\n",
        "    def __init__(self, in_channels, embed_dim=128, num_classes=16):\n",
        "        super().__init__()\n",
        "        self.tokenizer = PatchTokenizer(in_channels, embed_dim)\n",
        "        self.encoder = TransformerClassifier(embed_dim, num_classes=num_classes)\n",
        "\n",
        "    def forward(self, features):\n",
        "        # features: [B, C, H, W]\n",
        "        patches = extract_patch_tensor(features)  # [B, N, C, k, k]\n",
        "        tokens = self.tokenizer(patches)         # [B, N, embed_dim]\n",
        "        out = self.encoder(tokens)               # [B, num_classes]\n",
        "        return out\n"
      ],
      "metadata": {
        "id": "uCYe0cIs0QGa"
      },
      "execution_count": 29,
      "outputs": []
    },
    {
      "cell_type": "code",
      "source": [
        "combined_features = get_diffusion_feature_tensor(features)\n",
        "print(combined_features.shape)  # [B, C_total, H, W]\n",
        "in_channels = combined_features.shape[1]\n"
      ],
      "metadata": {
        "colab": {
          "base_uri": "https://localhost:8080/"
        },
        "id": "IQvCzxUE8cVs",
        "outputId": "827b496d-6d39-4ba9-bb39-df92d64a4f60"
      },
      "execution_count": 30,
      "outputs": [
        {
          "output_type": "stream",
          "name": "stdout",
          "text": [
            "torch.Size([10, 112, 50, 50, 100])\n"
          ]
        }
      ]
    },
    {
      "cell_type": "code",
      "source": [
        "import torch\n",
        "from torch.utils.data import DataLoader\n",
        "import torch.nn as nn\n",
        "import torch.optim as optim\n",
        "noisy_images, noise = forward_diffusion(X, alpha_bars)  # both are list of [N, H, W, C]\n",
        "#initialized model before\n",
        "#model = SpectralSpatialDenoisingNet(in_channels=2).to(device)\n",
        "criterion = nn.CrossEntropyLoss()"
      ],
      "metadata": {
        "id": "wr4AHWM22TFx"
      },
      "execution_count": 31,
      "outputs": []
    },
    {
      "cell_type": "markdown",
      "source": [],
      "metadata": {
        "id": "Gz6-Vl3YAaFh"
      }
    },
    {
      "cell_type": "code",
      "source": [
        "device = torch.device(\"cuda\" if torch.cuda.is_available() else \"cpu\")\n"
      ],
      "metadata": {
        "id": "BWvidkFNAakF"
      },
      "execution_count": 32,
      "outputs": []
    },
    {
      "cell_type": "code",
      "source": [
        "print(in_channels)"
      ],
      "metadata": {
        "colab": {
          "base_uri": "https://localhost:8080/"
        },
        "id": "nwqJLRtlBAJd",
        "outputId": "9f18d4af-e38b-40a5-d41c-2e49007cc549"
      },
      "execution_count": 33,
      "outputs": [
        {
          "output_type": "stream",
          "name": "stdout",
          "text": [
            "112\n"
          ]
        }
      ]
    },
    {
      "cell_type": "code",
      "source": [
        "embed_dim = 128                          # Choose embedding size (start with 128)\n",
        "num_classes = 2\n",
        "classifier = AttentionBasedClassifier(in_channels=in_channels, embed_dim=128, num_classes=2)\n",
        "classifier = classifier.to(device)"
      ],
      "metadata": {
        "id": "-X6dc7yj6EDg"
      },
      "execution_count": 34,
      "outputs": []
    },
    {
      "cell_type": "code",
      "source": [],
      "metadata": {
        "id": "afIe7tcgCK_V"
      },
      "execution_count": 125,
      "outputs": []
    },
    {
      "cell_type": "code",
      "source": [
        "# Assuming:\n",
        "# model: SpectralSpatialDenoisingNet instance\n",
        "# classifier: AttentionBasedClassifier instance\n",
        "#classifier_dataset = ClassifierDataset(noisy_stack, labels_binary)\n",
        "#train_dataloader = DataLoader(classifier_dataset, batch_size=16, shuffle=True)\n",
        "\n",
        "# criterion: classification loss, e.g. nn.CrossEntropyLoss()\n",
        "criterion = nn.CrossEntropyLoss()\n",
        "# optimizer: optimizer for classifier parameters (and denoiser if training jointly)\n",
        "optimizer = optim.Adam(classifier.parameters(), lr=1e-4)\n",
        "# device: cuda or cpu\n",
        "model=model.to(device)\n",
        "\n",
        "\n",
        "for epoch in range(EPOCHS):\n",
        "    model.eval()  # Freeze denoiser\n",
        "    classifier.train()\n",
        "\n",
        "    running_loss = 0.0\n",
        "    running_corrects = 0\n",
        "    total_samples = 0\n",
        "\n",
        "    for inputs, labels in train_loader:\n",
        "        inputs = inputs.to(device)\n",
        "        labels = labels.to(device)  # e.g. shape: [B, C, H, W]\n",
        "        labels = labels.long()\n",
        "\n",
        "\n",
        "        with torch.no_grad():\n",
        "            features = model(inputs, return_features=True)  # list of tensors\n",
        "\n",
        "\n",
        "        combined_features = get_diffusion_feature_tensor(features)  # [B, C_total, H, W]\n",
        "        # From shape [B, C, H, W, D]\n",
        "        features_4d = combined_features.mean(dim=-1)  # or dim=1 if you want to collapse channels\n",
        "\n",
        "        outputs = classifier(features_4d)\n",
        "\n",
        "\n",
        "        #outputs = classifier(combined_features)  # [B, num_classes]\n",
        "        loss = criterion(outputs, labels)\n",
        "\n",
        "        optimizer.zero_grad()\n",
        "        loss.backward()\n",
        "        optimizer.step()\n",
        "\n",
        "        # --- Tracking ---\n",
        "        running_loss += loss.item() * inputs.size(0)\n",
        "        preds = torch.argmax(outputs, dim=1)\n",
        "\n",
        "        running_corrects += torch.sum(preds == labels).item()\n",
        "        total_samples += inputs.size(0)\n",
        "\n",
        "\n",
        "    epoch_loss = running_loss / total_samples\n",
        "    epoch_acc = float(running_corrects) / total_samples\n",
        "\n",
        "    print(f\"Epoch {epoch+1}/{EPOCHS} - Loss: {epoch_loss:.4f}, Acc: {epoch_acc:.4f}\")\n"
      ],
      "metadata": {
        "colab": {
          "base_uri": "https://localhost:8080/"
        },
        "id": "Q1su-XaOnB-9",
        "outputId": "64e72055-516b-49cb-e6a7-20403cb454d6"
      },
      "execution_count": 35,
      "outputs": [
        {
          "output_type": "stream",
          "name": "stdout",
          "text": [
            "Epoch 1/50 - Loss: 0.9079, Acc: 0.4516\n",
            "Epoch 2/50 - Loss: 0.7567, Acc: 0.4839\n",
            "Epoch 3/50 - Loss: 0.7063, Acc: 0.4839\n",
            "Epoch 4/50 - Loss: 0.7189, Acc: 0.5161\n",
            "Epoch 5/50 - Loss: 0.6965, Acc: 0.5161\n",
            "Epoch 6/50 - Loss: 0.6947, Acc: 0.5161\n",
            "Epoch 7/50 - Loss: 0.7018, Acc: 0.4839\n",
            "Epoch 8/50 - Loss: 0.6926, Acc: 0.5323\n",
            "Epoch 9/50 - Loss: 0.7030, Acc: 0.5161\n",
            "Epoch 10/50 - Loss: 0.6930, Acc: 0.5161\n",
            "Epoch 11/50 - Loss: 0.6929, Acc: 0.4355\n",
            "Epoch 12/50 - Loss: 0.6932, Acc: 0.4839\n",
            "Epoch 13/50 - Loss: 0.6892, Acc: 0.5806\n",
            "Epoch 14/50 - Loss: 0.6952, Acc: 0.5161\n",
            "Epoch 15/50 - Loss: 0.6899, Acc: 0.5161\n",
            "Epoch 16/50 - Loss: 0.6861, Acc: 0.5806\n",
            "Epoch 17/50 - Loss: 0.6954, Acc: 0.5323\n",
            "Epoch 18/50 - Loss: 0.6992, Acc: 0.4516\n",
            "Epoch 19/50 - Loss: 0.6984, Acc: 0.4355\n",
            "Epoch 20/50 - Loss: 0.6946, Acc: 0.5161\n",
            "Epoch 21/50 - Loss: 0.6809, Acc: 0.6129\n",
            "Epoch 22/50 - Loss: 0.6946, Acc: 0.4032\n",
            "Epoch 23/50 - Loss: 0.6778, Acc: 0.4677\n",
            "Epoch 24/50 - Loss: 0.6767, Acc: 0.6613\n",
            "Epoch 25/50 - Loss: 0.6816, Acc: 0.5806\n",
            "Epoch 26/50 - Loss: 0.6859, Acc: 0.5000\n",
            "Epoch 27/50 - Loss: 0.6592, Acc: 0.5323\n",
            "Epoch 28/50 - Loss: 0.6741, Acc: 0.6935\n",
            "Epoch 29/50 - Loss: 0.6505, Acc: 0.6774\n",
            "Epoch 30/50 - Loss: 0.6524, Acc: 0.5968\n",
            "Epoch 31/50 - Loss: 0.6309, Acc: 0.6774\n",
            "Epoch 32/50 - Loss: 0.6465, Acc: 0.6935\n",
            "Epoch 33/50 - Loss: 0.6026, Acc: 0.6774\n",
            "Epoch 34/50 - Loss: 0.6029, Acc: 0.6774\n",
            "Epoch 35/50 - Loss: 0.6255, Acc: 0.6774\n",
            "Epoch 36/50 - Loss: 0.6740, Acc: 0.6774\n",
            "Epoch 37/50 - Loss: 0.5893, Acc: 0.6935\n",
            "Epoch 38/50 - Loss: 0.6215, Acc: 0.6774\n",
            "Epoch 39/50 - Loss: 0.5644, Acc: 0.6774\n",
            "Epoch 40/50 - Loss: 0.6501, Acc: 0.6290\n",
            "Epoch 41/50 - Loss: 0.5500, Acc: 0.6935\n",
            "Epoch 42/50 - Loss: 0.5858, Acc: 0.6935\n",
            "Epoch 43/50 - Loss: 0.5878, Acc: 0.6774\n",
            "Epoch 44/50 - Loss: 0.5228, Acc: 0.6935\n",
            "Epoch 45/50 - Loss: 0.6217, Acc: 0.6452\n",
            "Epoch 46/50 - Loss: 0.5438, Acc: 0.7097\n",
            "Epoch 47/50 - Loss: 0.5115, Acc: 0.7581\n",
            "Epoch 48/50 - Loss: 0.4851, Acc: 0.7419\n",
            "Epoch 49/50 - Loss: 0.4603, Acc: 0.7903\n",
            "Epoch 50/50 - Loss: 0.4515, Acc: 0.7903\n"
          ]
        }
      ]
    },
    {
      "cell_type": "code",
      "source": [
        "print(\"Class counts:\", np.bincount(labels_binary))\n"
      ],
      "metadata": {
        "colab": {
          "base_uri": "https://localhost:8080/"
        },
        "id": "23nv0HsdkfNV",
        "outputId": "9cd66105-3dcd-4d27-981d-69c28d38b510"
      },
      "execution_count": 36,
      "outputs": [
        {
          "output_type": "stream",
          "name": "stdout",
          "text": [
            "Class counts: [45 45]\n"
          ]
        }
      ]
    },
    {
      "cell_type": "code",
      "source": [
        "print(labels.dtype, labels.unique())  # should be torch.int64 and [0, 1]\n"
      ],
      "metadata": {
        "colab": {
          "base_uri": "https://localhost:8080/"
        },
        "id": "zwqzGSBErjiQ",
        "outputId": "1d8b333a-c681-4a88-b2c8-a31177d9887c"
      },
      "execution_count": 37,
      "outputs": [
        {
          "output_type": "stream",
          "name": "stdout",
          "text": [
            "torch.int64 tensor([0, 1], device='cuda:0')\n"
          ]
        }
      ]
    },
    {
      "cell_type": "code",
      "source": [
        "for inputs, labels in train_loader:\n",
        "    print(\"Labels in batch:\", labels)\n",
        "    print(\"Unique labels:\", torch.unique(labels))\n",
        "    break\n"
      ],
      "metadata": {
        "colab": {
          "base_uri": "https://localhost:8080/"
        },
        "id": "mzGEiqbIkLTZ",
        "outputId": "68a858f4-3ce6-4c99-fa5e-88a77f346246"
      },
      "execution_count": 38,
      "outputs": [
        {
          "output_type": "stream",
          "name": "stdout",
          "text": [
            "Labels in batch: tensor([1, 1, 0, 0, 0, 1, 1, 0, 1, 0, 0, 1, 0, 0, 1, 1])\n",
            "Unique labels: tensor([0, 1])\n"
          ]
        }
      ]
    },
    {
      "cell_type": "code",
      "source": [
        "import numpy as np\n",
        "import pandas as pd\n",
        "import time\n",
        "from sklearn.metrics import (\n",
        "    accuracy_score, balanced_accuracy_score, precision_score,\n",
        "    recall_score, f1_score, jaccard_score, cohen_kappa_score\n",
        ")\n",
        "import torch\n",
        "\n",
        "def compute_metrics(phase, true_labels, predicted_labels):\n",
        "    flat_true = np.ravel(true_labels)\n",
        "    flat_pred = np.ravel(predicted_labels)\n",
        "\n",
        "    return {\n",
        "        \"Timestamp\": time.strftime(\"%Y-%m-%d %H:%M:%S\"),\n",
        "        \"Phase\": phase,\n",
        "        \"Accuracy\": accuracy_score(flat_true, flat_pred),\n",
        "        \"Balanced Accuracy\": balanced_accuracy_score(flat_true, flat_pred),\n",
        "        \"Precision\": precision_score(flat_true, flat_pred, average='macro', zero_division=0),\n",
        "        \"Recall\": recall_score(flat_true, flat_pred, average='macro', zero_division=0),\n",
        "        \"F1 Score\": f1_score(flat_true, flat_pred, average='macro', zero_division=0),\n",
        "        \"IoU\": jaccard_score(flat_true, flat_pred, average='macro', zero_division=0),\n",
        "        \"Cohen Kappa\": cohen_kappa_score(flat_true, flat_pred),\n",
        "        \"Positive %\": round(np.mean(flat_true) * 100, 2),\n",
        "    }\n",
        "\n",
        "def evaluate_and_log(model,classifier, dataloader, device, phase):\n",
        "    model.eval()\n",
        "    classifier.eval()\n",
        "    all_preds = []\n",
        "    all_labels = []\n",
        "\n",
        "    with torch.no_grad():\n",
        "        for inputs, labels in dataloader:\n",
        "            inputs = inputs.to(device)\n",
        "            labels = labels.to(device)\n",
        "            _,features=model(inputs,return_features=False)\n",
        "            combined_features = get_diffusion_feature_tensor(features)  # [B, C_total, H, W]\n",
        "            # From shape [B, C, H, W, D]\n",
        "            features_4d = combined_features.mean(dim=-1)\n",
        "\n",
        "            outputs = classifier(features_4d)\n",
        "            preds = torch.argmax(outputs, dim=1)\n",
        "\n",
        "            all_preds.extend(preds.cpu().numpy())\n",
        "            all_labels.extend(labels.cpu().numpy())\n",
        "\n",
        "    metrics = compute_metrics(phase, all_labels, all_preds)\n",
        "    return metrics\n"
      ],
      "metadata": {
        "id": "AnazlJrAztGy"
      },
      "execution_count": 39,
      "outputs": []
    },
    {
      "cell_type": "code",
      "source": [
        "device = torch.device('cuda' if torch.cuda.is_available() else 'cpu')\n",
        "model.to(device)\n",
        "\n",
        "train_metrics = evaluate_and_log(model,classifier, train_loader, device, \"train\")\n",
        "test_metrics = evaluate_and_log(model,classifier, test_loader, device, \"test\")\n",
        "\n",
        "# Combine into DataFrame\n",
        "metrics_df = pd.DataFrame([train_metrics, test_metrics])\n",
        "\n",
        "# Save to CSV\n",
        "metrics_df.to_csv(f\"spectraldiff_{country}.csv\", index=False)\n",
        "print(\"Saved metrics\")\n"
      ],
      "metadata": {
        "colab": {
          "base_uri": "https://localhost:8080/"
        },
        "id": "XP7cZc7mztNE",
        "outputId": "5df052c0-ba6a-4479-8a06-cba0a60932f7"
      },
      "execution_count": 41,
      "outputs": [
        {
          "output_type": "stream",
          "name": "stdout",
          "text": [
            "✅ Saved metrics to metrics.csv\n"
          ]
        }
      ]
    }
  ]
}