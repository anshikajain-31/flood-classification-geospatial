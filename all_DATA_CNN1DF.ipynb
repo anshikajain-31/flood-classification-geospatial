{
  "nbformat": 4,
  "nbformat_minor": 0,
  "metadata": {
    "colab": {
      "provenance": [],
      "gpuType": "T4"
    },
    "kernelspec": {
      "name": "python3",
      "display_name": "Python 3"
    },
    "language_info": {
      "name": "python"
    },
    "accelerator": "GPU"
  },
  "cells": [
    {
      "cell_type": "code",
      "execution_count": null,
      "metadata": {
        "colab": {
          "base_uri": "https://localhost:8080/"
        },
        "id": "ytH0n8NB828E",
        "outputId": "bc37253a-5485-4b2b-d938-d7b86da1d771"
      },
      "outputs": [
        {
          "output_type": "stream",
          "name": "stdout",
          "text": [
            "Collecting ipynbname\n",
            "  Downloading ipynbname-2024.1.0.0-py3-none-any.whl.metadata (1.9 kB)\n",
            "Requirement already satisfied: ipykernel in /usr/local/lib/python3.11/dist-packages (from ipynbname) (6.17.1)\n",
            "Requirement already satisfied: debugpy>=1.0 in /usr/local/lib/python3.11/dist-packages (from ipykernel->ipynbname) (1.8.0)\n",
            "Requirement already satisfied: ipython>=7.23.1 in /usr/local/lib/python3.11/dist-packages (from ipykernel->ipynbname) (7.34.0)\n",
            "Requirement already satisfied: jupyter-client>=6.1.12 in /usr/local/lib/python3.11/dist-packages (from ipykernel->ipynbname) (6.1.12)\n",
            "Requirement already satisfied: matplotlib-inline>=0.1 in /usr/local/lib/python3.11/dist-packages (from ipykernel->ipynbname) (0.1.7)\n",
            "Requirement already satisfied: nest-asyncio in /usr/local/lib/python3.11/dist-packages (from ipykernel->ipynbname) (1.6.0)\n",
            "Requirement already satisfied: packaging in /usr/local/lib/python3.11/dist-packages (from ipykernel->ipynbname) (24.2)\n",
            "Requirement already satisfied: psutil in /usr/local/lib/python3.11/dist-packages (from ipykernel->ipynbname) (5.9.5)\n",
            "Requirement already satisfied: pyzmq>=17 in /usr/local/lib/python3.11/dist-packages (from ipykernel->ipynbname) (24.0.1)\n",
            "Requirement already satisfied: tornado>=6.1 in /usr/local/lib/python3.11/dist-packages (from ipykernel->ipynbname) (6.4.2)\n",
            "Requirement already satisfied: traitlets>=5.1.0 in /usr/local/lib/python3.11/dist-packages (from ipykernel->ipynbname) (5.7.1)\n",
            "Requirement already satisfied: setuptools>=18.5 in /usr/local/lib/python3.11/dist-packages (from ipython>=7.23.1->ipykernel->ipynbname) (75.2.0)\n",
            "Collecting jedi>=0.16 (from ipython>=7.23.1->ipykernel->ipynbname)\n",
            "  Downloading jedi-0.19.2-py2.py3-none-any.whl.metadata (22 kB)\n",
            "Requirement already satisfied: decorator in /usr/local/lib/python3.11/dist-packages (from ipython>=7.23.1->ipykernel->ipynbname) (4.4.2)\n",
            "Requirement already satisfied: pickleshare in /usr/local/lib/python3.11/dist-packages (from ipython>=7.23.1->ipykernel->ipynbname) (0.7.5)\n",
            "Requirement already satisfied: prompt-toolkit!=3.0.0,!=3.0.1,<3.1.0,>=2.0.0 in /usr/local/lib/python3.11/dist-packages (from ipython>=7.23.1->ipykernel->ipynbname) (3.0.51)\n",
            "Requirement already satisfied: pygments in /usr/local/lib/python3.11/dist-packages (from ipython>=7.23.1->ipykernel->ipynbname) (2.19.1)\n",
            "Requirement already satisfied: backcall in /usr/local/lib/python3.11/dist-packages (from ipython>=7.23.1->ipykernel->ipynbname) (0.2.0)\n",
            "Requirement already satisfied: pexpect>4.3 in /usr/local/lib/python3.11/dist-packages (from ipython>=7.23.1->ipykernel->ipynbname) (4.9.0)\n",
            "Requirement already satisfied: jupyter-core>=4.6.0 in /usr/local/lib/python3.11/dist-packages (from jupyter-client>=6.1.12->ipykernel->ipynbname) (5.7.2)\n",
            "Requirement already satisfied: python-dateutil>=2.1 in /usr/local/lib/python3.11/dist-packages (from jupyter-client>=6.1.12->ipykernel->ipynbname) (2.9.0.post0)\n",
            "Requirement already satisfied: parso<0.9.0,>=0.8.4 in /usr/local/lib/python3.11/dist-packages (from jedi>=0.16->ipython>=7.23.1->ipykernel->ipynbname) (0.8.4)\n",
            "Requirement already satisfied: platformdirs>=2.5 in /usr/local/lib/python3.11/dist-packages (from jupyter-core>=4.6.0->jupyter-client>=6.1.12->ipykernel->ipynbname) (4.3.8)\n",
            "Requirement already satisfied: ptyprocess>=0.5 in /usr/local/lib/python3.11/dist-packages (from pexpect>4.3->ipython>=7.23.1->ipykernel->ipynbname) (0.7.0)\n",
            "Requirement already satisfied: wcwidth in /usr/local/lib/python3.11/dist-packages (from prompt-toolkit!=3.0.0,!=3.0.1,<3.1.0,>=2.0.0->ipython>=7.23.1->ipykernel->ipynbname) (0.2.13)\n",
            "Requirement already satisfied: six>=1.5 in /usr/local/lib/python3.11/dist-packages (from python-dateutil>=2.1->jupyter-client>=6.1.12->ipykernel->ipynbname) (1.17.0)\n",
            "Downloading ipynbname-2024.1.0.0-py3-none-any.whl (4.3 kB)\n",
            "Downloading jedi-0.19.2-py2.py3-none-any.whl (1.6 MB)\n",
            "\u001b[2K   \u001b[90m━━━━━━━━━━━━━━━━━━━━━━━━━━━━━━━━━━━━━━━━\u001b[0m \u001b[32m1.6/1.6 MB\u001b[0m \u001b[31m34.7 MB/s\u001b[0m eta \u001b[36m0:00:00\u001b[0m\n",
            "\u001b[?25hInstalling collected packages: jedi, ipynbname\n",
            "Successfully installed ipynbname-2024.1.0.0 jedi-0.19.2\n",
            "Requirement already satisfied: gdown in /usr/local/lib/python3.11/dist-packages (5.2.0)\n",
            "Requirement already satisfied: beautifulsoup4 in /usr/local/lib/python3.11/dist-packages (from gdown) (4.13.4)\n",
            "Requirement already satisfied: filelock in /usr/local/lib/python3.11/dist-packages (from gdown) (3.18.0)\n",
            "Requirement already satisfied: requests[socks] in /usr/local/lib/python3.11/dist-packages (from gdown) (2.32.3)\n",
            "Requirement already satisfied: tqdm in /usr/local/lib/python3.11/dist-packages (from gdown) (4.67.1)\n",
            "Requirement already satisfied: soupsieve>1.2 in /usr/local/lib/python3.11/dist-packages (from beautifulsoup4->gdown) (2.7)\n",
            "Requirement already satisfied: typing-extensions>=4.0.0 in /usr/local/lib/python3.11/dist-packages (from beautifulsoup4->gdown) (4.13.2)\n",
            "Requirement already satisfied: charset-normalizer<4,>=2 in /usr/local/lib/python3.11/dist-packages (from requests[socks]->gdown) (3.4.2)\n",
            "Requirement already satisfied: idna<4,>=2.5 in /usr/local/lib/python3.11/dist-packages (from requests[socks]->gdown) (3.10)\n",
            "Requirement already satisfied: urllib3<3,>=1.21.1 in /usr/local/lib/python3.11/dist-packages (from requests[socks]->gdown) (2.4.0)\n",
            "Requirement already satisfied: certifi>=2017.4.17 in /usr/local/lib/python3.11/dist-packages (from requests[socks]->gdown) (2025.4.26)\n",
            "Requirement already satisfied: PySocks!=1.5.7,>=1.5.6 in /usr/local/lib/python3.11/dist-packages (from requests[socks]->gdown) (1.7.1)\n",
            "Notebook name: fileId=1uGuO31ZaUAFoIKq0U7AZ3v0uFPo0eJoF\n"
          ]
        }
      ],
      "source": [
        "!pip install ipynbname\n",
        "!pip install gdown --upgrade\n",
        "import ipynbname\n",
        "\n",
        "nb_path = ipynbname.path()  # returns a pathlib.Path object\n",
        "print(\"Notebook name:\", nb_path.name)"
      ]
    },
    {
      "cell_type": "code",
      "source": [
        "\n",
        "!pip install rasterio --quiet\n"
      ],
      "metadata": {
        "colab": {
          "base_uri": "https://localhost:8080/"
        },
        "id": "Nxo3hDIa-HPx",
        "outputId": "8badc610-5be8-4e65-cff6-c222574777c0"
      },
      "execution_count": 1,
      "outputs": [
        {
          "output_type": "stream",
          "name": "stdout",
          "text": [
            "\u001b[2K   \u001b[90m━━━━━━━━━━━━━━━━━━━━━━━━━━━━━━━━━━━━━━━━\u001b[0m \u001b[32m22.2/22.2 MB\u001b[0m \u001b[31m52.1 MB/s\u001b[0m eta \u001b[36m0:00:00\u001b[0m\n",
            "\u001b[?25h"
          ]
        }
      ]
    },
    {
      "cell_type": "code",
      "source": [],
      "metadata": {
        "id": "FJk4KS2F-HSu"
      },
      "execution_count": null,
      "outputs": []
    },
    {
      "cell_type": "code",
      "execution_count": 3,
      "metadata": {
        "id": "f7fcdc22-bf18-49a2-8119-34d93624d9ff"
      },
      "outputs": [],
      "source": [
        "import numpy as np\n",
        "import pandas as pd\n",
        "import os\n",
        "import rasterio\n",
        "from IPython.display import display\n",
        "import matplotlib.pyplot as plt\n",
        "import random\n",
        "import torch\n",
        "import torch.nn as nn\n",
        "import torch.nn.functional as F\n",
        "from sklearn.metrics import accuracy_score, balanced_accuracy_score, precision_score, recall_score, f1_score, jaccard_score, cohen_kappa_score\n",
        "from sklearn.model_selection import train_test_split\n"
      ]
    },
    {
      "cell_type": "code",
      "execution_count": 4,
      "metadata": {
        "colab": {
          "base_uri": "https://localhost:8080/"
        },
        "id": "9b5f3ec5-25cf-4969-8923-0240a23511e0",
        "outputId": "bb173956-4973-46d8-a234-4523254f8785"
      },
      "outputs": [
        {
          "output_type": "stream",
          "name": "stdout",
          "text": [
            "2.6.0+cu124\n",
            "CUDA available: True\n",
            "GPU name: Tesla T4\n"
          ]
        }
      ],
      "source": [
        "print(torch.__version__)\n",
        "print(\"CUDA available:\", torch.cuda.is_available())\n",
        "print(\"GPU name:\", torch.cuda.get_device_name(0) if torch.cuda.is_available() else \"N/A\")"
      ]
    },
    {
      "cell_type": "code",
      "source": [
        "from google.colab import files\n",
        "uploaded = files.upload()\n"
      ],
      "metadata": {
        "colab": {
          "base_uri": "https://localhost:8080/",
          "height": 73
        },
        "id": "498qPbqDWdMC",
        "outputId": "4a523727-b2c2-42bd-a8db-b0fcb7c27d78"
      },
      "execution_count": 5,
      "outputs": [
        {
          "output_type": "display_data",
          "data": {
            "text/plain": [
              "<IPython.core.display.HTML object>"
            ],
            "text/html": [
              "\n",
              "     <input type=\"file\" id=\"files-d4888164-4bd5-4247-9b81-3c814a856c90\" name=\"files[]\" multiple disabled\n",
              "        style=\"border:none\" />\n",
              "     <output id=\"result-d4888164-4bd5-4247-9b81-3c814a856c90\">\n",
              "      Upload widget is only available when the cell has been executed in the\n",
              "      current browser session. Please rerun this cell to enable.\n",
              "      </output>\n",
              "      <script>// Copyright 2017 Google LLC\n",
              "//\n",
              "// Licensed under the Apache License, Version 2.0 (the \"License\");\n",
              "// you may not use this file except in compliance with the License.\n",
              "// You may obtain a copy of the License at\n",
              "//\n",
              "//      http://www.apache.org/licenses/LICENSE-2.0\n",
              "//\n",
              "// Unless required by applicable law or agreed to in writing, software\n",
              "// distributed under the License is distributed on an \"AS IS\" BASIS,\n",
              "// WITHOUT WARRANTIES OR CONDITIONS OF ANY KIND, either express or implied.\n",
              "// See the License for the specific language governing permissions and\n",
              "// limitations under the License.\n",
              "\n",
              "/**\n",
              " * @fileoverview Helpers for google.colab Python module.\n",
              " */\n",
              "(function(scope) {\n",
              "function span(text, styleAttributes = {}) {\n",
              "  const element = document.createElement('span');\n",
              "  element.textContent = text;\n",
              "  for (const key of Object.keys(styleAttributes)) {\n",
              "    element.style[key] = styleAttributes[key];\n",
              "  }\n",
              "  return element;\n",
              "}\n",
              "\n",
              "// Max number of bytes which will be uploaded at a time.\n",
              "const MAX_PAYLOAD_SIZE = 100 * 1024;\n",
              "\n",
              "function _uploadFiles(inputId, outputId) {\n",
              "  const steps = uploadFilesStep(inputId, outputId);\n",
              "  const outputElement = document.getElementById(outputId);\n",
              "  // Cache steps on the outputElement to make it available for the next call\n",
              "  // to uploadFilesContinue from Python.\n",
              "  outputElement.steps = steps;\n",
              "\n",
              "  return _uploadFilesContinue(outputId);\n",
              "}\n",
              "\n",
              "// This is roughly an async generator (not supported in the browser yet),\n",
              "// where there are multiple asynchronous steps and the Python side is going\n",
              "// to poll for completion of each step.\n",
              "// This uses a Promise to block the python side on completion of each step,\n",
              "// then passes the result of the previous step as the input to the next step.\n",
              "function _uploadFilesContinue(outputId) {\n",
              "  const outputElement = document.getElementById(outputId);\n",
              "  const steps = outputElement.steps;\n",
              "\n",
              "  const next = steps.next(outputElement.lastPromiseValue);\n",
              "  return Promise.resolve(next.value.promise).then((value) => {\n",
              "    // Cache the last promise value to make it available to the next\n",
              "    // step of the generator.\n",
              "    outputElement.lastPromiseValue = value;\n",
              "    return next.value.response;\n",
              "  });\n",
              "}\n",
              "\n",
              "/**\n",
              " * Generator function which is called between each async step of the upload\n",
              " * process.\n",
              " * @param {string} inputId Element ID of the input file picker element.\n",
              " * @param {string} outputId Element ID of the output display.\n",
              " * @return {!Iterable<!Object>} Iterable of next steps.\n",
              " */\n",
              "function* uploadFilesStep(inputId, outputId) {\n",
              "  const inputElement = document.getElementById(inputId);\n",
              "  inputElement.disabled = false;\n",
              "\n",
              "  const outputElement = document.getElementById(outputId);\n",
              "  outputElement.innerHTML = '';\n",
              "\n",
              "  const pickedPromise = new Promise((resolve) => {\n",
              "    inputElement.addEventListener('change', (e) => {\n",
              "      resolve(e.target.files);\n",
              "    });\n",
              "  });\n",
              "\n",
              "  const cancel = document.createElement('button');\n",
              "  inputElement.parentElement.appendChild(cancel);\n",
              "  cancel.textContent = 'Cancel upload';\n",
              "  const cancelPromise = new Promise((resolve) => {\n",
              "    cancel.onclick = () => {\n",
              "      resolve(null);\n",
              "    };\n",
              "  });\n",
              "\n",
              "  // Wait for the user to pick the files.\n",
              "  const files = yield {\n",
              "    promise: Promise.race([pickedPromise, cancelPromise]),\n",
              "    response: {\n",
              "      action: 'starting',\n",
              "    }\n",
              "  };\n",
              "\n",
              "  cancel.remove();\n",
              "\n",
              "  // Disable the input element since further picks are not allowed.\n",
              "  inputElement.disabled = true;\n",
              "\n",
              "  if (!files) {\n",
              "    return {\n",
              "      response: {\n",
              "        action: 'complete',\n",
              "      }\n",
              "    };\n",
              "  }\n",
              "\n",
              "  for (const file of files) {\n",
              "    const li = document.createElement('li');\n",
              "    li.append(span(file.name, {fontWeight: 'bold'}));\n",
              "    li.append(span(\n",
              "        `(${file.type || 'n/a'}) - ${file.size} bytes, ` +\n",
              "        `last modified: ${\n",
              "            file.lastModifiedDate ? file.lastModifiedDate.toLocaleDateString() :\n",
              "                                    'n/a'} - `));\n",
              "    const percent = span('0% done');\n",
              "    li.appendChild(percent);\n",
              "\n",
              "    outputElement.appendChild(li);\n",
              "\n",
              "    const fileDataPromise = new Promise((resolve) => {\n",
              "      const reader = new FileReader();\n",
              "      reader.onload = (e) => {\n",
              "        resolve(e.target.result);\n",
              "      };\n",
              "      reader.readAsArrayBuffer(file);\n",
              "    });\n",
              "    // Wait for the data to be ready.\n",
              "    let fileData = yield {\n",
              "      promise: fileDataPromise,\n",
              "      response: {\n",
              "        action: 'continue',\n",
              "      }\n",
              "    };\n",
              "\n",
              "    // Use a chunked sending to avoid message size limits. See b/62115660.\n",
              "    let position = 0;\n",
              "    do {\n",
              "      const length = Math.min(fileData.byteLength - position, MAX_PAYLOAD_SIZE);\n",
              "      const chunk = new Uint8Array(fileData, position, length);\n",
              "      position += length;\n",
              "\n",
              "      const base64 = btoa(String.fromCharCode.apply(null, chunk));\n",
              "      yield {\n",
              "        response: {\n",
              "          action: 'append',\n",
              "          file: file.name,\n",
              "          data: base64,\n",
              "        },\n",
              "      };\n",
              "\n",
              "      let percentDone = fileData.byteLength === 0 ?\n",
              "          100 :\n",
              "          Math.round((position / fileData.byteLength) * 100);\n",
              "      percent.textContent = `${percentDone}% done`;\n",
              "\n",
              "    } while (position < fileData.byteLength);\n",
              "  }\n",
              "\n",
              "  // All done.\n",
              "  yield {\n",
              "    response: {\n",
              "      action: 'complete',\n",
              "    }\n",
              "  };\n",
              "}\n",
              "\n",
              "scope.google = scope.google || {};\n",
              "scope.google.colab = scope.google.colab || {};\n",
              "scope.google.colab._files = {\n",
              "  _uploadFiles,\n",
              "  _uploadFilesContinue,\n",
              "};\n",
              "})(self);\n",
              "</script> "
            ]
          },
          "metadata": {}
        },
        {
          "output_type": "stream",
          "name": "stdout",
          "text": [
            "Saving all_DATA.zip to all_DATA.zip\n"
          ]
        }
      ]
    },
    {
      "cell_type": "code",
      "source": [
        "import zipfile\n",
        "import os\n",
        "\n",
        "zip_path = \"/content/all_DATA.zip\"\n",
        "extract_path = \"/content\"\n",
        "\n",
        "# Unzip it\n",
        "with zipfile.ZipFile(zip_path, 'r') as zip_ref:\n",
        "    zip_ref.extractall(extract_path)\n",
        "\n",
        "# Confirm it worked\n",
        "print(\"Extracted files:\", os.listdir(extract_path))\n"
      ],
      "metadata": {
        "colab": {
          "base_uri": "https://localhost:8080/"
        },
        "id": "76Gv3aFucqIB",
        "outputId": "6a009e8c-0c12-4452-9d3f-bc27d5ead304"
      },
      "execution_count": 6,
      "outputs": [
        {
          "output_type": "stream",
          "name": "stdout",
          "text": [
            "Extracted files: ['.config', 'all_DATA', 'all_DATA.zip', 'sample_data']\n"
          ]
        }
      ]
    },
    {
      "cell_type": "code",
      "source": [
        "SEED = 42\n",
        "torch.manual_seed(SEED)\n",
        "np.random.seed(SEED)\n",
        "torch.backends.cudnn.deterministic = True\n",
        "torch.backends.cudnn.benchmark = False"
      ],
      "metadata": {
        "id": "H7eQhrxsy57S"
      },
      "execution_count": 11,
      "outputs": []
    },
    {
      "cell_type": "code",
      "execution_count": 160,
      "metadata": {
        "id": "bc5cf617-64a8-443d-959a-8de9b5ca7e5d"
      },
      "outputs": [],
      "source": [
        "## Set data path\n",
        "\n",
        "# ## Bangladesh\n",
        "# RESULTS_PATH = \"Result/Bangalesh/DiffCNN_Bangaldesh.xlsx\"\n",
        "# data_dir = \"/home/aparajita/Desktop/PhD/Ankita/Data/Flood Data/all_DATA/Bangladesh/GEE_Patches\"\n",
        "\n",
        "\n",
        "# ## Bihar\n",
        "# RESULTS_PATH = \"Result/Bishar/DiffCNN_Bangaldesh.xlsx\"\n",
        "# data_dir = \"/home/aparajita/Desktop/PhD/Ankita/Data/Flood Data/all_DATA/Bihar/GEE_Patches\"\n",
        "\n",
        "\n",
        "# ## WestBengal\n",
        "# RESULTS_PATH = \"Result/WB/DiffCNN_Bangaldesh.xlsx\"\n",
        "# data_dir = \"/home/aparajita/Desktop/PhD/Ankita/Data/Flood Data/all_DATA/WB/GEE_Patches\"\n",
        "\n",
        "\n",
        "# ## UP\n",
        "# RESULTS_PATH = \"Result/UP/DiffCNN_Bangaldesh.xlsx\"\n",
        "# data_dir = \"/home/aparajita/Desktop/PhD/Ankita/Data/Flood Data/all_DATA/UP/GEE_Patches\"\n",
        "\n",
        "\n",
        "## Pakistan\n",
        "#RESULTS_PATH = r\"C:\\Users\\anshi\\Downloads\\DiffCNN_Bangaldesh.xlsx\"\n",
        "data_dir = \"/content/all_DATA/Bihar/GEE_Patches\"\n",
        "\n"
      ]
    },
    {
      "cell_type": "code",
      "source": [
        "# Set hyperparameters\n",
        "\n",
        "PATCH_SIZE = 50\n",
        "BATCH_SIZE = 32\n",
        "EPOCHS = 50\n",
        "\n",
        "DIFFUSION_STEPS = 100\n",
        "MIN_BETA = 1e-4\n",
        "MAX_BETA = 0.02\n",
        "betas = np.linspace(MIN_BETA, MAX_BETA, DIFFUSION_STEPS, dtype=np.float32)\n",
        "alphas = 1.0 - betas\n",
        "alpha_bars = np.cumprod(alphas).astype(np.float32)\n",
        "\n",
        "\n"
      ],
      "metadata": {
        "id": "VVs1QuLz_InG"
      },
      "execution_count": 161,
      "outputs": []
    },
    {
      "cell_type": "code",
      "execution_count": 162,
      "metadata": {
        "id": "503fa564-5c81-4a01-9877-e8e2f9592d6d"
      },
      "outputs": [],
      "source": [
        "## Image patch extraction\n",
        "\n",
        "def extract_patches(image, patch_size=PATCH_SIZE):\n",
        "    patches = []\n",
        "    h, w = image.shape\n",
        "    for i in range(h // patch_size):\n",
        "        for j in range(w // patch_size):\n",
        "            patch = image[i*patch_size:(i+1)*patch_size, j*patch_size:(j+1)*patch_size]\n",
        "            patches.append(patch)\n",
        "    return np.expand_dims(np.array(patches), axis=-1)\n",
        "\n",
        "def load_and_extract_patches(directory):\n",
        "    vh_files = sorted([f for f in os.listdir(directory) if f.startswith('S1_VH')])\n",
        "    ndwi_files = sorted([f for f in os.listdir(directory) if f.startswith('S2_NDWI')])\n",
        "    mask_files = sorted([f for f in os.listdir(directory) if f.startswith('Mask')])\n",
        "\n",
        "    print(\"First 3 VH files:\")\n",
        "    for file in vh_files[:3]:\n",
        "        print(file)\n",
        "\n",
        "    print(\"First 3 NDWI files:\")\n",
        "    for file in ndwi_files[:3]:\n",
        "        print(file)\n",
        "\n",
        "    print(\"First 3 Mask files:\")\n",
        "    for file in mask_files[:3]:\n",
        "        print(file)\n",
        "\n",
        "    X_vh, X_ndwi, y = [], [], []\n",
        "    for vh_file, ndwi_file, mask_file in zip(vh_files, ndwi_files, mask_files):\n",
        "        with rasterio.open(os.path.join(directory, vh_file)) as src: vh_img = np.nan_to_num(src.read(1))\n",
        "        with rasterio.open(os.path.join(directory, ndwi_file)) as src: ndwi_img = np.nan_to_num(src.read(1))\n",
        "        with rasterio.open(os.path.join(directory, mask_file)) as src:\n",
        "            mask_img = (np.nan_to_num(src.read(1)) > 0).astype(np.float32)\n",
        "\n",
        "        X_vh.append(extract_patches(vh_img))\n",
        "        X_ndwi.append(extract_patches(ndwi_img))\n",
        "        y.append(extract_patches(mask_img))\n",
        "\n",
        "    X_vh = np.concatenate(X_vh)\n",
        "    X_ndwi = np.concatenate(X_ndwi)\n",
        "    y = np.concatenate(y)\n",
        "    print(f\"Class balance: {np.mean(y)*100:.2f}% positive pixels\")\n",
        "\n",
        "\n",
        "    return X_vh, X_ndwi, y\n"
      ]
    },
    {
      "cell_type": "markdown",
      "metadata": {
        "id": "60e92614-47ba-4e34-ba70-80aaa8f0b237"
      },
      "source": [
        "### Each returned array (`X_vh`, `X_ndwi`, `y`) has the shape: (num_patches, patch_height, patch_width, num_channels)\n",
        "\n",
        "X_vh shape: (50, 50, 50, 1)\n",
        "\n",
        "50 patches in total (from all input images).\n",
        "\n",
        "Each patch is 50x50 pixels.\n",
        "\n",
        "1 channel (since radar and NDWI images are single-band)"
      ]
    },
    {
      "cell_type": "code",
      "execution_count": 163,
      "metadata": {
        "id": "1e610a69-74c2-4864-a16d-8c8cf40c524c"
      },
      "outputs": [],
      "source": [
        "\n",
        "def display_patch_table(patch, title, i=0):\n",
        "    data = patch[i, :5, :5, 0]  # first patch, top-left 5x5\n",
        "    df = pd.DataFrame(data)\n",
        "    print(f\"\\n{title} (shape: {patch[i].shape})\")\n",
        "    display(df.style.format(\"{:.2f}\").set_caption(title))\n",
        "\n",
        "\n",
        "def show_patch_triplets(X_vh, X_ndwi, y, num_patches=3):\n",
        "    for i in range(num_patches):\n",
        "        fig, axs = plt.subplots(1, 3, figsize=(10, 3))\n",
        "        axs[0].imshow(X_vh[i, :, :, 0], cmap='gray')\n",
        "        axs[0].set_title(\"VH Patch\")\n",
        "        axs[0].axis('off')\n",
        "\n",
        "        axs[1].imshow(X_ndwi[i, :, :, 0], cmap='gray')\n",
        "        axs[1].set_title(\"NDWI Patch\")\n",
        "        axs[1].axis('off')\n",
        "\n",
        "        axs[2].imshow(y[i, :, :, 0], cmap='gray')\n",
        "        axs[2].set_title(\"Mask Patch\")\n",
        "        axs[2].axis('off')\n",
        "\n",
        "        plt.tight_layout()\n",
        "        plt.show()\n",
        "\n",
        "        display_patch_table(X_vh, \"VH Patch\", i)\n",
        "        display_patch_table(X_ndwi, \"NDWI Patch\", i)\n",
        "        display_patch_table(y, \"Mask Patch\", i)\n",
        "\n"
      ]
    },
    {
      "cell_type": "code",
      "execution_count": 164,
      "metadata": {
        "id": "2c51d61e-82ae-45a0-ab92-9ec932d7cebd"
      },
      "outputs": [],
      "source": [
        "## Data augmentation\n",
        "\n",
        "def augment_dataset(X_vh, X_ndwi, y):\n",
        "    def flip_h(x): return np.flip(x, axis=2)\n",
        "    def flip_v(x): return np.flip(x, axis=1)\n",
        "    def rot90(x): return np.rot90(x, k=1, axes=(1,2))\n",
        "    def noise(x): return x + np.random.normal(0, 0.01, x.shape)\n",
        "\n",
        "    augmented = [(X_vh, X_ndwi, y)]\n",
        "    for fn in [flip_h, flip_v, rot90, noise]:\n",
        "        augmented.append((fn(X_vh), fn(X_ndwi), fn(y)))\n",
        "    X_vh_aug, X_ndwi_aug, y_aug = zip(*augmented)\n",
        "    return np.concatenate(X_vh_aug), np.concatenate(X_ndwi_aug), np.concatenate(y_aug)"
      ]
    },
    {
      "cell_type": "code",
      "source": [
        "# Set device\n",
        "DEVICE = torch.device(\"cuda\" if torch.cuda.is_available() else \"cpu\")"
      ],
      "metadata": {
        "id": "nb55n9iW-HWG"
      },
      "execution_count": 165,
      "outputs": []
    },
    {
      "cell_type": "code",
      "source": [
        "## Load and visualize data\n",
        "\n",
        "print(\"Loading and augmenting patches...\")\n",
        "X_vh, X_ndwi, y = load_and_extract_patches(data_dir)\n",
        "# Print dimensions\n",
        "print(f\"X_vh shape: {X_vh.shape}\")\n",
        "print(f\"X_ndwi shape: {X_ndwi.shape}\")\n",
        "print(f\"y shape: {y.shape}\")\n",
        "# show_patch_triplets(X_vh, X_ndwi, y, num_patches=3)\n",
        "X_vh = (X_vh - X_vh.min()) / (X_vh.max() - X_vh.min())\n",
        "X_ndwi = (X_ndwi - X_ndwi.min()) / (X_ndwi.max() - X_ndwi.min())\n",
        "X_vh, X_ndwi, y = augment_dataset(X_vh, X_ndwi, y)\n",
        "# Print dimensions\n",
        "print(f\"X_vh shape: {X_vh.shape}\")\n",
        "print(f\"X_ndwi shape: {X_ndwi.shape}\")\n",
        "print(f\"y shape: {y.shape}\")\n",
        "show_patch_triplets(X_vh, X_ndwi, y, num_patches=3)\n",
        "X = np.concatenate([X_vh, X_ndwi], axis=-1)\n",
        "print(f\"X shape: {X.shape}\")\n"
      ],
      "metadata": {
        "colab": {
          "base_uri": "https://localhost:8080/",
          "height": 1000
        },
        "id": "lEQvRi-WTJhF",
        "outputId": "b101e9df-04fe-4d9d-bc59-7aa1ca750f52"
      },
      "execution_count": 166,
      "outputs": [
        {
          "output_type": "stream",
          "name": "stdout",
          "text": [
            "Loading and augmenting patches...\n",
            "First 3 VH files:\n",
            "S1_VH_patch_0.tif\n",
            "S1_VH_patch_100.tif\n",
            "S1_VH_patch_103.tif\n",
            "First 3 NDWI files:\n",
            "S2_NDWI_patch_0.tif\n",
            "S2_NDWI_patch_100.tif\n",
            "S2_NDWI_patch_103.tif\n",
            "First 3 Mask files:\n",
            "Mask_patch_0.tif\n",
            "Mask_patch_100.tif\n",
            "Mask_patch_103.tif\n",
            "Class balance: 90.75% positive pixels\n",
            "X_vh shape: (62, 50, 50, 1)\n",
            "X_ndwi shape: (62, 50, 50, 1)\n",
            "y shape: (62, 50, 50, 1)\n",
            "X_vh shape: (310, 50, 50, 1)\n",
            "X_ndwi shape: (310, 50, 50, 1)\n",
            "y shape: (310, 50, 50, 1)\n"
          ]
        },
        {
          "output_type": "display_data",
          "data": {
            "text/plain": [
              "<Figure size 1000x300 with 3 Axes>"
            ],
            "image/png": "[encoded data removed]"
          },
          "metadata": {}
        },
        {
          "output_type": "stream",
          "name": "stdout",
          "text": [
            "\n",
            "VH Patch (shape: (50, 50, 1))\n"
          ]
        },
        {
          "output_type": "display_data",
          "data": {
            "text/plain": [
              "<pandas.io.formats.style.Styler at 0x7c5ba5fd4950>"
            ],
            "text/html": [
              "<style type=\"text/css\">\n",
              "</style>\n",
              "<table id=\"T_efa89\" class=\"dataframe\">\n",
              "  <caption>VH Patch</caption>\n",
              "  <thead>\n",
              "    <tr>\n",
              "      <th class=\"blank level0\" >&nbsp;</th>\n",
              "      <th id=\"T_efa89_level0_col0\" class=\"col_heading level0 col0\" >0</th>\n",
              "      <th id=\"T_efa89_level0_col1\" class=\"col_heading level0 col1\" >1</th>\n",
              "      <th id=\"T_efa89_level0_col2\" class=\"col_heading level0 col2\" >2</th>\n",
              "      <th id=\"T_efa89_level0_col3\" class=\"col_heading level0 col3\" >3</th>\n",
              "      <th id=\"T_efa89_level0_col4\" class=\"col_heading level0 col4\" >4</th>\n",
              "    </tr>\n",
              "  </thead>\n",
              "  <tbody>\n",
              "    <tr>\n",
              "      <th id=\"T_efa89_level0_row0\" class=\"row_heading level0 row0\" >0</th>\n",
              "      <td id=\"T_efa89_row0_col0\" class=\"data row0 col0\" >0.26</td>\n",
              "      <td id=\"T_efa89_row0_col1\" class=\"data row0 col1\" >0.47</td>\n",
              "      <td id=\"T_efa89_row0_col2\" class=\"data row0 col2\" >0.40</td>\n",
              "      <td id=\"T_efa89_row0_col3\" class=\"data row0 col3\" >0.34</td>\n",
              "      <td id=\"T_efa89_row0_col4\" class=\"data row0 col4\" >0.31</td>\n",
              "    </tr>\n",
              "    <tr>\n",
              "      <th id=\"T_efa89_level0_row1\" class=\"row_heading level0 row1\" >1</th>\n",
              "      <td id=\"T_efa89_row1_col0\" class=\"data row1 col0\" >0.31</td>\n",
              "      <td id=\"T_efa89_row1_col1\" class=\"data row1 col1\" >0.48</td>\n",
              "      <td id=\"T_efa89_row1_col2\" class=\"data row1 col2\" >0.44</td>\n",
              "      <td id=\"T_efa89_row1_col3\" class=\"data row1 col3\" >0.28</td>\n",
              "      <td id=\"T_efa89_row1_col4\" class=\"data row1 col4\" >0.03</td>\n",
              "    </tr>\n",
              "    <tr>\n",
              "      <th id=\"T_efa89_level0_row2\" class=\"row_heading level0 row2\" >2</th>\n",
              "      <td id=\"T_efa89_row2_col0\" class=\"data row2 col0\" >0.33</td>\n",
              "      <td id=\"T_efa89_row2_col1\" class=\"data row2 col1\" >0.33</td>\n",
              "      <td id=\"T_efa89_row2_col2\" class=\"data row2 col2\" >0.33</td>\n",
              "      <td id=\"T_efa89_row2_col3\" class=\"data row2 col3\" >0.15</td>\n",
              "      <td id=\"T_efa89_row2_col4\" class=\"data row2 col4\" >0.23</td>\n",
              "    </tr>\n",
              "    <tr>\n",
              "      <th id=\"T_efa89_level0_row3\" class=\"row_heading level0 row3\" >3</th>\n",
              "      <td id=\"T_efa89_row3_col0\" class=\"data row3 col0\" >0.34</td>\n",
              "      <td id=\"T_efa89_row3_col1\" class=\"data row3 col1\" >0.28</td>\n",
              "      <td id=\"T_efa89_row3_col2\" class=\"data row3 col2\" >0.01</td>\n",
              "      <td id=\"T_efa89_row3_col3\" class=\"data row3 col3\" >0.11</td>\n",
              "      <td id=\"T_efa89_row3_col4\" class=\"data row3 col4\" >0.16</td>\n",
              "    </tr>\n",
              "    <tr>\n",
              "      <th id=\"T_efa89_level0_row4\" class=\"row_heading level0 row4\" >4</th>\n",
              "      <td id=\"T_efa89_row4_col0\" class=\"data row4 col0\" >0.33</td>\n",
              "      <td id=\"T_efa89_row4_col1\" class=\"data row4 col1\" >0.31</td>\n",
              "      <td id=\"T_efa89_row4_col2\" class=\"data row4 col2\" >0.32</td>\n",
              "      <td id=\"T_efa89_row4_col3\" class=\"data row4 col3\" >0.26</td>\n",
              "      <td id=\"T_efa89_row4_col4\" class=\"data row4 col4\" >0.11</td>\n",
              "    </tr>\n",
              "  </tbody>\n",
              "</table>\n"
            ]
          },
          "metadata": {}
        },
        {
          "output_type": "stream",
          "name": "stdout",
          "text": [
            "\n",
            "NDWI Patch (shape: (50, 50, 1))\n"
          ]
        },
        {
          "output_type": "display_data",
          "data": {
            "text/plain": [
              "<pandas.io.formats.style.Styler at 0x7c5b8d4af8d0>"
            ],
            "text/html": [
              "<style type=\"text/css\">\n",
              "</style>\n",
              "<table id=\"T_53507\" class=\"dataframe\">\n",
              "  <caption>NDWI Patch</caption>\n",
              "  <thead>\n",
              "    <tr>\n",
              "      <th class=\"blank level0\" >&nbsp;</th>\n",
              "      <th id=\"T_53507_level0_col0\" class=\"col_heading level0 col0\" >0</th>\n",
              "      <th id=\"T_53507_level0_col1\" class=\"col_heading level0 col1\" >1</th>\n",
              "      <th id=\"T_53507_level0_col2\" class=\"col_heading level0 col2\" >2</th>\n",
              "      <th id=\"T_53507_level0_col3\" class=\"col_heading level0 col3\" >3</th>\n",
              "      <th id=\"T_53507_level0_col4\" class=\"col_heading level0 col4\" >4</th>\n",
              "    </tr>\n",
              "  </thead>\n",
              "  <tbody>\n",
              "    <tr>\n",
              "      <th id=\"T_53507_level0_row0\" class=\"row_heading level0 row0\" >0</th>\n",
              "      <td id=\"T_53507_row0_col0\" class=\"data row0 col0\" >0.94</td>\n",
              "      <td id=\"T_53507_row0_col1\" class=\"data row0 col1\" >0.95</td>\n",
              "      <td id=\"T_53507_row0_col2\" class=\"data row0 col2\" >0.96</td>\n",
              "      <td id=\"T_53507_row0_col3\" class=\"data row0 col3\" >0.95</td>\n",
              "      <td id=\"T_53507_row0_col4\" class=\"data row0 col4\" >0.94</td>\n",
              "    </tr>\n",
              "    <tr>\n",
              "      <th id=\"T_53507_level0_row1\" class=\"row_heading level0 row1\" >1</th>\n",
              "      <td id=\"T_53507_row1_col0\" class=\"data row1 col0\" >0.94</td>\n",
              "      <td id=\"T_53507_row1_col1\" class=\"data row1 col1\" >0.95</td>\n",
              "      <td id=\"T_53507_row1_col2\" class=\"data row1 col2\" >0.94</td>\n",
              "      <td id=\"T_53507_row1_col3\" class=\"data row1 col3\" >0.95</td>\n",
              "      <td id=\"T_53507_row1_col4\" class=\"data row1 col4\" >0.95</td>\n",
              "    </tr>\n",
              "    <tr>\n",
              "      <th id=\"T_53507_level0_row2\" class=\"row_heading level0 row2\" >2</th>\n",
              "      <td id=\"T_53507_row2_col0\" class=\"data row2 col0\" >0.95</td>\n",
              "      <td id=\"T_53507_row2_col1\" class=\"data row2 col1\" >0.95</td>\n",
              "      <td id=\"T_53507_row2_col2\" class=\"data row2 col2\" >0.95</td>\n",
              "      <td id=\"T_53507_row2_col3\" class=\"data row2 col3\" >0.96</td>\n",
              "      <td id=\"T_53507_row2_col4\" class=\"data row2 col4\" >0.95</td>\n",
              "    </tr>\n",
              "    <tr>\n",
              "      <th id=\"T_53507_level0_row3\" class=\"row_heading level0 row3\" >3</th>\n",
              "      <td id=\"T_53507_row3_col0\" class=\"data row3 col0\" >0.95</td>\n",
              "      <td id=\"T_53507_row3_col1\" class=\"data row3 col1\" >0.95</td>\n",
              "      <td id=\"T_53507_row3_col2\" class=\"data row3 col2\" >0.95</td>\n",
              "      <td id=\"T_53507_row3_col3\" class=\"data row3 col3\" >0.95</td>\n",
              "      <td id=\"T_53507_row3_col4\" class=\"data row3 col4\" >0.96</td>\n",
              "    </tr>\n",
              "    <tr>\n",
              "      <th id=\"T_53507_level0_row4\" class=\"row_heading level0 row4\" >4</th>\n",
              "      <td id=\"T_53507_row4_col0\" class=\"data row4 col0\" >0.95</td>\n",
              "      <td id=\"T_53507_row4_col1\" class=\"data row4 col1\" >0.95</td>\n",
              "      <td id=\"T_53507_row4_col2\" class=\"data row4 col2\" >0.95</td>\n",
              "      <td id=\"T_53507_row4_col3\" class=\"data row4 col3\" >0.95</td>\n",
              "      <td id=\"T_53507_row4_col4\" class=\"data row4 col4\" >0.94</td>\n",
              "    </tr>\n",
              "  </tbody>\n",
              "</table>\n"
            ]
          },
          "metadata": {}
        },
        {
          "output_type": "stream",
          "name": "stdout",
          "text": [
            "\n",
            "Mask Patch (shape: (50, 50, 1))\n"
          ]
        },
        {
          "output_type": "display_data",
          "data": {
            "text/plain": [
              "<pandas.io.formats.style.Styler at 0x7c5b8c1f66d0>"
            ],
            "text/html": [
              "<style type=\"text/css\">\n",
              "</style>\n",
              "<table id=\"T_2e05e\" class=\"dataframe\">\n",
              "  <caption>Mask Patch</caption>\n",
              "  <thead>\n",
              "    <tr>\n",
              "      <th class=\"blank level0\" >&nbsp;</th>\n",
              "      <th id=\"T_2e05e_level0_col0\" class=\"col_heading level0 col0\" >0</th>\n",
              "      <th id=\"T_2e05e_level0_col1\" class=\"col_heading level0 col1\" >1</th>\n",
              "      <th id=\"T_2e05e_level0_col2\" class=\"col_heading level0 col2\" >2</th>\n",
              "      <th id=\"T_2e05e_level0_col3\" class=\"col_heading level0 col3\" >3</th>\n",
              "      <th id=\"T_2e05e_level0_col4\" class=\"col_heading level0 col4\" >4</th>\n",
              "    </tr>\n",
              "  </thead>\n",
              "  <tbody>\n",
              "    <tr>\n",
              "      <th id=\"T_2e05e_level0_row0\" class=\"row_heading level0 row0\" >0</th>\n",
              "      <td id=\"T_2e05e_row0_col0\" class=\"data row0 col0\" >1.00</td>\n",
              "      <td id=\"T_2e05e_row0_col1\" class=\"data row0 col1\" >1.00</td>\n",
              "      <td id=\"T_2e05e_row0_col2\" class=\"data row0 col2\" >1.00</td>\n",
              "      <td id=\"T_2e05e_row0_col3\" class=\"data row0 col3\" >1.00</td>\n",
              "      <td id=\"T_2e05e_row0_col4\" class=\"data row0 col4\" >1.00</td>\n",
              "    </tr>\n",
              "    <tr>\n",
              "      <th id=\"T_2e05e_level0_row1\" class=\"row_heading level0 row1\" >1</th>\n",
              "      <td id=\"T_2e05e_row1_col0\" class=\"data row1 col0\" >1.00</td>\n",
              "      <td id=\"T_2e05e_row1_col1\" class=\"data row1 col1\" >1.00</td>\n",
              "      <td id=\"T_2e05e_row1_col2\" class=\"data row1 col2\" >1.00</td>\n",
              "      <td id=\"T_2e05e_row1_col3\" class=\"data row1 col3\" >1.00</td>\n",
              "      <td id=\"T_2e05e_row1_col4\" class=\"data row1 col4\" >1.00</td>\n",
              "    </tr>\n",
              "    <tr>\n",
              "      <th id=\"T_2e05e_level0_row2\" class=\"row_heading level0 row2\" >2</th>\n",
              "      <td id=\"T_2e05e_row2_col0\" class=\"data row2 col0\" >1.00</td>\n",
              "      <td id=\"T_2e05e_row2_col1\" class=\"data row2 col1\" >1.00</td>\n",
              "      <td id=\"T_2e05e_row2_col2\" class=\"data row2 col2\" >1.00</td>\n",
              "      <td id=\"T_2e05e_row2_col3\" class=\"data row2 col3\" >1.00</td>\n",
              "      <td id=\"T_2e05e_row2_col4\" class=\"data row2 col4\" >1.00</td>\n",
              "    </tr>\n",
              "    <tr>\n",
              "      <th id=\"T_2e05e_level0_row3\" class=\"row_heading level0 row3\" >3</th>\n",
              "      <td id=\"T_2e05e_row3_col0\" class=\"data row3 col0\" >1.00</td>\n",
              "      <td id=\"T_2e05e_row3_col1\" class=\"data row3 col1\" >1.00</td>\n",
              "      <td id=\"T_2e05e_row3_col2\" class=\"data row3 col2\" >1.00</td>\n",
              "      <td id=\"T_2e05e_row3_col3\" class=\"data row3 col3\" >1.00</td>\n",
              "      <td id=\"T_2e05e_row3_col4\" class=\"data row3 col4\" >1.00</td>\n",
              "    </tr>\n",
              "    <tr>\n",
              "      <th id=\"T_2e05e_level0_row4\" class=\"row_heading level0 row4\" >4</th>\n",
              "      <td id=\"T_2e05e_row4_col0\" class=\"data row4 col0\" >1.00</td>\n",
              "      <td id=\"T_2e05e_row4_col1\" class=\"data row4 col1\" >1.00</td>\n",
              "      <td id=\"T_2e05e_row4_col2\" class=\"data row4 col2\" >1.00</td>\n",
              "      <td id=\"T_2e05e_row4_col3\" class=\"data row4 col3\" >1.00</td>\n",
              "      <td id=\"T_2e05e_row4_col4\" class=\"data row4 col4\" >1.00</td>\n",
              "    </tr>\n",
              "  </tbody>\n",
              "</table>\n"
            ]
          },
          "metadata": {}
        },
        {
          "output_type": "display_data",
          "data": {
            "text/plain": [
              "<Figure size 1000x300 with 3 Axes>"
            ],
            "image/png": "[encoded data removed]"
          },
          "metadata": {}
        },
        {
          "output_type": "stream",
          "name": "stdout",
          "text": [
            "\n",
            "VH Patch (shape: (50, 50, 1))\n"
          ]
        },
        {
          "output_type": "display_data",
          "data": {
            "text/plain": [
              "<pandas.io.formats.style.Styler at 0x7c5bb1aada10>"
            ],
            "text/html": [
              "<style type=\"text/css\">\n",
              "</style>\n",
              "<table id=\"T_fbb82\" class=\"dataframe\">\n",
              "  <caption>VH Patch</caption>\n",
              "  <thead>\n",
              "    <tr>\n",
              "      <th class=\"blank level0\" >&nbsp;</th>\n",
              "      <th id=\"T_fbb82_level0_col0\" class=\"col_heading level0 col0\" >0</th>\n",
              "      <th id=\"T_fbb82_level0_col1\" class=\"col_heading level0 col1\" >1</th>\n",
              "      <th id=\"T_fbb82_level0_col2\" class=\"col_heading level0 col2\" >2</th>\n",
              "      <th id=\"T_fbb82_level0_col3\" class=\"col_heading level0 col3\" >3</th>\n",
              "      <th id=\"T_fbb82_level0_col4\" class=\"col_heading level0 col4\" >4</th>\n",
              "    </tr>\n",
              "  </thead>\n",
              "  <tbody>\n",
              "    <tr>\n",
              "      <th id=\"T_fbb82_level0_row0\" class=\"row_heading level0 row0\" >0</th>\n",
              "      <td id=\"T_fbb82_row0_col0\" class=\"data row0 col0\" >0.66</td>\n",
              "      <td id=\"T_fbb82_row0_col1\" class=\"data row0 col1\" >0.66</td>\n",
              "      <td id=\"T_fbb82_row0_col2\" class=\"data row0 col2\" >0.67</td>\n",
              "      <td id=\"T_fbb82_row0_col3\" class=\"data row0 col3\" >0.67</td>\n",
              "      <td id=\"T_fbb82_row0_col4\" class=\"data row0 col4\" >0.66</td>\n",
              "    </tr>\n",
              "    <tr>\n",
              "      <th id=\"T_fbb82_level0_row1\" class=\"row_heading level0 row1\" >1</th>\n",
              "      <td id=\"T_fbb82_row1_col0\" class=\"data row1 col0\" >0.66</td>\n",
              "      <td id=\"T_fbb82_row1_col1\" class=\"data row1 col1\" >0.74</td>\n",
              "      <td id=\"T_fbb82_row1_col2\" class=\"data row1 col2\" >0.73</td>\n",
              "      <td id=\"T_fbb82_row1_col3\" class=\"data row1 col3\" >0.67</td>\n",
              "      <td id=\"T_fbb82_row1_col4\" class=\"data row1 col4\" >0.65</td>\n",
              "    </tr>\n",
              "    <tr>\n",
              "      <th id=\"T_fbb82_level0_row2\" class=\"row_heading level0 row2\" >2</th>\n",
              "      <td id=\"T_fbb82_row2_col0\" class=\"data row2 col0\" >0.67</td>\n",
              "      <td id=\"T_fbb82_row2_col1\" class=\"data row2 col1\" >0.75</td>\n",
              "      <td id=\"T_fbb82_row2_col2\" class=\"data row2 col2\" >0.73</td>\n",
              "      <td id=\"T_fbb82_row2_col3\" class=\"data row2 col3\" >0.66</td>\n",
              "      <td id=\"T_fbb82_row2_col4\" class=\"data row2 col4\" >0.63</td>\n",
              "    </tr>\n",
              "    <tr>\n",
              "      <th id=\"T_fbb82_level0_row3\" class=\"row_heading level0 row3\" >3</th>\n",
              "      <td id=\"T_fbb82_row3_col0\" class=\"data row3 col0\" >0.68</td>\n",
              "      <td id=\"T_fbb82_row3_col1\" class=\"data row3 col1\" >0.74</td>\n",
              "      <td id=\"T_fbb82_row3_col2\" class=\"data row3 col2\" >0.70</td>\n",
              "      <td id=\"T_fbb82_row3_col3\" class=\"data row3 col3\" >0.69</td>\n",
              "      <td id=\"T_fbb82_row3_col4\" class=\"data row3 col4\" >0.65</td>\n",
              "    </tr>\n",
              "    <tr>\n",
              "      <th id=\"T_fbb82_level0_row4\" class=\"row_heading level0 row4\" >4</th>\n",
              "      <td id=\"T_fbb82_row4_col0\" class=\"data row4 col0\" >0.68</td>\n",
              "      <td id=\"T_fbb82_row4_col1\" class=\"data row4 col1\" >0.71</td>\n",
              "      <td id=\"T_fbb82_row4_col2\" class=\"data row4 col2\" >0.69</td>\n",
              "      <td id=\"T_fbb82_row4_col3\" class=\"data row4 col3\" >0.69</td>\n",
              "      <td id=\"T_fbb82_row4_col4\" class=\"data row4 col4\" >0.70</td>\n",
              "    </tr>\n",
              "  </tbody>\n",
              "</table>\n"
            ]
          },
          "metadata": {}
        },
        {
          "output_type": "stream",
          "name": "stdout",
          "text": [
            "\n",
            "NDWI Patch (shape: (50, 50, 1))\n"
          ]
        },
        {
          "output_type": "display_data",
          "data": {
            "text/plain": [
              "<pandas.io.formats.style.Styler at 0x7c5b7c316490>"
            ],
            "text/html": [
              "<style type=\"text/css\">\n",
              "</style>\n",
              "<table id=\"T_3b1b4\" class=\"dataframe\">\n",
              "  <caption>NDWI Patch</caption>\n",
              "  <thead>\n",
              "    <tr>\n",
              "      <th class=\"blank level0\" >&nbsp;</th>\n",
              "      <th id=\"T_3b1b4_level0_col0\" class=\"col_heading level0 col0\" >0</th>\n",
              "      <th id=\"T_3b1b4_level0_col1\" class=\"col_heading level0 col1\" >1</th>\n",
              "      <th id=\"T_3b1b4_level0_col2\" class=\"col_heading level0 col2\" >2</th>\n",
              "      <th id=\"T_3b1b4_level0_col3\" class=\"col_heading level0 col3\" >3</th>\n",
              "      <th id=\"T_3b1b4_level0_col4\" class=\"col_heading level0 col4\" >4</th>\n",
              "    </tr>\n",
              "  </thead>\n",
              "  <tbody>\n",
              "    <tr>\n",
              "      <th id=\"T_3b1b4_level0_row0\" class=\"row_heading level0 row0\" >0</th>\n",
              "      <td id=\"T_3b1b4_row0_col0\" class=\"data row0 col0\" >0.15</td>\n",
              "      <td id=\"T_3b1b4_row0_col1\" class=\"data row0 col1\" >0.14</td>\n",
              "      <td id=\"T_3b1b4_row0_col2\" class=\"data row0 col2\" >0.15</td>\n",
              "      <td id=\"T_3b1b4_row0_col3\" class=\"data row0 col3\" >0.15</td>\n",
              "      <td id=\"T_3b1b4_row0_col4\" class=\"data row0 col4\" >0.13</td>\n",
              "    </tr>\n",
              "    <tr>\n",
              "      <th id=\"T_3b1b4_level0_row1\" class=\"row_heading level0 row1\" >1</th>\n",
              "      <td id=\"T_3b1b4_row1_col0\" class=\"data row1 col0\" >0.17</td>\n",
              "      <td id=\"T_3b1b4_row1_col1\" class=\"data row1 col1\" >0.17</td>\n",
              "      <td id=\"T_3b1b4_row1_col2\" class=\"data row1 col2\" >0.17</td>\n",
              "      <td id=\"T_3b1b4_row1_col3\" class=\"data row1 col3\" >0.14</td>\n",
              "      <td id=\"T_3b1b4_row1_col4\" class=\"data row1 col4\" >0.14</td>\n",
              "    </tr>\n",
              "    <tr>\n",
              "      <th id=\"T_3b1b4_level0_row2\" class=\"row_heading level0 row2\" >2</th>\n",
              "      <td id=\"T_3b1b4_row2_col0\" class=\"data row2 col0\" >0.16</td>\n",
              "      <td id=\"T_3b1b4_row2_col1\" class=\"data row2 col1\" >0.17</td>\n",
              "      <td id=\"T_3b1b4_row2_col2\" class=\"data row2 col2\" >0.17</td>\n",
              "      <td id=\"T_3b1b4_row2_col3\" class=\"data row2 col3\" >0.15</td>\n",
              "      <td id=\"T_3b1b4_row2_col4\" class=\"data row2 col4\" >0.15</td>\n",
              "    </tr>\n",
              "    <tr>\n",
              "      <th id=\"T_3b1b4_level0_row3\" class=\"row_heading level0 row3\" >3</th>\n",
              "      <td id=\"T_3b1b4_row3_col0\" class=\"data row3 col0\" >0.16</td>\n",
              "      <td id=\"T_3b1b4_row3_col1\" class=\"data row3 col1\" >0.16</td>\n",
              "      <td id=\"T_3b1b4_row3_col2\" class=\"data row3 col2\" >0.16</td>\n",
              "      <td id=\"T_3b1b4_row3_col3\" class=\"data row3 col3\" >0.14</td>\n",
              "      <td id=\"T_3b1b4_row3_col4\" class=\"data row3 col4\" >0.13</td>\n",
              "    </tr>\n",
              "    <tr>\n",
              "      <th id=\"T_3b1b4_level0_row4\" class=\"row_heading level0 row4\" >4</th>\n",
              "      <td id=\"T_3b1b4_row4_col0\" class=\"data row4 col0\" >0.14</td>\n",
              "      <td id=\"T_3b1b4_row4_col1\" class=\"data row4 col1\" >0.15</td>\n",
              "      <td id=\"T_3b1b4_row4_col2\" class=\"data row4 col2\" >0.15</td>\n",
              "      <td id=\"T_3b1b4_row4_col3\" class=\"data row4 col3\" >0.14</td>\n",
              "      <td id=\"T_3b1b4_row4_col4\" class=\"data row4 col4\" >0.14</td>\n",
              "    </tr>\n",
              "  </tbody>\n",
              "</table>\n"
            ]
          },
          "metadata": {}
        },
        {
          "output_type": "stream",
          "name": "stdout",
          "text": [
            "\n",
            "Mask Patch (shape: (50, 50, 1))\n"
          ]
        },
        {
          "output_type": "display_data",
          "data": {
            "text/plain": [
              "<pandas.io.formats.style.Styler at 0x7c5b7c316490>"
            ],
            "text/html": [
              "<style type=\"text/css\">\n",
              "</style>\n",
              "<table id=\"T_0bc47\" class=\"dataframe\">\n",
              "  <caption>Mask Patch</caption>\n",
              "  <thead>\n",
              "    <tr>\n",
              "      <th class=\"blank level0\" >&nbsp;</th>\n",
              "      <th id=\"T_0bc47_level0_col0\" class=\"col_heading level0 col0\" >0</th>\n",
              "      <th id=\"T_0bc47_level0_col1\" class=\"col_heading level0 col1\" >1</th>\n",
              "      <th id=\"T_0bc47_level0_col2\" class=\"col_heading level0 col2\" >2</th>\n",
              "      <th id=\"T_0bc47_level0_col3\" class=\"col_heading level0 col3\" >3</th>\n",
              "      <th id=\"T_0bc47_level0_col4\" class=\"col_heading level0 col4\" >4</th>\n",
              "    </tr>\n",
              "  </thead>\n",
              "  <tbody>\n",
              "    <tr>\n",
              "      <th id=\"T_0bc47_level0_row0\" class=\"row_heading level0 row0\" >0</th>\n",
              "      <td id=\"T_0bc47_row0_col0\" class=\"data row0 col0\" >0.00</td>\n",
              "      <td id=\"T_0bc47_row0_col1\" class=\"data row0 col1\" >0.00</td>\n",
              "      <td id=\"T_0bc47_row0_col2\" class=\"data row0 col2\" >0.00</td>\n",
              "      <td id=\"T_0bc47_row0_col3\" class=\"data row0 col3\" >0.00</td>\n",
              "      <td id=\"T_0bc47_row0_col4\" class=\"data row0 col4\" >0.00</td>\n",
              "    </tr>\n",
              "    <tr>\n",
              "      <th id=\"T_0bc47_level0_row1\" class=\"row_heading level0 row1\" >1</th>\n",
              "      <td id=\"T_0bc47_row1_col0\" class=\"data row1 col0\" >0.00</td>\n",
              "      <td id=\"T_0bc47_row1_col1\" class=\"data row1 col1\" >0.00</td>\n",
              "      <td id=\"T_0bc47_row1_col2\" class=\"data row1 col2\" >0.00</td>\n",
              "      <td id=\"T_0bc47_row1_col3\" class=\"data row1 col3\" >0.00</td>\n",
              "      <td id=\"T_0bc47_row1_col4\" class=\"data row1 col4\" >0.00</td>\n",
              "    </tr>\n",
              "    <tr>\n",
              "      <th id=\"T_0bc47_level0_row2\" class=\"row_heading level0 row2\" >2</th>\n",
              "      <td id=\"T_0bc47_row2_col0\" class=\"data row2 col0\" >0.00</td>\n",
              "      <td id=\"T_0bc47_row2_col1\" class=\"data row2 col1\" >0.00</td>\n",
              "      <td id=\"T_0bc47_row2_col2\" class=\"data row2 col2\" >0.00</td>\n",
              "      <td id=\"T_0bc47_row2_col3\" class=\"data row2 col3\" >0.00</td>\n",
              "      <td id=\"T_0bc47_row2_col4\" class=\"data row2 col4\" >0.00</td>\n",
              "    </tr>\n",
              "    <tr>\n",
              "      <th id=\"T_0bc47_level0_row3\" class=\"row_heading level0 row3\" >3</th>\n",
              "      <td id=\"T_0bc47_row3_col0\" class=\"data row3 col0\" >0.00</td>\n",
              "      <td id=\"T_0bc47_row3_col1\" class=\"data row3 col1\" >0.00</td>\n",
              "      <td id=\"T_0bc47_row3_col2\" class=\"data row3 col2\" >0.00</td>\n",
              "      <td id=\"T_0bc47_row3_col3\" class=\"data row3 col3\" >0.00</td>\n",
              "      <td id=\"T_0bc47_row3_col4\" class=\"data row3 col4\" >0.00</td>\n",
              "    </tr>\n",
              "    <tr>\n",
              "      <th id=\"T_0bc47_level0_row4\" class=\"row_heading level0 row4\" >4</th>\n",
              "      <td id=\"T_0bc47_row4_col0\" class=\"data row4 col0\" >0.00</td>\n",
              "      <td id=\"T_0bc47_row4_col1\" class=\"data row4 col1\" >0.00</td>\n",
              "      <td id=\"T_0bc47_row4_col2\" class=\"data row4 col2\" >0.00</td>\n",
              "      <td id=\"T_0bc47_row4_col3\" class=\"data row4 col3\" >0.00</td>\n",
              "      <td id=\"T_0bc47_row4_col4\" class=\"data row4 col4\" >0.00</td>\n",
              "    </tr>\n",
              "  </tbody>\n",
              "</table>\n"
            ]
          },
          "metadata": {}
        },
        {
          "output_type": "display_data",
          "data": {
            "text/plain": [
              "<Figure size 1000x300 with 3 Axes>"
            ],
            "image/png": "[encoded data removed]"
          },
          "metadata": {}
        },
        {
          "output_type": "stream",
          "name": "stdout",
          "text": [
            "\n",
            "VH Patch (shape: (50, 50, 1))\n"
          ]
        },
        {
          "output_type": "display_data",
          "data": {
            "text/plain": [
              "<pandas.io.formats.style.Styler at 0x7c5b8c102410>"
            ],
            "text/html": [
              "<style type=\"text/css\">\n",
              "</style>\n",
              "<table id=\"T_690fa\" class=\"dataframe\">\n",
              "  <caption>VH Patch</caption>\n",
              "  <thead>\n",
              "    <tr>\n",
              "      <th class=\"blank level0\" >&nbsp;</th>\n",
              "      <th id=\"T_690fa_level0_col0\" class=\"col_heading level0 col0\" >0</th>\n",
              "      <th id=\"T_690fa_level0_col1\" class=\"col_heading level0 col1\" >1</th>\n",
              "      <th id=\"T_690fa_level0_col2\" class=\"col_heading level0 col2\" >2</th>\n",
              "      <th id=\"T_690fa_level0_col3\" class=\"col_heading level0 col3\" >3</th>\n",
              "      <th id=\"T_690fa_level0_col4\" class=\"col_heading level0 col4\" >4</th>\n",
              "    </tr>\n",
              "  </thead>\n",
              "  <tbody>\n",
              "    <tr>\n",
              "      <th id=\"T_690fa_level0_row0\" class=\"row_heading level0 row0\" >0</th>\n",
              "      <td id=\"T_690fa_row0_col0\" class=\"data row0 col0\" >0.45</td>\n",
              "      <td id=\"T_690fa_row0_col1\" class=\"data row0 col1\" >0.42</td>\n",
              "      <td id=\"T_690fa_row0_col2\" class=\"data row0 col2\" >0.34</td>\n",
              "      <td id=\"T_690fa_row0_col3\" class=\"data row0 col3\" >0.34</td>\n",
              "      <td id=\"T_690fa_row0_col4\" class=\"data row0 col4\" >0.34</td>\n",
              "    </tr>\n",
              "    <tr>\n",
              "      <th id=\"T_690fa_level0_row1\" class=\"row_heading level0 row1\" >1</th>\n",
              "      <td id=\"T_690fa_row1_col0\" class=\"data row1 col0\" >0.21</td>\n",
              "      <td id=\"T_690fa_row1_col1\" class=\"data row1 col1\" >0.27</td>\n",
              "      <td id=\"T_690fa_row1_col2\" class=\"data row1 col2\" >0.16</td>\n",
              "      <td id=\"T_690fa_row1_col3\" class=\"data row1 col3\" >0.13</td>\n",
              "      <td id=\"T_690fa_row1_col4\" class=\"data row1 col4\" >0.11</td>\n",
              "    </tr>\n",
              "    <tr>\n",
              "      <th id=\"T_690fa_level0_row2\" class=\"row_heading level0 row2\" >2</th>\n",
              "      <td id=\"T_690fa_row2_col0\" class=\"data row2 col0\" >0.15</td>\n",
              "      <td id=\"T_690fa_row2_col1\" class=\"data row2 col1\" >0.24</td>\n",
              "      <td id=\"T_690fa_row2_col2\" class=\"data row2 col2\" >0.24</td>\n",
              "      <td id=\"T_690fa_row2_col3\" class=\"data row2 col3\" >0.23</td>\n",
              "      <td id=\"T_690fa_row2_col4\" class=\"data row2 col4\" >0.19</td>\n",
              "    </tr>\n",
              "    <tr>\n",
              "      <th id=\"T_690fa_level0_row3\" class=\"row_heading level0 row3\" >3</th>\n",
              "      <td id=\"T_690fa_row3_col0\" class=\"data row3 col0\" >0.18</td>\n",
              "      <td id=\"T_690fa_row3_col1\" class=\"data row3 col1\" >0.31</td>\n",
              "      <td id=\"T_690fa_row3_col2\" class=\"data row3 col2\" >0.31</td>\n",
              "      <td id=\"T_690fa_row3_col3\" class=\"data row3 col3\" >0.33</td>\n",
              "      <td id=\"T_690fa_row3_col4\" class=\"data row3 col4\" >0.25</td>\n",
              "    </tr>\n",
              "    <tr>\n",
              "      <th id=\"T_690fa_level0_row4\" class=\"row_heading level0 row4\" >4</th>\n",
              "      <td id=\"T_690fa_row4_col0\" class=\"data row4 col0\" >0.16</td>\n",
              "      <td id=\"T_690fa_row4_col1\" class=\"data row4 col1\" >0.18</td>\n",
              "      <td id=\"T_690fa_row4_col2\" class=\"data row4 col2\" >0.18</td>\n",
              "      <td id=\"T_690fa_row4_col3\" class=\"data row4 col3\" >0.19</td>\n",
              "      <td id=\"T_690fa_row4_col4\" class=\"data row4 col4\" >0.08</td>\n",
              "    </tr>\n",
              "  </tbody>\n",
              "</table>\n"
            ]
          },
          "metadata": {}
        },
        {
          "output_type": "stream",
          "name": "stdout",
          "text": [
            "\n",
            "NDWI Patch (shape: (50, 50, 1))\n"
          ]
        },
        {
          "output_type": "display_data",
          "data": {
            "text/plain": [
              "<pandas.io.formats.style.Styler at 0x7c5b8dd0eb50>"
            ],
            "text/html": [
              "<style type=\"text/css\">\n",
              "</style>\n",
              "<table id=\"T_31c94\" class=\"dataframe\">\n",
              "  <caption>NDWI Patch</caption>\n",
              "  <thead>\n",
              "    <tr>\n",
              "      <th class=\"blank level0\" >&nbsp;</th>\n",
              "      <th id=\"T_31c94_level0_col0\" class=\"col_heading level0 col0\" >0</th>\n",
              "      <th id=\"T_31c94_level0_col1\" class=\"col_heading level0 col1\" >1</th>\n",
              "      <th id=\"T_31c94_level0_col2\" class=\"col_heading level0 col2\" >2</th>\n",
              "      <th id=\"T_31c94_level0_col3\" class=\"col_heading level0 col3\" >3</th>\n",
              "      <th id=\"T_31c94_level0_col4\" class=\"col_heading level0 col4\" >4</th>\n",
              "    </tr>\n",
              "  </thead>\n",
              "  <tbody>\n",
              "    <tr>\n",
              "      <th id=\"T_31c94_level0_row0\" class=\"row_heading level0 row0\" >0</th>\n",
              "      <td id=\"T_31c94_row0_col0\" class=\"data row0 col0\" >0.53</td>\n",
              "      <td id=\"T_31c94_row0_col1\" class=\"data row0 col1\" >0.53</td>\n",
              "      <td id=\"T_31c94_row0_col2\" class=\"data row0 col2\" >0.54</td>\n",
              "      <td id=\"T_31c94_row0_col3\" class=\"data row0 col3\" >0.53</td>\n",
              "      <td id=\"T_31c94_row0_col4\" class=\"data row0 col4\" >0.51</td>\n",
              "    </tr>\n",
              "    <tr>\n",
              "      <th id=\"T_31c94_level0_row1\" class=\"row_heading level0 row1\" >1</th>\n",
              "      <td id=\"T_31c94_row1_col0\" class=\"data row1 col0\" >0.55</td>\n",
              "      <td id=\"T_31c94_row1_col1\" class=\"data row1 col1\" >0.54</td>\n",
              "      <td id=\"T_31c94_row1_col2\" class=\"data row1 col2\" >0.54</td>\n",
              "      <td id=\"T_31c94_row1_col3\" class=\"data row1 col3\" >0.53</td>\n",
              "      <td id=\"T_31c94_row1_col4\" class=\"data row1 col4\" >0.52</td>\n",
              "    </tr>\n",
              "    <tr>\n",
              "      <th id=\"T_31c94_level0_row2\" class=\"row_heading level0 row2\" >2</th>\n",
              "      <td id=\"T_31c94_row2_col0\" class=\"data row2 col0\" >0.57</td>\n",
              "      <td id=\"T_31c94_row2_col1\" class=\"data row2 col1\" >0.54</td>\n",
              "      <td id=\"T_31c94_row2_col2\" class=\"data row2 col2\" >0.54</td>\n",
              "      <td id=\"T_31c94_row2_col3\" class=\"data row2 col3\" >0.53</td>\n",
              "      <td id=\"T_31c94_row2_col4\" class=\"data row2 col4\" >0.53</td>\n",
              "    </tr>\n",
              "    <tr>\n",
              "      <th id=\"T_31c94_level0_row3\" class=\"row_heading level0 row3\" >3</th>\n",
              "      <td id=\"T_31c94_row3_col0\" class=\"data row3 col0\" >0.60</td>\n",
              "      <td id=\"T_31c94_row3_col1\" class=\"data row3 col1\" >0.55</td>\n",
              "      <td id=\"T_31c94_row3_col2\" class=\"data row3 col2\" >0.56</td>\n",
              "      <td id=\"T_31c94_row3_col3\" class=\"data row3 col3\" >0.54</td>\n",
              "      <td id=\"T_31c94_row3_col4\" class=\"data row3 col4\" >0.53</td>\n",
              "    </tr>\n",
              "    <tr>\n",
              "      <th id=\"T_31c94_level0_row4\" class=\"row_heading level0 row4\" >4</th>\n",
              "      <td id=\"T_31c94_row4_col0\" class=\"data row4 col0\" >0.60</td>\n",
              "      <td id=\"T_31c94_row4_col1\" class=\"data row4 col1\" >0.57</td>\n",
              "      <td id=\"T_31c94_row4_col2\" class=\"data row4 col2\" >0.57</td>\n",
              "      <td id=\"T_31c94_row4_col3\" class=\"data row4 col3\" >0.56</td>\n",
              "      <td id=\"T_31c94_row4_col4\" class=\"data row4 col4\" >0.55</td>\n",
              "    </tr>\n",
              "  </tbody>\n",
              "</table>\n"
            ]
          },
          "metadata": {}
        },
        {
          "output_type": "stream",
          "name": "stdout",
          "text": [
            "\n",
            "Mask Patch (shape: (50, 50, 1))\n"
          ]
        },
        {
          "output_type": "display_data",
          "data": {
            "text/plain": [
              "<pandas.io.formats.style.Styler at 0x7c5b7c3daa50>"
            ],
            "text/html": [
              "<style type=\"text/css\">\n",
              "</style>\n",
              "<table id=\"T_d4df5\" class=\"dataframe\">\n",
              "  <caption>Mask Patch</caption>\n",
              "  <thead>\n",
              "    <tr>\n",
              "      <th class=\"blank level0\" >&nbsp;</th>\n",
              "      <th id=\"T_d4df5_level0_col0\" class=\"col_heading level0 col0\" >0</th>\n",
              "      <th id=\"T_d4df5_level0_col1\" class=\"col_heading level0 col1\" >1</th>\n",
              "      <th id=\"T_d4df5_level0_col2\" class=\"col_heading level0 col2\" >2</th>\n",
              "      <th id=\"T_d4df5_level0_col3\" class=\"col_heading level0 col3\" >3</th>\n",
              "      <th id=\"T_d4df5_level0_col4\" class=\"col_heading level0 col4\" >4</th>\n",
              "    </tr>\n",
              "  </thead>\n",
              "  <tbody>\n",
              "    <tr>\n",
              "      <th id=\"T_d4df5_level0_row0\" class=\"row_heading level0 row0\" >0</th>\n",
              "      <td id=\"T_d4df5_row0_col0\" class=\"data row0 col0\" >1.00</td>\n",
              "      <td id=\"T_d4df5_row0_col1\" class=\"data row0 col1\" >1.00</td>\n",
              "      <td id=\"T_d4df5_row0_col2\" class=\"data row0 col2\" >1.00</td>\n",
              "      <td id=\"T_d4df5_row0_col3\" class=\"data row0 col3\" >1.00</td>\n",
              "      <td id=\"T_d4df5_row0_col4\" class=\"data row0 col4\" >1.00</td>\n",
              "    </tr>\n",
              "    <tr>\n",
              "      <th id=\"T_d4df5_level0_row1\" class=\"row_heading level0 row1\" >1</th>\n",
              "      <td id=\"T_d4df5_row1_col0\" class=\"data row1 col0\" >1.00</td>\n",
              "      <td id=\"T_d4df5_row1_col1\" class=\"data row1 col1\" >1.00</td>\n",
              "      <td id=\"T_d4df5_row1_col2\" class=\"data row1 col2\" >1.00</td>\n",
              "      <td id=\"T_d4df5_row1_col3\" class=\"data row1 col3\" >1.00</td>\n",
              "      <td id=\"T_d4df5_row1_col4\" class=\"data row1 col4\" >1.00</td>\n",
              "    </tr>\n",
              "    <tr>\n",
              "      <th id=\"T_d4df5_level0_row2\" class=\"row_heading level0 row2\" >2</th>\n",
              "      <td id=\"T_d4df5_row2_col0\" class=\"data row2 col0\" >1.00</td>\n",
              "      <td id=\"T_d4df5_row2_col1\" class=\"data row2 col1\" >1.00</td>\n",
              "      <td id=\"T_d4df5_row2_col2\" class=\"data row2 col2\" >1.00</td>\n",
              "      <td id=\"T_d4df5_row2_col3\" class=\"data row2 col3\" >1.00</td>\n",
              "      <td id=\"T_d4df5_row2_col4\" class=\"data row2 col4\" >1.00</td>\n",
              "    </tr>\n",
              "    <tr>\n",
              "      <th id=\"T_d4df5_level0_row3\" class=\"row_heading level0 row3\" >3</th>\n",
              "      <td id=\"T_d4df5_row3_col0\" class=\"data row3 col0\" >1.00</td>\n",
              "      <td id=\"T_d4df5_row3_col1\" class=\"data row3 col1\" >1.00</td>\n",
              "      <td id=\"T_d4df5_row3_col2\" class=\"data row3 col2\" >1.00</td>\n",
              "      <td id=\"T_d4df5_row3_col3\" class=\"data row3 col3\" >1.00</td>\n",
              "      <td id=\"T_d4df5_row3_col4\" class=\"data row3 col4\" >1.00</td>\n",
              "    </tr>\n",
              "    <tr>\n",
              "      <th id=\"T_d4df5_level0_row4\" class=\"row_heading level0 row4\" >4</th>\n",
              "      <td id=\"T_d4df5_row4_col0\" class=\"data row4 col0\" >1.00</td>\n",
              "      <td id=\"T_d4df5_row4_col1\" class=\"data row4 col1\" >1.00</td>\n",
              "      <td id=\"T_d4df5_row4_col2\" class=\"data row4 col2\" >1.00</td>\n",
              "      <td id=\"T_d4df5_row4_col3\" class=\"data row4 col3\" >1.00</td>\n",
              "      <td id=\"T_d4df5_row4_col4\" class=\"data row4 col4\" >1.00</td>\n",
              "    </tr>\n",
              "  </tbody>\n",
              "</table>\n"
            ]
          },
          "metadata": {}
        },
        {
          "output_type": "stream",
          "name": "stdout",
          "text": [
            "X shape: (310, 50, 50, 2)\n"
          ]
        }
      ]
    },
    {
      "cell_type": "code",
      "source": [
        "print(X_vh.shape)\n",
        "print(X_ndwi.shape)\n",
        "print(y.shape)\n"
      ],
      "metadata": {
        "colab": {
          "base_uri": "https://localhost:8080/"
        },
        "id": "wPJdE0fmUFVt",
        "outputId": "a6c91603-ad9c-47ba-af0d-ffb8d53e5746"
      },
      "execution_count": 167,
      "outputs": [
        {
          "output_type": "stream",
          "name": "stdout",
          "text": [
            "(310, 50, 50, 1)\n",
            "(310, 50, 50, 1)\n",
            "(310, 50, 50, 1)\n"
          ]
        }
      ]
    },
    {
      "cell_type": "code",
      "source": [
        "import torch\n",
        "import numpy as np\n",
        "\n",
        "X_vh = X_vh.astype(np.float32)\n",
        "X_ndwi = X_ndwi.astype(np.float32)\n",
        "y = y.astype(np.float32)\n",
        "\n",
        "X_vh_flat = X_vh.reshape(310, 2500)\n",
        "X_ndwi_flat = X_ndwi.reshape(310, 2500)\n",
        "\n",
        "X_combined = np.stack([X_vh_flat, X_ndwi_flat], axis=1)\n",
        "\n",
        "X_combined_tensor = torch.tensor(X_combined, dtype=torch.float32)\n",
        "\n",
        "y_tensor = torch.tensor(y.reshape(310, -1), dtype=torch.float32)\n"
      ],
      "metadata": {
        "id": "T5t2G7HGAsPK"
      },
      "execution_count": 169,
      "outputs": []
    },
    {
      "cell_type": "code",
      "source": [],
      "metadata": {
        "id": "Ful2UvCo5Qwj"
      },
      "execution_count": null,
      "outputs": []
    },
    {
      "cell_type": "code",
      "source": [
        "import torch\n",
        "import torch.nn as nn\n",
        "import torch.nn.functional as F\n",
        "\n",
        "class CNN1D(nn.Module):\n",
        "    def __init__(self, in_channels=2):\n",
        "        super(CNN1D, self).__init__()\n",
        "\n",
        "        self.conv1 = nn.Conv1d(in_channels=in_channels, out_channels=32, kernel_size=3, padding=1)\n",
        "        self.conv2 = nn.Conv1d(32, 64, kernel_size=3, padding=1)\n",
        "        self.conv3 = nn.Conv1d(64, 1, kernel_size=1)  # Output 1 value per timestep\n",
        "\n",
        "    def forward(self, x):  # x: [batch, channels, seq_len]\n",
        "        x = F.relu(self.conv1(x))  # [batch, 32, 2500]\n",
        "        x = F.relu(self.conv2(x))  # [batch, 64, 2500]\n",
        "        x = self.conv3(x)          # [batch, 1, 2500]\n",
        "        return x.squeeze(1)        # [batch, 2500]  (match your target y shape)\n"
      ],
      "metadata": {
        "id": "3u6XrVid-HZj"
      },
      "execution_count": 170,
      "outputs": []
    },
    {
      "cell_type": "code",
      "source": [],
      "metadata": {
        "id": "eNDT4AUh23SK"
      },
      "execution_count": null,
      "outputs": []
    },
    {
      "cell_type": "code",
      "source": [],
      "metadata": {
        "id": "R48mAt3i4MAX"
      },
      "execution_count": null,
      "outputs": []
    },
    {
      "cell_type": "code",
      "source": [
        "X_train, X_temp, y_train, y_temp = train_test_split(X_combined_tensor, y_tensor, test_size=0.3, random_state=42)\n",
        "X_val, X_test, y_val, y_test = train_test_split(X_temp, y_temp, test_size=0.5, random_state=42)\n",
        "\n",
        "print(X_train.shape, X_val.shape, X_test.shape)"
      ],
      "metadata": {
        "colab": {
          "base_uri": "https://localhost:8080/"
        },
        "id": "vdZwdqvyCqdF",
        "outputId": "29218a26-348a-45e7-8074-e37efd9fc921"
      },
      "execution_count": 171,
      "outputs": [
        {
          "output_type": "stream",
          "name": "stdout",
          "text": [
            "torch.Size([217, 2, 2500]) torch.Size([46, 2, 2500]) torch.Size([47, 2, 2500])\n"
          ]
        }
      ]
    },
    {
      "cell_type": "code",
      "source": [
        "from torch.utils.data import DataLoader, TensorDataset\n",
        "\n",
        "# Dataset & Dataloader\n",
        "train_loader = DataLoader(TensorDataset(X_train, y_train), batch_size=16, shuffle=True)\n",
        "val_loader = DataLoader(TensorDataset(X_val, y_val), batch_size=16)\n",
        "test_loader = DataLoader(TensorDataset(X_test, y_test), batch_size=16)\n",
        "\n",
        "# Model, optimizer, loss\n",
        "model = CNN1D(in_channels=2).to('cuda')\n",
        "optimizer = torch.optim.Adam(model.parameters(), lr=1e-3)\n",
        "criterion = nn.BCEWithLogitsLoss()\n",
        "\n",
        "# Training\n",
        "epochs = 50\n",
        "for epoch in range(epochs):\n",
        "    model.train()\n",
        "    total_loss = 0\n",
        "    for xb, yb in train_loader:\n",
        "        xb, yb = xb.to('cuda'), yb.to('cuda')\n",
        "\n",
        "        # Simulate time embedding input (e.g., 0 for now)\n",
        "        t = torch.zeros((xb.shape[0], 1)).to('cuda')\n",
        "\n",
        "        optimizer.zero_grad()\n",
        "        out = model(xb).squeeze(1)  # shape: (B, 2500)\n",
        "        loss = criterion(out, yb)\n",
        "        loss.backward()\n",
        "        optimizer.step()\n",
        "\n",
        "        total_loss += loss.item()\n",
        "\n",
        "    print(f\"Epoch {epoch+1}/{epochs}, Loss: {total_loss / len(train_loader):.4f}\")\n"
      ],
      "metadata": {
        "colab": {
          "base_uri": "https://localhost:8080/"
        },
        "id": "7oIBKXCSCqgq",
        "outputId": "46d6ff30-251f-4a68-d179-518671c20119"
      },
      "execution_count": 172,
      "outputs": [
        {
          "output_type": "stream",
          "name": "stdout",
          "text": [
            "Epoch 1/50, Loss: 0.5636\n",
            "Epoch 2/50, Loss: 0.3803\n",
            "Epoch 3/50, Loss: 0.2914\n",
            "Epoch 4/50, Loss: 0.2582\n",
            "Epoch 5/50, Loss: 0.2214\n",
            "Epoch 6/50, Loss: 0.1792\n",
            "Epoch 7/50, Loss: 0.1391\n",
            "Epoch 8/50, Loss: 0.1103\n",
            "Epoch 9/50, Loss: 0.0919\n",
            "Epoch 10/50, Loss: 0.0856\n",
            "Epoch 11/50, Loss: 0.0804\n",
            "Epoch 12/50, Loss: 0.0765\n",
            "Epoch 13/50, Loss: 0.0740\n",
            "Epoch 14/50, Loss: 0.0755\n",
            "Epoch 15/50, Loss: 0.0752\n",
            "Epoch 16/50, Loss: 0.0726\n",
            "Epoch 17/50, Loss: 0.0710\n",
            "Epoch 18/50, Loss: 0.0678\n",
            "Epoch 19/50, Loss: 0.0658\n",
            "Epoch 20/50, Loss: 0.0637\n",
            "Epoch 21/50, Loss: 0.0627\n",
            "Epoch 22/50, Loss: 0.0599\n",
            "Epoch 23/50, Loss: 0.0594\n",
            "Epoch 24/50, Loss: 0.0615\n",
            "Epoch 25/50, Loss: 0.0566\n",
            "Epoch 26/50, Loss: 0.0577\n",
            "Epoch 27/50, Loss: 0.0547\n",
            "Epoch 28/50, Loss: 0.0532\n",
            "Epoch 29/50, Loss: 0.0523\n",
            "Epoch 30/50, Loss: 0.0503\n",
            "Epoch 31/50, Loss: 0.0504\n",
            "Epoch 32/50, Loss: 0.0484\n",
            "Epoch 33/50, Loss: 0.0482\n",
            "Epoch 34/50, Loss: 0.0472\n",
            "Epoch 35/50, Loss: 0.0456\n",
            "Epoch 36/50, Loss: 0.0439\n",
            "Epoch 37/50, Loss: 0.0430\n",
            "Epoch 38/50, Loss: 0.0420\n",
            "Epoch 39/50, Loss: 0.0428\n",
            "Epoch 40/50, Loss: 0.0407\n",
            "Epoch 41/50, Loss: 0.0391\n",
            "Epoch 42/50, Loss: 0.0377\n",
            "Epoch 43/50, Loss: 0.0372\n",
            "Epoch 44/50, Loss: 0.0359\n",
            "Epoch 45/50, Loss: 0.0353\n",
            "Epoch 46/50, Loss: 0.0349\n",
            "Epoch 47/50, Loss: 0.0339\n",
            "Epoch 48/50, Loss: 0.0336\n",
            "Epoch 49/50, Loss: 0.0327\n",
            "Epoch 50/50, Loss: 0.0323\n"
          ]
        }
      ]
    },
    {
      "cell_type": "code",
      "source": [
        "DEVICE = torch.device(\"cuda\" if torch.cuda.is_available() else \"cpu\")\n"
      ],
      "metadata": {
        "id": "-P8lLhRp-HgB"
      },
      "execution_count": 173,
      "outputs": []
    },
    {
      "cell_type": "code",
      "source": [
        "import numpy as np\n",
        "import pandas as pd\n",
        "import time\n",
        "import torch\n",
        "from sklearn.metrics import (\n",
        "    accuracy_score, balanced_accuracy_score, precision_score,\n",
        "    recall_score, f1_score, jaccard_score, cohen_kappa_score\n",
        ")\n"
      ],
      "metadata": {
        "id": "tVD5edQ09BKl"
      },
      "execution_count": 174,
      "outputs": []
    },
    {
      "cell_type": "code",
      "source": [
        "def compute_metrics(phase, true_labels, predicted_labels):\n",
        "    flat_true = np.ravel(true_labels)\n",
        "    flat_pred = np.ravel(predicted_labels)\n",
        "\n",
        "    return {\n",
        "        \"Timestamp\": time.strftime(\"%Y-%m-%d %H:%M:%S\"),\n",
        "        \"Phase\": phase,\n",
        "        \"Accuracy\": accuracy_score(flat_true, flat_pred),\n",
        "        \"Balanced Accuracy\": balanced_accuracy_score(flat_true, flat_pred),\n",
        "        \"Precision\": precision_score(flat_true, flat_pred, zero_division=0),\n",
        "        \"Recall\": recall_score(flat_true, flat_pred),\n",
        "        \"F1 Score\": f1_score(flat_true, flat_pred),\n",
        "        \"IoU\": jaccard_score(flat_true, flat_pred),\n",
        "        \"Cohen Kappa\": cohen_kappa_score(flat_true, flat_pred),\n",
        "        \"Positive %\": round(np.mean(flat_true) * 100, 2),\n",
        "    }\n"
      ],
      "metadata": {
        "id": "IxecVfS89BM4"
      },
      "execution_count": 175,
      "outputs": []
    },
    {
      "cell_type": "code",
      "source": [
        "def evaluate_and_log(y_true, y_pred, csv_path, phase):\n",
        "    metrics = compute_metrics(phase, y_true, y_pred)\n",
        "    df = pd.DataFrame([metrics])\n",
        "\n",
        "    # Append or create CSV\n",
        "    if not pd.io.common.file_exists(csv_path):\n",
        "        df.to_csv(csv_path, index=False)\n",
        "    else:\n",
        "        df.to_csv(csv_path, mode='a', header=False, index=False)\n",
        "\n",
        "    print(f\"✅ Metrics logged for {phase} phase.\")\n"
      ],
      "metadata": {
        "id": "wYsBerC_9BQc"
      },
      "execution_count": 176,
      "outputs": []
    },
    {
      "cell_type": "code",
      "source": [
        "def get_all_preds(loader, model):\n",
        "    all_preds = []\n",
        "    all_true = []\n",
        "    model.eval()\n",
        "\n",
        "    with torch.no_grad():\n",
        "        for X_batch, y_batch in loader:\n",
        "            X_batch = X_batch.to(DEVICE)\n",
        "            y_batch = y_batch.to(DEVICE)\n",
        "\n",
        "            batch_size = X_batch.size(0)\n",
        "\n",
        "            preds = model(X_batch)\n",
        "            preds = torch.sigmoid(preds).squeeze(dim=1)  # [batch, 2500] if needed\n",
        "\n",
        "            preds = (preds > 0.5).float().cpu().numpy()\n",
        "            all_preds.append(preds)\n",
        "            all_true.append((y_batch > 0.5).float().cpu().numpy())\n",
        "\n",
        "    return np.concatenate(all_true), np.concatenate(all_preds)\n"
      ],
      "metadata": {
        "id": "F_f-ZHrd9GdW"
      },
      "execution_count": 177,
      "outputs": []
    },
    {
      "cell_type": "code",
      "source": [
        "results_path = \"cnn_Bihar.csv\"\n",
        "\n",
        "# Train Set Evaluation\n",
        "train_true, train_pred = get_all_preds(train_loader, model)\n",
        "evaluate_and_log(train_true, train_pred, results_path, \"Train\")\n",
        "\n",
        "# Validation Set Evaluation\n",
        "val_true, val_pred = get_all_preds(val_loader, model)\n",
        "evaluate_and_log(val_true, val_pred, results_path, \"Validation\")\n",
        "\n",
        "# Test Set Evaluation\n",
        "test_true, test_pred = get_all_preds(test_loader, model)\n",
        "evaluate_and_log(test_true, test_pred, results_path, \"Test\")\n"
      ],
      "metadata": {
        "colab": {
          "base_uri": "https://localhost:8080/"
        },
        "id": "lD3mq46o9Gg9",
        "outputId": "50ec4616-324f-476f-8e3d-cb19b6b34560"
      },
      "execution_count": 179,
      "outputs": [
        {
          "output_type": "stream",
          "name": "stdout",
          "text": [
            "✅ Metrics logged for Train phase.\n",
            "✅ Metrics logged for Validation phase.\n",
            "✅ Metrics logged for Test phase.\n"
          ]
        }
      ]
    }
  ]
}