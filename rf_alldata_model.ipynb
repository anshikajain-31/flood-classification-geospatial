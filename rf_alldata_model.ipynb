{
  "nbformat": 4,
  "nbformat_minor": 0,
  "metadata": {
    "colab": {
      "provenance": [],
      "gpuType": "T4"
    },
    "kernelspec": {
      "name": "python3",
      "display_name": "Python 3"
    },
    "language_info": {
      "name": "python"
    },
    "accelerator": "GPU"
  },
  "cells": [
    {
      "cell_type": "code",
      "execution_count": null,
      "metadata": {
        "id": "iZSR0NCsbNeM"
      },
      "outputs": [],
      "source": []
    },
    {
      "cell_type": "code",
      "execution_count": null,
      "metadata": {
        "id": "ytH0n8NB828E",
        "colab": {
          "base_uri": "https://localhost:8080/"
        },
        "outputId": "2150de60-b798-4b54-ee25-f8e95288d8d5"
      },
      "outputs": [
        {
          "output_type": "stream",
          "name": "stdout",
          "text": [
            "Requirement already satisfied: ipynbname in /usr/local/lib/python3.11/dist-packages (2024.1.0.0)\n",
            "Requirement already satisfied: ipykernel in /usr/local/lib/python3.11/dist-packages (from ipynbname) (6.17.1)\n",
            "Requirement already satisfied: debugpy>=1.0 in /usr/local/lib/python3.11/dist-packages (from ipykernel->ipynbname) (1.8.0)\n",
            "Requirement already satisfied: ipython>=7.23.1 in /usr/local/lib/python3.11/dist-packages (from ipykernel->ipynbname) (7.34.0)\n",
            "Requirement already satisfied: jupyter-client>=6.1.12 in /usr/local/lib/python3.11/dist-packages (from ipykernel->ipynbname) (6.1.12)\n",
            "Requirement already satisfied: matplotlib-inline>=0.1 in /usr/local/lib/python3.11/dist-packages (from ipykernel->ipynbname) (0.1.7)\n",
            "Requirement already satisfied: nest-asyncio in /usr/local/lib/python3.11/dist-packages (from ipykernel->ipynbname) (1.6.0)\n",
            "Requirement already satisfied: packaging in /usr/local/lib/python3.11/dist-packages (from ipykernel->ipynbname) (24.2)\n",
            "Requirement already satisfied: psutil in /usr/local/lib/python3.11/dist-packages (from ipykernel->ipynbname) (5.9.5)\n",
            "Requirement already satisfied: pyzmq>=17 in /usr/local/lib/python3.11/dist-packages (from ipykernel->ipynbname) (24.0.1)\n",
            "Requirement already satisfied: tornado>=6.1 in /usr/local/lib/python3.11/dist-packages (from ipykernel->ipynbname) (6.4.2)\n",
            "Requirement already satisfied: traitlets>=5.1.0 in /usr/local/lib/python3.11/dist-packages (from ipykernel->ipynbname) (5.7.1)\n",
            "Requirement already satisfied: setuptools>=18.5 in /usr/local/lib/python3.11/dist-packages (from ipython>=7.23.1->ipykernel->ipynbname) (75.2.0)\n",
            "Requirement already satisfied: jedi>=0.16 in /usr/local/lib/python3.11/dist-packages (from ipython>=7.23.1->ipykernel->ipynbname) (0.19.2)\n",
            "Requirement already satisfied: decorator in /usr/local/lib/python3.11/dist-packages (from ipython>=7.23.1->ipykernel->ipynbname) (4.4.2)\n",
            "Requirement already satisfied: pickleshare in /usr/local/lib/python3.11/dist-packages (from ipython>=7.23.1->ipykernel->ipynbname) (0.7.5)\n",
            "Requirement already satisfied: prompt-toolkit!=3.0.0,!=3.0.1,<3.1.0,>=2.0.0 in /usr/local/lib/python3.11/dist-packages (from ipython>=7.23.1->ipykernel->ipynbname) (3.0.51)\n",
            "Requirement already satisfied: pygments in /usr/local/lib/python3.11/dist-packages (from ipython>=7.23.1->ipykernel->ipynbname) (2.19.1)\n",
            "Requirement already satisfied: backcall in /usr/local/lib/python3.11/dist-packages (from ipython>=7.23.1->ipykernel->ipynbname) (0.2.0)\n",
            "Requirement already satisfied: pexpect>4.3 in /usr/local/lib/python3.11/dist-packages (from ipython>=7.23.1->ipykernel->ipynbname) (4.9.0)\n",
            "Requirement already satisfied: jupyter-core>=4.6.0 in /usr/local/lib/python3.11/dist-packages (from jupyter-client>=6.1.12->ipykernel->ipynbname) (5.7.2)\n",
            "Requirement already satisfied: python-dateutil>=2.1 in /usr/local/lib/python3.11/dist-packages (from jupyter-client>=6.1.12->ipykernel->ipynbname) (2.9.0.post0)\n",
            "Requirement already satisfied: parso<0.9.0,>=0.8.4 in /usr/local/lib/python3.11/dist-packages (from jedi>=0.16->ipython>=7.23.1->ipykernel->ipynbname) (0.8.4)\n",
            "Requirement already satisfied: platformdirs>=2.5 in /usr/local/lib/python3.11/dist-packages (from jupyter-core>=4.6.0->jupyter-client>=6.1.12->ipykernel->ipynbname) (4.3.8)\n",
            "Requirement already satisfied: ptyprocess>=0.5 in /usr/local/lib/python3.11/dist-packages (from pexpect>4.3->ipython>=7.23.1->ipykernel->ipynbname) (0.7.0)\n",
            "Requirement already satisfied: wcwidth in /usr/local/lib/python3.11/dist-packages (from prompt-toolkit!=3.0.0,!=3.0.1,<3.1.0,>=2.0.0->ipython>=7.23.1->ipykernel->ipynbname) (0.2.13)\n",
            "Requirement already satisfied: six>=1.5 in /usr/local/lib/python3.11/dist-packages (from python-dateutil>=2.1->jupyter-client>=6.1.12->ipykernel->ipynbname) (1.17.0)\n",
            "Requirement already satisfied: gdown in /usr/local/lib/python3.11/dist-packages (5.2.0)\n",
            "Requirement already satisfied: beautifulsoup4 in /usr/local/lib/python3.11/dist-packages (from gdown) (4.13.4)\n",
            "Requirement already satisfied: filelock in /usr/local/lib/python3.11/dist-packages (from gdown) (3.18.0)\n",
            "Requirement already satisfied: requests[socks] in /usr/local/lib/python3.11/dist-packages (from gdown) (2.32.3)\n",
            "Requirement already satisfied: tqdm in /usr/local/lib/python3.11/dist-packages (from gdown) (4.67.1)\n",
            "Requirement already satisfied: soupsieve>1.2 in /usr/local/lib/python3.11/dist-packages (from beautifulsoup4->gdown) (2.7)\n",
            "Requirement already satisfied: typing-extensions>=4.0.0 in /usr/local/lib/python3.11/dist-packages (from beautifulsoup4->gdown) (4.13.2)\n",
            "Requirement already satisfied: charset-normalizer<4,>=2 in /usr/local/lib/python3.11/dist-packages (from requests[socks]->gdown) (3.4.2)\n",
            "Requirement already satisfied: idna<4,>=2.5 in /usr/local/lib/python3.11/dist-packages (from requests[socks]->gdown) (3.10)\n",
            "Requirement already satisfied: urllib3<3,>=1.21.1 in /usr/local/lib/python3.11/dist-packages (from requests[socks]->gdown) (2.4.0)\n",
            "Requirement already satisfied: certifi>=2017.4.17 in /usr/local/lib/python3.11/dist-packages (from requests[socks]->gdown) (2025.4.26)\n",
            "Requirement already satisfied: PySocks!=1.5.7,>=1.5.6 in /usr/local/lib/python3.11/dist-packages (from requests[socks]->gdown) (1.7.1)\n",
            "Notebook name: fileId=1hTaCTJTZyd8XK00ajAc0_-7zcWUGlHHI\n"
          ]
        }
      ],
      "source": [
        "!pip install ipynbname\n",
        "!pip install gdown --upgrade\n",
        "import ipynbname\n",
        "\n",
        "nb_path = ipynbname.path()  # returns a pathlib.Path object\n",
        "print(\"Notebook name:\", nb_path.name)"
      ]
    },
    {
      "cell_type": "code",
      "source": [
        "!pip install rasterio --quiet"
      ],
      "metadata": {
        "id": "Nxo3hDIa-HPx",
        "colab": {
          "base_uri": "https://localhost:8080/"
        },
        "outputId": "88c5981f-a4fd-40aa-d31d-a0e0ebf4a57c"
      },
      "execution_count": 1,
      "outputs": [
        {
          "output_type": "stream",
          "name": "stdout",
          "text": [
            "\u001b[2K   \u001b[90m━━━━━━━━━━━━━━━━━━━━━━━━━━━━━━━━━━━━━━━━\u001b[0m \u001b[32m22.2/22.2 MB\u001b[0m \u001b[31m15.5 MB/s\u001b[0m eta \u001b[36m0:00:00\u001b[0m\n",
            "\u001b[?25h"
          ]
        }
      ]
    },
    {
      "cell_type": "code",
      "execution_count": 63,
      "metadata": {
        "id": "f7fcdc22-bf18-49a2-8119-34d93624d9ff"
      },
      "outputs": [],
      "source": [
        "import numpy as np\n",
        "import pandas as pd\n",
        "from IPython.display import display\n",
        "import os\n",
        "import rasterio\n",
        "from IPython.display import display\n",
        "import matplotlib.pyplot as plt\n",
        "import random\n",
        "import torch\n",
        "import torch.nn as nn\n",
        "import torch.nn.functional as F\n",
        "from sklearn.metrics import accuracy_score, balanced_accuracy_score, precision_score, recall_score, f1_score, jaccard_score, cohen_kappa_score\n",
        "from sklearn.model_selection import train_test_split"
      ]
    },
    {
      "cell_type": "code",
      "source": [
        "SEED = 42\n",
        "torch.manual_seed(SEED)\n",
        "np.random.seed(SEED)\n",
        "torch.backends.cudnn.deterministic = True\n",
        "torch.backends.cudnn.benchmark = False"
      ],
      "metadata": {
        "id": "z3G9O1j-QBRA"
      },
      "execution_count": 64,
      "outputs": []
    },
    {
      "cell_type": "code",
      "execution_count": 65,
      "metadata": {
        "colab": {
          "base_uri": "https://localhost:8080/"
        },
        "id": "9b5f3ec5-25cf-4969-8923-0240a23511e0",
        "outputId": "dd31a477-1f16-4058-81b1-60249b1acf64"
      },
      "outputs": [
        {
          "output_type": "stream",
          "name": "stdout",
          "text": [
            "2.6.0+cu124\n",
            "CUDA available: False\n",
            "GPU name: N/A\n"
          ]
        }
      ],
      "source": [
        "print(torch.__version__)\n",
        "print(\"CUDA available:\", torch.cuda.is_available())\n",
        "print(\"GPU name:\", torch.cuda.get_device_name(0) if torch.cuda.is_available() else \"N/A\")"
      ]
    },
    {
      "cell_type": "code",
      "source": [],
      "metadata": {
        "id": "gENWl_xiPrl7"
      },
      "execution_count": null,
      "outputs": []
    },
    {
      "cell_type": "code",
      "source": [
        "from google.colab import files\n",
        "uploaded = files.upload()\n"
      ],
      "metadata": {
        "colab": {
          "base_uri": "https://localhost:8080/",
          "height": 73
        },
        "id": "498qPbqDWdMC",
        "outputId": "5991b603-c728-4483-ccb3-bff95e1807ff"
      },
      "execution_count": 5,
      "outputs": [
        {
          "output_type": "display_data",
          "data": {
            "text/plain": [
              "<IPython.core.display.HTML object>"
            ],
            "text/html": [
              "\n",
              "     <input type=\"file\" id=\"files-d98bc732-2f20-447d-a906-15b876d448c5\" name=\"files[]\" multiple disabled\n",
              "        style=\"border:none\" />\n",
              "     <output id=\"result-d98bc732-2f20-447d-a906-15b876d448c5\">\n",
              "      Upload widget is only available when the cell has been executed in the\n",
              "      current browser session. Please rerun this cell to enable.\n",
              "      </output>\n",
              "      <script>// Copyright 2017 Google LLC\n",
              "//\n",
              "// Licensed under the Apache License, Version 2.0 (the \"License\");\n",
              "// you may not use this file except in compliance with the License.\n",
              "// You may obtain a copy of the License at\n",
              "//\n",
              "//      http://www.apache.org/licenses/LICENSE-2.0\n",
              "//\n",
              "// Unless required by applicable law or agreed to in writing, software\n",
              "// distributed under the License is distributed on an \"AS IS\" BASIS,\n",
              "// WITHOUT WARRANTIES OR CONDITIONS OF ANY KIND, either express or implied.\n",
              "// See the License for the specific language governing permissions and\n",
              "// limitations under the License.\n",
              "\n",
              "/**\n",
              " * @fileoverview Helpers for google.colab Python module.\n",
              " */\n",
              "(function(scope) {\n",
              "function span(text, styleAttributes = {}) {\n",
              "  const element = document.createElement('span');\n",
              "  element.textContent = text;\n",
              "  for (const key of Object.keys(styleAttributes)) {\n",
              "    element.style[key] = styleAttributes[key];\n",
              "  }\n",
              "  return element;\n",
              "}\n",
              "\n",
              "// Max number of bytes which will be uploaded at a time.\n",
              "const MAX_PAYLOAD_SIZE = 100 * 1024;\n",
              "\n",
              "function _uploadFiles(inputId, outputId) {\n",
              "  const steps = uploadFilesStep(inputId, outputId);\n",
              "  const outputElement = document.getElementById(outputId);\n",
              "  // Cache steps on the outputElement to make it available for the next call\n",
              "  // to uploadFilesContinue from Python.\n",
              "  outputElement.steps = steps;\n",
              "\n",
              "  return _uploadFilesContinue(outputId);\n",
              "}\n",
              "\n",
              "// This is roughly an async generator (not supported in the browser yet),\n",
              "// where there are multiple asynchronous steps and the Python side is going\n",
              "// to poll for completion of each step.\n",
              "// This uses a Promise to block the python side on completion of each step,\n",
              "// then passes the result of the previous step as the input to the next step.\n",
              "function _uploadFilesContinue(outputId) {\n",
              "  const outputElement = document.getElementById(outputId);\n",
              "  const steps = outputElement.steps;\n",
              "\n",
              "  const next = steps.next(outputElement.lastPromiseValue);\n",
              "  return Promise.resolve(next.value.promise).then((value) => {\n",
              "    // Cache the last promise value to make it available to the next\n",
              "    // step of the generator.\n",
              "    outputElement.lastPromiseValue = value;\n",
              "    return next.value.response;\n",
              "  });\n",
              "}\n",
              "\n",
              "/**\n",
              " * Generator function which is called between each async step of the upload\n",
              " * process.\n",
              " * @param {string} inputId Element ID of the input file picker element.\n",
              " * @param {string} outputId Element ID of the output display.\n",
              " * @return {!Iterable<!Object>} Iterable of next steps.\n",
              " */\n",
              "function* uploadFilesStep(inputId, outputId) {\n",
              "  const inputElement = document.getElementById(inputId);\n",
              "  inputElement.disabled = false;\n",
              "\n",
              "  const outputElement = document.getElementById(outputId);\n",
              "  outputElement.innerHTML = '';\n",
              "\n",
              "  const pickedPromise = new Promise((resolve) => {\n",
              "    inputElement.addEventListener('change', (e) => {\n",
              "      resolve(e.target.files);\n",
              "    });\n",
              "  });\n",
              "\n",
              "  const cancel = document.createElement('button');\n",
              "  inputElement.parentElement.appendChild(cancel);\n",
              "  cancel.textContent = 'Cancel upload';\n",
              "  const cancelPromise = new Promise((resolve) => {\n",
              "    cancel.onclick = () => {\n",
              "      resolve(null);\n",
              "    };\n",
              "  });\n",
              "\n",
              "  // Wait for the user to pick the files.\n",
              "  const files = yield {\n",
              "    promise: Promise.race([pickedPromise, cancelPromise]),\n",
              "    response: {\n",
              "      action: 'starting',\n",
              "    }\n",
              "  };\n",
              "\n",
              "  cancel.remove();\n",
              "\n",
              "  // Disable the input element since further picks are not allowed.\n",
              "  inputElement.disabled = true;\n",
              "\n",
              "  if (!files) {\n",
              "    return {\n",
              "      response: {\n",
              "        action: 'complete',\n",
              "      }\n",
              "    };\n",
              "  }\n",
              "\n",
              "  for (const file of files) {\n",
              "    const li = document.createElement('li');\n",
              "    li.append(span(file.name, {fontWeight: 'bold'}));\n",
              "    li.append(span(\n",
              "        `(${file.type || 'n/a'}) - ${file.size} bytes, ` +\n",
              "        `last modified: ${\n",
              "            file.lastModifiedDate ? file.lastModifiedDate.toLocaleDateString() :\n",
              "                                    'n/a'} - `));\n",
              "    const percent = span('0% done');\n",
              "    li.appendChild(percent);\n",
              "\n",
              "    outputElement.appendChild(li);\n",
              "\n",
              "    const fileDataPromise = new Promise((resolve) => {\n",
              "      const reader = new FileReader();\n",
              "      reader.onload = (e) => {\n",
              "        resolve(e.target.result);\n",
              "      };\n",
              "      reader.readAsArrayBuffer(file);\n",
              "    });\n",
              "    // Wait for the data to be ready.\n",
              "    let fileData = yield {\n",
              "      promise: fileDataPromise,\n",
              "      response: {\n",
              "        action: 'continue',\n",
              "      }\n",
              "    };\n",
              "\n",
              "    // Use a chunked sending to avoid message size limits. See b/62115660.\n",
              "    let position = 0;\n",
              "    do {\n",
              "      const length = Math.min(fileData.byteLength - position, MAX_PAYLOAD_SIZE);\n",
              "      const chunk = new Uint8Array(fileData, position, length);\n",
              "      position += length;\n",
              "\n",
              "      const base64 = btoa(String.fromCharCode.apply(null, chunk));\n",
              "      yield {\n",
              "        response: {\n",
              "          action: 'append',\n",
              "          file: file.name,\n",
              "          data: base64,\n",
              "        },\n",
              "      };\n",
              "\n",
              "      let percentDone = fileData.byteLength === 0 ?\n",
              "          100 :\n",
              "          Math.round((position / fileData.byteLength) * 100);\n",
              "      percent.textContent = `${percentDone}% done`;\n",
              "\n",
              "    } while (position < fileData.byteLength);\n",
              "  }\n",
              "\n",
              "  // All done.\n",
              "  yield {\n",
              "    response: {\n",
              "      action: 'complete',\n",
              "    }\n",
              "  };\n",
              "}\n",
              "\n",
              "scope.google = scope.google || {};\n",
              "scope.google.colab = scope.google.colab || {};\n",
              "scope.google.colab._files = {\n",
              "  _uploadFiles,\n",
              "  _uploadFilesContinue,\n",
              "};\n",
              "})(self);\n",
              "</script> "
            ]
          },
          "metadata": {}
        },
        {
          "output_type": "stream",
          "name": "stdout",
          "text": [
            "Saving all_DATA.zip to all_DATA.zip\n"
          ]
        }
      ]
    },
    {
      "cell_type": "code",
      "source": [
        "import zipfile\n",
        "import os\n",
        "\n",
        "zip_path = \"/content/all_DATA.zip\"\n",
        "extract_path = \"/content\"\n",
        "\n",
        "# Unzip it\n",
        "with zipfile.ZipFile(zip_path, 'r') as zip_ref:\n",
        "    zip_ref.extractall(extract_path)\n",
        "\n",
        "# Confirm it worked\n",
        "print(\"Extracted files:\", os.listdir(extract_path))\n"
      ],
      "metadata": {
        "colab": {
          "base_uri": "https://localhost:8080/"
        },
        "id": "76Gv3aFucqIB",
        "outputId": "010dc2bb-f13a-499a-9a5c-0e962876c7a6"
      },
      "execution_count": 6,
      "outputs": [
        {
          "output_type": "stream",
          "name": "stdout",
          "text": [
            "Extracted files: ['.config', 'all_DATA', 'all_DATA.zip', 'sample_data']\n"
          ]
        }
      ]
    },
    {
      "cell_type": "code",
      "execution_count": 112,
      "metadata": {
        "id": "bc5cf617-64a8-443d-959a-8de9b5ca7e5d"
      },
      "outputs": [],
      "source": [
        "state = \"WB\"\n",
        "data_dir = f\"/content/all_DATA/{state}/GEE_Patches\"\n",
        "results_path = f\"rf_{state}.csv\""
      ]
    },
    {
      "cell_type": "code",
      "source": [
        "# Set hyperparameters\n",
        "\n",
        "PATCH_SIZE = 50\n",
        "BATCH_SIZE = 32\n",
        "EPOCHS = 50\n",
        "\n",
        "DIFFUSION_STEPS = 100\n",
        "MIN_BETA = 1e-4\n",
        "MAX_BETA = 0.02\n",
        "betas = np.linspace(MIN_BETA, MAX_BETA, DIFFUSION_STEPS, dtype=np.float32)\n",
        "alphas = 1.0 - betas\n",
        "alpha_bars = np.cumprod(alphas).astype(np.float32)\n",
        "\n",
        "\n"
      ],
      "metadata": {
        "id": "VVs1QuLz_InG"
      },
      "execution_count": 113,
      "outputs": []
    },
    {
      "cell_type": "code",
      "execution_count": 114,
      "metadata": {
        "id": "503fa564-5c81-4a01-9877-e8e2f9592d6d"
      },
      "outputs": [],
      "source": [
        "## Image patch extraction\n",
        "\n",
        "def extract_patches(image, patch_size=PATCH_SIZE):\n",
        "    patches = []\n",
        "    h, w = image.shape\n",
        "    for i in range(h // patch_size):\n",
        "        for j in range(w // patch_size):\n",
        "            patch = image[i*patch_size:(i+1)*patch_size, j*patch_size:(j+1)*patch_size]\n",
        "            patches.append(patch)\n",
        "    return np.expand_dims(np.array(patches), axis=-1)\n",
        "\n",
        "def load_and_extract_patches(directory):\n",
        "    vh_files = sorted([f for f in os.listdir(directory) if f.startswith('S1_VH')])\n",
        "    ndwi_files = sorted([f for f in os.listdir(directory) if f.startswith('S2_NDWI')])\n",
        "    mask_files = sorted([f for f in os.listdir(directory) if f.startswith('Mask')])\n",
        "\n",
        "    print(\"First 3 VH files:\")\n",
        "    for file in vh_files[:3]:\n",
        "        print(file)\n",
        "\n",
        "    print(\"First 3 NDWI files:\")\n",
        "    for file in ndwi_files[:3]:\n",
        "        print(file)\n",
        "\n",
        "    print(\"First 3 Mask files:\")\n",
        "    for file in mask_files[:3]:\n",
        "        print(file)\n",
        "\n",
        "    X_vh, X_ndwi, y = [], [], []\n",
        "    for vh_file, ndwi_file, mask_file in zip(vh_files, ndwi_files, mask_files):\n",
        "        with rasterio.open(os.path.join(directory, vh_file)) as src: vh_img = np.nan_to_num(src.read(1))\n",
        "        with rasterio.open(os.path.join(directory, ndwi_file)) as src: ndwi_img = np.nan_to_num(src.read(1))\n",
        "        with rasterio.open(os.path.join(directory, mask_file)) as src:\n",
        "            mask_img = (np.nan_to_num(src.read(1)) > 0).astype(np.float32)\n",
        "\n",
        "        X_vh.append(extract_patches(vh_img))\n",
        "        X_ndwi.append(extract_patches(ndwi_img))\n",
        "        y.append(extract_patches(mask_img))\n",
        "\n",
        "    X_vh = np.concatenate(X_vh)\n",
        "    X_ndwi = np.concatenate(X_ndwi)\n",
        "    y = np.concatenate(y)\n",
        "    print(f\"Class balance: {np.mean(y)*100:.2f}% positive pixels\")\n",
        "\n",
        "\n",
        "    return X_vh, X_ndwi, y\n"
      ]
    },
    {
      "cell_type": "markdown",
      "metadata": {
        "id": "60e92614-47ba-4e34-ba70-80aaa8f0b237"
      },
      "source": [
        "### Each returned array (`X_vh`, `X_ndwi`, `y`) has the shape: (num_patches, patch_height, patch_width, num_channels)\n",
        "\n",
        "X_vh shape: (50, 50, 50, 1)\n",
        "\n",
        "50 patches in total (from all input images).\n",
        "\n",
        "Each patch is 50x50 pixels.\n",
        "\n",
        "1 channel (since radar and NDWI images are single-band)"
      ]
    },
    {
      "cell_type": "code",
      "execution_count": 115,
      "metadata": {
        "id": "1e610a69-74c2-4864-a16d-8c8cf40c524c"
      },
      "outputs": [],
      "source": [
        "\n",
        "def display_patch_table(patch, title, i=0):\n",
        "    data = patch[i, :5, :5, 0]  # first patch, top-left 5x5\n",
        "    df = pd.DataFrame(data)\n",
        "    print(f\"\\n{title} (shape: {patch[i].shape})\")\n",
        "    display(df.style.format(\"{:.2f}\").set_caption(title))\n",
        "\n",
        "\n",
        "def show_patch_triplets(X_vh, X_ndwi, y, num_patches=3):\n",
        "    for i in range(num_patches):\n",
        "        fig, axs = plt.subplots(1, 3, figsize=(10, 3))\n",
        "        axs[0].imshow(X_vh[i, :, :, 0], cmap='gray')\n",
        "        axs[0].set_title(\"VH Patch\")\n",
        "        axs[0].axis('off')\n",
        "\n",
        "        axs[1].imshow(X_ndwi[i, :, :, 0], cmap='gray')\n",
        "        axs[1].set_title(\"NDWI Patch\")\n",
        "        axs[1].axis('off')\n",
        "\n",
        "        axs[2].imshow(y[i, :, :, 0], cmap='gray')\n",
        "        axs[2].set_title(\"Mask Patch\")\n",
        "        axs[2].axis('off')\n",
        "\n",
        "        plt.tight_layout()\n",
        "        plt.show()\n",
        "\n",
        "        display_patch_table(X_vh, \"VH Patch\", i)\n",
        "        display_patch_table(X_ndwi, \"NDWI Patch\", i)\n",
        "        display_patch_table(y, \"Mask Patch\", i)\n",
        "\n"
      ]
    },
    {
      "cell_type": "code",
      "execution_count": 116,
      "metadata": {
        "id": "2c51d61e-82ae-45a0-ab92-9ec932d7cebd"
      },
      "outputs": [],
      "source": [
        "## Data augmentation\n",
        "\n",
        "def augment_dataset(X_vh, X_ndwi, y):\n",
        "    def flip_h(x): return np.flip(x, axis=2)\n",
        "    def flip_v(x): return np.flip(x, axis=1)\n",
        "    def rot90(x): return np.rot90(x, k=1, axes=(1,2))\n",
        "    def noise(x): return x + np.random.normal(0, 0.01, x.shape)\n",
        "\n",
        "    augmented = [(X_vh, X_ndwi, y)]\n",
        "    for fn in [flip_h, flip_v, rot90, noise]:\n",
        "        augmented.append((fn(X_vh), fn(X_ndwi), fn(y)))\n",
        "    X_vh_aug, X_ndwi_aug, y_aug = zip(*augmented)\n",
        "    return np.concatenate(X_vh_aug), np.concatenate(X_ndwi_aug), np.concatenate(y_aug)"
      ]
    },
    {
      "cell_type": "code",
      "source": [
        "# Set device\n",
        "DEVICE = torch.device(\"cuda\" if torch.cuda.is_available() else \"cpu\")"
      ],
      "metadata": {
        "id": "nb55n9iW-HWG"
      },
      "execution_count": 117,
      "outputs": []
    },
    {
      "cell_type": "code",
      "source": [
        "## Load and visualize data\n",
        "\n",
        "print(\"Loading and augmenting patches...\")\n",
        "X_vh, X_ndwi, y = load_and_extract_patches(data_dir)\n",
        "# Print dimensions\n",
        "print(f\"X_vh shape: {X_vh.shape}\")\n",
        "print(f\"X_ndwi shape: {X_ndwi.shape}\")\n",
        "print(f\"y shape: {y.shape}\")\n",
        "# show_patch_triplets(X_vh, X_ndwi, y, num_patches=3)\n",
        "X_vh = (X_vh - X_vh.min()) / (X_vh.max() - X_vh.min())\n",
        "X_ndwi = (X_ndwi - X_ndwi.min()) / (X_ndwi.max() - X_ndwi.min())\n",
        "X_vh, X_ndwi, y = augment_dataset(X_vh, X_ndwi, y)\n",
        "# Print dimensions\n",
        "print(f\"X_vh shape: {X_vh.shape}\")\n",
        "print(f\"X_ndwi shape: {X_ndwi.shape}\")\n",
        "print(f\"y shape: {y.shape}\")\n",
        "show_patch_triplets(X_vh, X_ndwi, y, num_patches=3)\n",
        "X = np.concatenate([X_vh, X_ndwi], axis=-1)\n",
        "print(f\"X shape: {X.shape}\")\n"
      ],
      "metadata": {
        "colab": {
          "base_uri": "https://localhost:8080/",
          "height": 1000
        },
        "id": "lEQvRi-WTJhF",
        "outputId": "31656fdd-0a97-4b85-da72-cff0ed90594d"
      },
      "execution_count": 118,
      "outputs": [
        {
          "output_type": "stream",
          "name": "stdout",
          "text": [
            "Loading and augmenting patches...\n",
            "First 3 VH files:\n",
            "S1_VH_patch_107.tif\n",
            "S1_VH_patch_112.tif\n",
            "S1_VH_patch_158.tif\n",
            "First 3 NDWI files:\n",
            "S2_NDWI_patch_107.tif\n",
            "S2_NDWI_patch_112.tif\n",
            "S2_NDWI_patch_158.tif\n",
            "First 3 Mask files:\n",
            "Mask_patch_107.tif\n",
            "Mask_patch_112.tif\n",
            "Mask_patch_158.tif\n",
            "Class balance: 90.98% positive pixels\n",
            "X_vh shape: (32, 50, 50, 1)\n",
            "X_ndwi shape: (32, 50, 50, 1)\n",
            "y shape: (32, 50, 50, 1)\n",
            "X_vh shape: (160, 50, 50, 1)\n",
            "X_ndwi shape: (160, 50, 50, 1)\n",
            "y shape: (160, 50, 50, 1)\n"
          ]
        },
        {
          "output_type": "display_data",
          "data": {
            "text/plain": [
              "<Figure size 1000x300 with 3 Axes>"
            ],
            "image/png": "[encoded data removed]"
          },
          "metadata": {}
        },
        {
          "output_type": "stream",
          "name": "stdout",
          "text": [
            "\n",
            "VH Patch (shape: (50, 50, 1))\n"
          ]
        },
        {
          "output_type": "display_data",
          "data": {
            "text/plain": [
              "<pandas.io.formats.style.Styler at 0x7be42ef51890>"
            ],
            "text/html": [
              "<style type=\"text/css\">\n",
              "</style>\n",
              "<table id=\"T_ada7f\" class=\"dataframe\">\n",
              "  <caption>VH Patch</caption>\n",
              "  <thead>\n",
              "    <tr>\n",
              "      <th class=\"blank level0\" >&nbsp;</th>\n",
              "      <th id=\"T_ada7f_level0_col0\" class=\"col_heading level0 col0\" >0</th>\n",
              "      <th id=\"T_ada7f_level0_col1\" class=\"col_heading level0 col1\" >1</th>\n",
              "      <th id=\"T_ada7f_level0_col2\" class=\"col_heading level0 col2\" >2</th>\n",
              "      <th id=\"T_ada7f_level0_col3\" class=\"col_heading level0 col3\" >3</th>\n",
              "      <th id=\"T_ada7f_level0_col4\" class=\"col_heading level0 col4\" >4</th>\n",
              "    </tr>\n",
              "  </thead>\n",
              "  <tbody>\n",
              "    <tr>\n",
              "      <th id=\"T_ada7f_level0_row0\" class=\"row_heading level0 row0\" >0</th>\n",
              "      <td id=\"T_ada7f_row0_col0\" class=\"data row0 col0\" >0.35</td>\n",
              "      <td id=\"T_ada7f_row0_col1\" class=\"data row0 col1\" >0.31</td>\n",
              "      <td id=\"T_ada7f_row0_col2\" class=\"data row0 col2\" >0.32</td>\n",
              "      <td id=\"T_ada7f_row0_col3\" class=\"data row0 col3\" >0.29</td>\n",
              "      <td id=\"T_ada7f_row0_col4\" class=\"data row0 col4\" >0.25</td>\n",
              "    </tr>\n",
              "    <tr>\n",
              "      <th id=\"T_ada7f_level0_row1\" class=\"row_heading level0 row1\" >1</th>\n",
              "      <td id=\"T_ada7f_row1_col0\" class=\"data row1 col0\" >0.27</td>\n",
              "      <td id=\"T_ada7f_row1_col1\" class=\"data row1 col1\" >0.25</td>\n",
              "      <td id=\"T_ada7f_row1_col2\" class=\"data row1 col2\" >0.32</td>\n",
              "      <td id=\"T_ada7f_row1_col3\" class=\"data row1 col3\" >0.32</td>\n",
              "      <td id=\"T_ada7f_row1_col4\" class=\"data row1 col4\" >0.27</td>\n",
              "    </tr>\n",
              "    <tr>\n",
              "      <th id=\"T_ada7f_level0_row2\" class=\"row_heading level0 row2\" >2</th>\n",
              "      <td id=\"T_ada7f_row2_col0\" class=\"data row2 col0\" >0.33</td>\n",
              "      <td id=\"T_ada7f_row2_col1\" class=\"data row2 col1\" >0.29</td>\n",
              "      <td id=\"T_ada7f_row2_col2\" class=\"data row2 col2\" >0.29</td>\n",
              "      <td id=\"T_ada7f_row2_col3\" class=\"data row2 col3\" >0.30</td>\n",
              "      <td id=\"T_ada7f_row2_col4\" class=\"data row2 col4\" >0.25</td>\n",
              "    </tr>\n",
              "    <tr>\n",
              "      <th id=\"T_ada7f_level0_row3\" class=\"row_heading level0 row3\" >3</th>\n",
              "      <td id=\"T_ada7f_row3_col0\" class=\"data row3 col0\" >0.28</td>\n",
              "      <td id=\"T_ada7f_row3_col1\" class=\"data row3 col1\" >0.28</td>\n",
              "      <td id=\"T_ada7f_row3_col2\" class=\"data row3 col2\" >0.29</td>\n",
              "      <td id=\"T_ada7f_row3_col3\" class=\"data row3 col3\" >0.26</td>\n",
              "      <td id=\"T_ada7f_row3_col4\" class=\"data row3 col4\" >0.24</td>\n",
              "    </tr>\n",
              "    <tr>\n",
              "      <th id=\"T_ada7f_level0_row4\" class=\"row_heading level0 row4\" >4</th>\n",
              "      <td id=\"T_ada7f_row4_col0\" class=\"data row4 col0\" >0.31</td>\n",
              "      <td id=\"T_ada7f_row4_col1\" class=\"data row4 col1\" >0.31</td>\n",
              "      <td id=\"T_ada7f_row4_col2\" class=\"data row4 col2\" >0.24</td>\n",
              "      <td id=\"T_ada7f_row4_col3\" class=\"data row4 col3\" >0.27</td>\n",
              "      <td id=\"T_ada7f_row4_col4\" class=\"data row4 col4\" >0.27</td>\n",
              "    </tr>\n",
              "  </tbody>\n",
              "</table>\n"
            ]
          },
          "metadata": {}
        },
        {
          "output_type": "stream",
          "name": "stdout",
          "text": [
            "\n",
            "NDWI Patch (shape: (50, 50, 1))\n"
          ]
        },
        {
          "output_type": "display_data",
          "data": {
            "text/plain": [
              "<pandas.io.formats.style.Styler at 0x7be427393dd0>"
            ],
            "text/html": [
              "<style type=\"text/css\">\n",
              "</style>\n",
              "<table id=\"T_80205\" class=\"dataframe\">\n",
              "  <caption>NDWI Patch</caption>\n",
              "  <thead>\n",
              "    <tr>\n",
              "      <th class=\"blank level0\" >&nbsp;</th>\n",
              "      <th id=\"T_80205_level0_col0\" class=\"col_heading level0 col0\" >0</th>\n",
              "      <th id=\"T_80205_level0_col1\" class=\"col_heading level0 col1\" >1</th>\n",
              "      <th id=\"T_80205_level0_col2\" class=\"col_heading level0 col2\" >2</th>\n",
              "      <th id=\"T_80205_level0_col3\" class=\"col_heading level0 col3\" >3</th>\n",
              "      <th id=\"T_80205_level0_col4\" class=\"col_heading level0 col4\" >4</th>\n",
              "    </tr>\n",
              "  </thead>\n",
              "  <tbody>\n",
              "    <tr>\n",
              "      <th id=\"T_80205_level0_row0\" class=\"row_heading level0 row0\" >0</th>\n",
              "      <td id=\"T_80205_row0_col0\" class=\"data row0 col0\" >0.65</td>\n",
              "      <td id=\"T_80205_row0_col1\" class=\"data row0 col1\" >0.65</td>\n",
              "      <td id=\"T_80205_row0_col2\" class=\"data row0 col2\" >0.64</td>\n",
              "      <td id=\"T_80205_row0_col3\" class=\"data row0 col3\" >0.66</td>\n",
              "      <td id=\"T_80205_row0_col4\" class=\"data row0 col4\" >0.66</td>\n",
              "    </tr>\n",
              "    <tr>\n",
              "      <th id=\"T_80205_level0_row1\" class=\"row_heading level0 row1\" >1</th>\n",
              "      <td id=\"T_80205_row1_col0\" class=\"data row1 col0\" >0.64</td>\n",
              "      <td id=\"T_80205_row1_col1\" class=\"data row1 col1\" >0.64</td>\n",
              "      <td id=\"T_80205_row1_col2\" class=\"data row1 col2\" >0.65</td>\n",
              "      <td id=\"T_80205_row1_col3\" class=\"data row1 col3\" >0.67</td>\n",
              "      <td id=\"T_80205_row1_col4\" class=\"data row1 col4\" >0.67</td>\n",
              "    </tr>\n",
              "    <tr>\n",
              "      <th id=\"T_80205_level0_row2\" class=\"row_heading level0 row2\" >2</th>\n",
              "      <td id=\"T_80205_row2_col0\" class=\"data row2 col0\" >0.64</td>\n",
              "      <td id=\"T_80205_row2_col1\" class=\"data row2 col1\" >0.64</td>\n",
              "      <td id=\"T_80205_row2_col2\" class=\"data row2 col2\" >0.64</td>\n",
              "      <td id=\"T_80205_row2_col3\" class=\"data row2 col3\" >0.66</td>\n",
              "      <td id=\"T_80205_row2_col4\" class=\"data row2 col4\" >0.68</td>\n",
              "    </tr>\n",
              "    <tr>\n",
              "      <th id=\"T_80205_level0_row3\" class=\"row_heading level0 row3\" >3</th>\n",
              "      <td id=\"T_80205_row3_col0\" class=\"data row3 col0\" >0.65</td>\n",
              "      <td id=\"T_80205_row3_col1\" class=\"data row3 col1\" >0.64</td>\n",
              "      <td id=\"T_80205_row3_col2\" class=\"data row3 col2\" >0.64</td>\n",
              "      <td id=\"T_80205_row3_col3\" class=\"data row3 col3\" >0.66</td>\n",
              "      <td id=\"T_80205_row3_col4\" class=\"data row3 col4\" >0.67</td>\n",
              "    </tr>\n",
              "    <tr>\n",
              "      <th id=\"T_80205_level0_row4\" class=\"row_heading level0 row4\" >4</th>\n",
              "      <td id=\"T_80205_row4_col0\" class=\"data row4 col0\" >0.66</td>\n",
              "      <td id=\"T_80205_row4_col1\" class=\"data row4 col1\" >0.66</td>\n",
              "      <td id=\"T_80205_row4_col2\" class=\"data row4 col2\" >0.65</td>\n",
              "      <td id=\"T_80205_row4_col3\" class=\"data row4 col3\" >0.66</td>\n",
              "      <td id=\"T_80205_row4_col4\" class=\"data row4 col4\" >0.66</td>\n",
              "    </tr>\n",
              "  </tbody>\n",
              "</table>\n"
            ]
          },
          "metadata": {}
        },
        {
          "output_type": "stream",
          "name": "stdout",
          "text": [
            "\n",
            "Mask Patch (shape: (50, 50, 1))\n"
          ]
        },
        {
          "output_type": "display_data",
          "data": {
            "text/plain": [
              "<pandas.io.formats.style.Styler at 0x7be4277a6690>"
            ],
            "text/html": [
              "<style type=\"text/css\">\n",
              "</style>\n",
              "<table id=\"T_5eda1\" class=\"dataframe\">\n",
              "  <caption>Mask Patch</caption>\n",
              "  <thead>\n",
              "    <tr>\n",
              "      <th class=\"blank level0\" >&nbsp;</th>\n",
              "      <th id=\"T_5eda1_level0_col0\" class=\"col_heading level0 col0\" >0</th>\n",
              "      <th id=\"T_5eda1_level0_col1\" class=\"col_heading level0 col1\" >1</th>\n",
              "      <th id=\"T_5eda1_level0_col2\" class=\"col_heading level0 col2\" >2</th>\n",
              "      <th id=\"T_5eda1_level0_col3\" class=\"col_heading level0 col3\" >3</th>\n",
              "      <th id=\"T_5eda1_level0_col4\" class=\"col_heading level0 col4\" >4</th>\n",
              "    </tr>\n",
              "  </thead>\n",
              "  <tbody>\n",
              "    <tr>\n",
              "      <th id=\"T_5eda1_level0_row0\" class=\"row_heading level0 row0\" >0</th>\n",
              "      <td id=\"T_5eda1_row0_col0\" class=\"data row0 col0\" >1.00</td>\n",
              "      <td id=\"T_5eda1_row0_col1\" class=\"data row0 col1\" >1.00</td>\n",
              "      <td id=\"T_5eda1_row0_col2\" class=\"data row0 col2\" >1.00</td>\n",
              "      <td id=\"T_5eda1_row0_col3\" class=\"data row0 col3\" >1.00</td>\n",
              "      <td id=\"T_5eda1_row0_col4\" class=\"data row0 col4\" >1.00</td>\n",
              "    </tr>\n",
              "    <tr>\n",
              "      <th id=\"T_5eda1_level0_row1\" class=\"row_heading level0 row1\" >1</th>\n",
              "      <td id=\"T_5eda1_row1_col0\" class=\"data row1 col0\" >1.00</td>\n",
              "      <td id=\"T_5eda1_row1_col1\" class=\"data row1 col1\" >1.00</td>\n",
              "      <td id=\"T_5eda1_row1_col2\" class=\"data row1 col2\" >1.00</td>\n",
              "      <td id=\"T_5eda1_row1_col3\" class=\"data row1 col3\" >1.00</td>\n",
              "      <td id=\"T_5eda1_row1_col4\" class=\"data row1 col4\" >1.00</td>\n",
              "    </tr>\n",
              "    <tr>\n",
              "      <th id=\"T_5eda1_level0_row2\" class=\"row_heading level0 row2\" >2</th>\n",
              "      <td id=\"T_5eda1_row2_col0\" class=\"data row2 col0\" >1.00</td>\n",
              "      <td id=\"T_5eda1_row2_col1\" class=\"data row2 col1\" >1.00</td>\n",
              "      <td id=\"T_5eda1_row2_col2\" class=\"data row2 col2\" >1.00</td>\n",
              "      <td id=\"T_5eda1_row2_col3\" class=\"data row2 col3\" >1.00</td>\n",
              "      <td id=\"T_5eda1_row2_col4\" class=\"data row2 col4\" >1.00</td>\n",
              "    </tr>\n",
              "    <tr>\n",
              "      <th id=\"T_5eda1_level0_row3\" class=\"row_heading level0 row3\" >3</th>\n",
              "      <td id=\"T_5eda1_row3_col0\" class=\"data row3 col0\" >1.00</td>\n",
              "      <td id=\"T_5eda1_row3_col1\" class=\"data row3 col1\" >1.00</td>\n",
              "      <td id=\"T_5eda1_row3_col2\" class=\"data row3 col2\" >1.00</td>\n",
              "      <td id=\"T_5eda1_row3_col3\" class=\"data row3 col3\" >1.00</td>\n",
              "      <td id=\"T_5eda1_row3_col4\" class=\"data row3 col4\" >1.00</td>\n",
              "    </tr>\n",
              "    <tr>\n",
              "      <th id=\"T_5eda1_level0_row4\" class=\"row_heading level0 row4\" >4</th>\n",
              "      <td id=\"T_5eda1_row4_col0\" class=\"data row4 col0\" >1.00</td>\n",
              "      <td id=\"T_5eda1_row4_col1\" class=\"data row4 col1\" >1.00</td>\n",
              "      <td id=\"T_5eda1_row4_col2\" class=\"data row4 col2\" >1.00</td>\n",
              "      <td id=\"T_5eda1_row4_col3\" class=\"data row4 col3\" >1.00</td>\n",
              "      <td id=\"T_5eda1_row4_col4\" class=\"data row4 col4\" >1.00</td>\n",
              "    </tr>\n",
              "  </tbody>\n",
              "</table>\n"
            ]
          },
          "metadata": {}
        },
        {
          "output_type": "display_data",
          "data": {
            "text/plain": [
              "<Figure size 1000x300 with 3 Axes>"
            ],
            "image/png": "[encoded data removed]"
          },
          "metadata": {}
        },
        {
          "output_type": "stream",
          "name": "stdout",
          "text": [
            "\n",
            "VH Patch (shape: (50, 50, 1))\n"
          ]
        },
        {
          "output_type": "display_data",
          "data": {
            "text/plain": [
              "<pandas.io.formats.style.Styler at 0x7be4274a4ed0>"
            ],
            "text/html": [
              "<style type=\"text/css\">\n",
              "</style>\n",
              "<table id=\"T_ff3e4\" class=\"dataframe\">\n",
              "  <caption>VH Patch</caption>\n",
              "  <thead>\n",
              "    <tr>\n",
              "      <th class=\"blank level0\" >&nbsp;</th>\n",
              "      <th id=\"T_ff3e4_level0_col0\" class=\"col_heading level0 col0\" >0</th>\n",
              "      <th id=\"T_ff3e4_level0_col1\" class=\"col_heading level0 col1\" >1</th>\n",
              "      <th id=\"T_ff3e4_level0_col2\" class=\"col_heading level0 col2\" >2</th>\n",
              "      <th id=\"T_ff3e4_level0_col3\" class=\"col_heading level0 col3\" >3</th>\n",
              "      <th id=\"T_ff3e4_level0_col4\" class=\"col_heading level0 col4\" >4</th>\n",
              "    </tr>\n",
              "  </thead>\n",
              "  <tbody>\n",
              "    <tr>\n",
              "      <th id=\"T_ff3e4_level0_row0\" class=\"row_heading level0 row0\" >0</th>\n",
              "      <td id=\"T_ff3e4_row0_col0\" class=\"data row0 col0\" >0.29</td>\n",
              "      <td id=\"T_ff3e4_row0_col1\" class=\"data row0 col1\" >0.30</td>\n",
              "      <td id=\"T_ff3e4_row0_col2\" class=\"data row0 col2\" >0.27</td>\n",
              "      <td id=\"T_ff3e4_row0_col3\" class=\"data row0 col3\" >0.19</td>\n",
              "      <td id=\"T_ff3e4_row0_col4\" class=\"data row0 col4\" >0.18</td>\n",
              "    </tr>\n",
              "    <tr>\n",
              "      <th id=\"T_ff3e4_level0_row1\" class=\"row_heading level0 row1\" >1</th>\n",
              "      <td id=\"T_ff3e4_row1_col0\" class=\"data row1 col0\" >0.24</td>\n",
              "      <td id=\"T_ff3e4_row1_col1\" class=\"data row1 col1\" >0.33</td>\n",
              "      <td id=\"T_ff3e4_row1_col2\" class=\"data row1 col2\" >0.32</td>\n",
              "      <td id=\"T_ff3e4_row1_col3\" class=\"data row1 col3\" >0.25</td>\n",
              "      <td id=\"T_ff3e4_row1_col4\" class=\"data row1 col4\" >0.16</td>\n",
              "    </tr>\n",
              "    <tr>\n",
              "      <th id=\"T_ff3e4_level0_row2\" class=\"row_heading level0 row2\" >2</th>\n",
              "      <td id=\"T_ff3e4_row2_col0\" class=\"data row2 col0\" >0.26</td>\n",
              "      <td id=\"T_ff3e4_row2_col1\" class=\"data row2 col1\" >0.35</td>\n",
              "      <td id=\"T_ff3e4_row2_col2\" class=\"data row2 col2\" >0.37</td>\n",
              "      <td id=\"T_ff3e4_row2_col3\" class=\"data row2 col3\" >0.27</td>\n",
              "      <td id=\"T_ff3e4_row2_col4\" class=\"data row2 col4\" >0.15</td>\n",
              "    </tr>\n",
              "    <tr>\n",
              "      <th id=\"T_ff3e4_level0_row3\" class=\"row_heading level0 row3\" >3</th>\n",
              "      <td id=\"T_ff3e4_row3_col0\" class=\"data row3 col0\" >0.31</td>\n",
              "      <td id=\"T_ff3e4_row3_col1\" class=\"data row3 col1\" >0.29</td>\n",
              "      <td id=\"T_ff3e4_row3_col2\" class=\"data row3 col2\" >0.32</td>\n",
              "      <td id=\"T_ff3e4_row3_col3\" class=\"data row3 col3\" >0.26</td>\n",
              "      <td id=\"T_ff3e4_row3_col4\" class=\"data row3 col4\" >0.22</td>\n",
              "    </tr>\n",
              "    <tr>\n",
              "      <th id=\"T_ff3e4_level0_row4\" class=\"row_heading level0 row4\" >4</th>\n",
              "      <td id=\"T_ff3e4_row4_col0\" class=\"data row4 col0\" >0.32</td>\n",
              "      <td id=\"T_ff3e4_row4_col1\" class=\"data row4 col1\" >0.26</td>\n",
              "      <td id=\"T_ff3e4_row4_col2\" class=\"data row4 col2\" >0.24</td>\n",
              "      <td id=\"T_ff3e4_row4_col3\" class=\"data row4 col3\" >0.23</td>\n",
              "      <td id=\"T_ff3e4_row4_col4\" class=\"data row4 col4\" >0.26</td>\n",
              "    </tr>\n",
              "  </tbody>\n",
              "</table>\n"
            ]
          },
          "metadata": {}
        },
        {
          "output_type": "stream",
          "name": "stdout",
          "text": [
            "\n",
            "NDWI Patch (shape: (50, 50, 1))\n"
          ]
        },
        {
          "output_type": "display_data",
          "data": {
            "text/plain": [
              "<pandas.io.formats.style.Styler at 0x7be42b586950>"
            ],
            "text/html": [
              "<style type=\"text/css\">\n",
              "</style>\n",
              "<table id=\"T_60d93\" class=\"dataframe\">\n",
              "  <caption>NDWI Patch</caption>\n",
              "  <thead>\n",
              "    <tr>\n",
              "      <th class=\"blank level0\" >&nbsp;</th>\n",
              "      <th id=\"T_60d93_level0_col0\" class=\"col_heading level0 col0\" >0</th>\n",
              "      <th id=\"T_60d93_level0_col1\" class=\"col_heading level0 col1\" >1</th>\n",
              "      <th id=\"T_60d93_level0_col2\" class=\"col_heading level0 col2\" >2</th>\n",
              "      <th id=\"T_60d93_level0_col3\" class=\"col_heading level0 col3\" >3</th>\n",
              "      <th id=\"T_60d93_level0_col4\" class=\"col_heading level0 col4\" >4</th>\n",
              "    </tr>\n",
              "  </thead>\n",
              "  <tbody>\n",
              "    <tr>\n",
              "      <th id=\"T_60d93_level0_row0\" class=\"row_heading level0 row0\" >0</th>\n",
              "      <td id=\"T_60d93_row0_col0\" class=\"data row0 col0\" >0.66</td>\n",
              "      <td id=\"T_60d93_row0_col1\" class=\"data row0 col1\" >0.66</td>\n",
              "      <td id=\"T_60d93_row0_col2\" class=\"data row0 col2\" >0.66</td>\n",
              "      <td id=\"T_60d93_row0_col3\" class=\"data row0 col3\" >0.65</td>\n",
              "      <td id=\"T_60d93_row0_col4\" class=\"data row0 col4\" >0.64</td>\n",
              "    </tr>\n",
              "    <tr>\n",
              "      <th id=\"T_60d93_level0_row1\" class=\"row_heading level0 row1\" >1</th>\n",
              "      <td id=\"T_60d93_row1_col0\" class=\"data row1 col0\" >0.66</td>\n",
              "      <td id=\"T_60d93_row1_col1\" class=\"data row1 col1\" >0.64</td>\n",
              "      <td id=\"T_60d93_row1_col2\" class=\"data row1 col2\" >0.64</td>\n",
              "      <td id=\"T_60d93_row1_col3\" class=\"data row1 col3\" >0.64</td>\n",
              "      <td id=\"T_60d93_row1_col4\" class=\"data row1 col4\" >0.64</td>\n",
              "    </tr>\n",
              "    <tr>\n",
              "      <th id=\"T_60d93_level0_row2\" class=\"row_heading level0 row2\" >2</th>\n",
              "      <td id=\"T_60d93_row2_col0\" class=\"data row2 col0\" >0.66</td>\n",
              "      <td id=\"T_60d93_row2_col1\" class=\"data row2 col1\" >0.64</td>\n",
              "      <td id=\"T_60d93_row2_col2\" class=\"data row2 col2\" >0.65</td>\n",
              "      <td id=\"T_60d93_row2_col3\" class=\"data row2 col3\" >0.64</td>\n",
              "      <td id=\"T_60d93_row2_col4\" class=\"data row2 col4\" >0.63</td>\n",
              "    </tr>\n",
              "    <tr>\n",
              "      <th id=\"T_60d93_level0_row3\" class=\"row_heading level0 row3\" >3</th>\n",
              "      <td id=\"T_60d93_row3_col0\" class=\"data row3 col0\" >0.66</td>\n",
              "      <td id=\"T_60d93_row3_col1\" class=\"data row3 col1\" >0.64</td>\n",
              "      <td id=\"T_60d93_row3_col2\" class=\"data row3 col2\" >0.64</td>\n",
              "      <td id=\"T_60d93_row3_col3\" class=\"data row3 col3\" >0.64</td>\n",
              "      <td id=\"T_60d93_row3_col4\" class=\"data row3 col4\" >0.62</td>\n",
              "    </tr>\n",
              "    <tr>\n",
              "      <th id=\"T_60d93_level0_row4\" class=\"row_heading level0 row4\" >4</th>\n",
              "      <td id=\"T_60d93_row4_col0\" class=\"data row4 col0\" >0.67</td>\n",
              "      <td id=\"T_60d93_row4_col1\" class=\"data row4 col1\" >0.65</td>\n",
              "      <td id=\"T_60d93_row4_col2\" class=\"data row4 col2\" >0.65</td>\n",
              "      <td id=\"T_60d93_row4_col3\" class=\"data row4 col3\" >0.64</td>\n",
              "      <td id=\"T_60d93_row4_col4\" class=\"data row4 col4\" >0.61</td>\n",
              "    </tr>\n",
              "  </tbody>\n",
              "</table>\n"
            ]
          },
          "metadata": {}
        },
        {
          "output_type": "stream",
          "name": "stdout",
          "text": [
            "\n",
            "Mask Patch (shape: (50, 50, 1))\n"
          ]
        },
        {
          "output_type": "display_data",
          "data": {
            "text/plain": [
              "<pandas.io.formats.style.Styler at 0x7be4274a4ed0>"
            ],
            "text/html": [
              "<style type=\"text/css\">\n",
              "</style>\n",
              "<table id=\"T_ed96a\" class=\"dataframe\">\n",
              "  <caption>Mask Patch</caption>\n",
              "  <thead>\n",
              "    <tr>\n",
              "      <th class=\"blank level0\" >&nbsp;</th>\n",
              "      <th id=\"T_ed96a_level0_col0\" class=\"col_heading level0 col0\" >0</th>\n",
              "      <th id=\"T_ed96a_level0_col1\" class=\"col_heading level0 col1\" >1</th>\n",
              "      <th id=\"T_ed96a_level0_col2\" class=\"col_heading level0 col2\" >2</th>\n",
              "      <th id=\"T_ed96a_level0_col3\" class=\"col_heading level0 col3\" >3</th>\n",
              "      <th id=\"T_ed96a_level0_col4\" class=\"col_heading level0 col4\" >4</th>\n",
              "    </tr>\n",
              "  </thead>\n",
              "  <tbody>\n",
              "    <tr>\n",
              "      <th id=\"T_ed96a_level0_row0\" class=\"row_heading level0 row0\" >0</th>\n",
              "      <td id=\"T_ed96a_row0_col0\" class=\"data row0 col0\" >1.00</td>\n",
              "      <td id=\"T_ed96a_row0_col1\" class=\"data row0 col1\" >1.00</td>\n",
              "      <td id=\"T_ed96a_row0_col2\" class=\"data row0 col2\" >1.00</td>\n",
              "      <td id=\"T_ed96a_row0_col3\" class=\"data row0 col3\" >1.00</td>\n",
              "      <td id=\"T_ed96a_row0_col4\" class=\"data row0 col4\" >1.00</td>\n",
              "    </tr>\n",
              "    <tr>\n",
              "      <th id=\"T_ed96a_level0_row1\" class=\"row_heading level0 row1\" >1</th>\n",
              "      <td id=\"T_ed96a_row1_col0\" class=\"data row1 col0\" >1.00</td>\n",
              "      <td id=\"T_ed96a_row1_col1\" class=\"data row1 col1\" >1.00</td>\n",
              "      <td id=\"T_ed96a_row1_col2\" class=\"data row1 col2\" >1.00</td>\n",
              "      <td id=\"T_ed96a_row1_col3\" class=\"data row1 col3\" >1.00</td>\n",
              "      <td id=\"T_ed96a_row1_col4\" class=\"data row1 col4\" >1.00</td>\n",
              "    </tr>\n",
              "    <tr>\n",
              "      <th id=\"T_ed96a_level0_row2\" class=\"row_heading level0 row2\" >2</th>\n",
              "      <td id=\"T_ed96a_row2_col0\" class=\"data row2 col0\" >1.00</td>\n",
              "      <td id=\"T_ed96a_row2_col1\" class=\"data row2 col1\" >1.00</td>\n",
              "      <td id=\"T_ed96a_row2_col2\" class=\"data row2 col2\" >1.00</td>\n",
              "      <td id=\"T_ed96a_row2_col3\" class=\"data row2 col3\" >1.00</td>\n",
              "      <td id=\"T_ed96a_row2_col4\" class=\"data row2 col4\" >1.00</td>\n",
              "    </tr>\n",
              "    <tr>\n",
              "      <th id=\"T_ed96a_level0_row3\" class=\"row_heading level0 row3\" >3</th>\n",
              "      <td id=\"T_ed96a_row3_col0\" class=\"data row3 col0\" >1.00</td>\n",
              "      <td id=\"T_ed96a_row3_col1\" class=\"data row3 col1\" >1.00</td>\n",
              "      <td id=\"T_ed96a_row3_col2\" class=\"data row3 col2\" >1.00</td>\n",
              "      <td id=\"T_ed96a_row3_col3\" class=\"data row3 col3\" >1.00</td>\n",
              "      <td id=\"T_ed96a_row3_col4\" class=\"data row3 col4\" >1.00</td>\n",
              "    </tr>\n",
              "    <tr>\n",
              "      <th id=\"T_ed96a_level0_row4\" class=\"row_heading level0 row4\" >4</th>\n",
              "      <td id=\"T_ed96a_row4_col0\" class=\"data row4 col0\" >1.00</td>\n",
              "      <td id=\"T_ed96a_row4_col1\" class=\"data row4 col1\" >1.00</td>\n",
              "      <td id=\"T_ed96a_row4_col2\" class=\"data row4 col2\" >1.00</td>\n",
              "      <td id=\"T_ed96a_row4_col3\" class=\"data row4 col3\" >1.00</td>\n",
              "      <td id=\"T_ed96a_row4_col4\" class=\"data row4 col4\" >1.00</td>\n",
              "    </tr>\n",
              "  </tbody>\n",
              "</table>\n"
            ]
          },
          "metadata": {}
        },
        {
          "output_type": "display_data",
          "data": {
            "text/plain": [
              "<Figure size 1000x300 with 3 Axes>"
            ],
            "image/png": "[encoded data removed]"
          },
          "metadata": {}
        },
        {
          "output_type": "stream",
          "name": "stdout",
          "text": [
            "\n",
            "VH Patch (shape: (50, 50, 1))\n"
          ]
        },
        {
          "output_type": "display_data",
          "data": {
            "text/plain": [
              "<pandas.io.formats.style.Styler at 0x7be42741f190>"
            ],
            "text/html": [
              "<style type=\"text/css\">\n",
              "</style>\n",
              "<table id=\"T_346c2\" class=\"dataframe\">\n",
              "  <caption>VH Patch</caption>\n",
              "  <thead>\n",
              "    <tr>\n",
              "      <th class=\"blank level0\" >&nbsp;</th>\n",
              "      <th id=\"T_346c2_level0_col0\" class=\"col_heading level0 col0\" >0</th>\n",
              "      <th id=\"T_346c2_level0_col1\" class=\"col_heading level0 col1\" >1</th>\n",
              "      <th id=\"T_346c2_level0_col2\" class=\"col_heading level0 col2\" >2</th>\n",
              "      <th id=\"T_346c2_level0_col3\" class=\"col_heading level0 col3\" >3</th>\n",
              "      <th id=\"T_346c2_level0_col4\" class=\"col_heading level0 col4\" >4</th>\n",
              "    </tr>\n",
              "  </thead>\n",
              "  <tbody>\n",
              "    <tr>\n",
              "      <th id=\"T_346c2_level0_row0\" class=\"row_heading level0 row0\" >0</th>\n",
              "      <td id=\"T_346c2_row0_col0\" class=\"data row0 col0\" >0.42</td>\n",
              "      <td id=\"T_346c2_row0_col1\" class=\"data row0 col1\" >0.45</td>\n",
              "      <td id=\"T_346c2_row0_col2\" class=\"data row0 col2\" >0.55</td>\n",
              "      <td id=\"T_346c2_row0_col3\" class=\"data row0 col3\" >0.64</td>\n",
              "      <td id=\"T_346c2_row0_col4\" class=\"data row0 col4\" >0.71</td>\n",
              "    </tr>\n",
              "    <tr>\n",
              "      <th id=\"T_346c2_level0_row1\" class=\"row_heading level0 row1\" >1</th>\n",
              "      <td id=\"T_346c2_row1_col0\" class=\"data row1 col0\" >0.51</td>\n",
              "      <td id=\"T_346c2_row1_col1\" class=\"data row1 col1\" >0.56</td>\n",
              "      <td id=\"T_346c2_row1_col2\" class=\"data row1 col2\" >0.64</td>\n",
              "      <td id=\"T_346c2_row1_col3\" class=\"data row1 col3\" >0.68</td>\n",
              "      <td id=\"T_346c2_row1_col4\" class=\"data row1 col4\" >0.70</td>\n",
              "    </tr>\n",
              "    <tr>\n",
              "      <th id=\"T_346c2_level0_row2\" class=\"row_heading level0 row2\" >2</th>\n",
              "      <td id=\"T_346c2_row2_col0\" class=\"data row2 col0\" >0.58</td>\n",
              "      <td id=\"T_346c2_row2_col1\" class=\"data row2 col1\" >0.61</td>\n",
              "      <td id=\"T_346c2_row2_col2\" class=\"data row2 col2\" >0.68</td>\n",
              "      <td id=\"T_346c2_row2_col3\" class=\"data row2 col3\" >0.70</td>\n",
              "      <td id=\"T_346c2_row2_col4\" class=\"data row2 col4\" >0.69</td>\n",
              "    </tr>\n",
              "    <tr>\n",
              "      <th id=\"T_346c2_level0_row3\" class=\"row_heading level0 row3\" >3</th>\n",
              "      <td id=\"T_346c2_row3_col0\" class=\"data row3 col0\" >0.61</td>\n",
              "      <td id=\"T_346c2_row3_col1\" class=\"data row3 col1\" >0.63</td>\n",
              "      <td id=\"T_346c2_row3_col2\" class=\"data row3 col2\" >0.67</td>\n",
              "      <td id=\"T_346c2_row3_col3\" class=\"data row3 col3\" >0.71</td>\n",
              "      <td id=\"T_346c2_row3_col4\" class=\"data row3 col4\" >0.70</td>\n",
              "    </tr>\n",
              "    <tr>\n",
              "      <th id=\"T_346c2_level0_row4\" class=\"row_heading level0 row4\" >4</th>\n",
              "      <td id=\"T_346c2_row4_col0\" class=\"data row4 col0\" >0.66</td>\n",
              "      <td id=\"T_346c2_row4_col1\" class=\"data row4 col1\" >0.66</td>\n",
              "      <td id=\"T_346c2_row4_col2\" class=\"data row4 col2\" >0.66</td>\n",
              "      <td id=\"T_346c2_row4_col3\" class=\"data row4 col3\" >0.69</td>\n",
              "      <td id=\"T_346c2_row4_col4\" class=\"data row4 col4\" >0.70</td>\n",
              "    </tr>\n",
              "  </tbody>\n",
              "</table>\n"
            ]
          },
          "metadata": {}
        },
        {
          "output_type": "stream",
          "name": "stdout",
          "text": [
            "\n",
            "NDWI Patch (shape: (50, 50, 1))\n"
          ]
        },
        {
          "output_type": "display_data",
          "data": {
            "text/plain": [
              "<pandas.io.formats.style.Styler at 0x7be42741f190>"
            ],
            "text/html": [
              "<style type=\"text/css\">\n",
              "</style>\n",
              "<table id=\"T_cd668\" class=\"dataframe\">\n",
              "  <caption>NDWI Patch</caption>\n",
              "  <thead>\n",
              "    <tr>\n",
              "      <th class=\"blank level0\" >&nbsp;</th>\n",
              "      <th id=\"T_cd668_level0_col0\" class=\"col_heading level0 col0\" >0</th>\n",
              "      <th id=\"T_cd668_level0_col1\" class=\"col_heading level0 col1\" >1</th>\n",
              "      <th id=\"T_cd668_level0_col2\" class=\"col_heading level0 col2\" >2</th>\n",
              "      <th id=\"T_cd668_level0_col3\" class=\"col_heading level0 col3\" >3</th>\n",
              "      <th id=\"T_cd668_level0_col4\" class=\"col_heading level0 col4\" >4</th>\n",
              "    </tr>\n",
              "  </thead>\n",
              "  <tbody>\n",
              "    <tr>\n",
              "      <th id=\"T_cd668_level0_row0\" class=\"row_heading level0 row0\" >0</th>\n",
              "      <td id=\"T_cd668_row0_col0\" class=\"data row0 col0\" >0.83</td>\n",
              "      <td id=\"T_cd668_row0_col1\" class=\"data row0 col1\" >0.82</td>\n",
              "      <td id=\"T_cd668_row0_col2\" class=\"data row0 col2\" >0.80</td>\n",
              "      <td id=\"T_cd668_row0_col3\" class=\"data row0 col3\" >0.60</td>\n",
              "      <td id=\"T_cd668_row0_col4\" class=\"data row0 col4\" >0.26</td>\n",
              "    </tr>\n",
              "    <tr>\n",
              "      <th id=\"T_cd668_level0_row1\" class=\"row_heading level0 row1\" >1</th>\n",
              "      <td id=\"T_cd668_row1_col0\" class=\"data row1 col0\" >0.61</td>\n",
              "      <td id=\"T_cd668_row1_col1\" class=\"data row1 col1\" >0.60</td>\n",
              "      <td id=\"T_cd668_row1_col2\" class=\"data row1 col2\" >0.58</td>\n",
              "      <td id=\"T_cd668_row1_col3\" class=\"data row1 col3\" >0.45</td>\n",
              "      <td id=\"T_cd668_row1_col4\" class=\"data row1 col4\" >0.32</td>\n",
              "    </tr>\n",
              "    <tr>\n",
              "      <th id=\"T_cd668_level0_row2\" class=\"row_heading level0 row2\" >2</th>\n",
              "      <td id=\"T_cd668_row2_col0\" class=\"data row2 col0\" >0.52</td>\n",
              "      <td id=\"T_cd668_row2_col1\" class=\"data row2 col1\" >0.38</td>\n",
              "      <td id=\"T_cd668_row2_col2\" class=\"data row2 col2\" >0.34</td>\n",
              "      <td id=\"T_cd668_row2_col3\" class=\"data row2 col3\" >0.36</td>\n",
              "      <td id=\"T_cd668_row2_col4\" class=\"data row2 col4\" >0.39</td>\n",
              "    </tr>\n",
              "    <tr>\n",
              "      <th id=\"T_cd668_level0_row3\" class=\"row_heading level0 row3\" >3</th>\n",
              "      <td id=\"T_cd668_row3_col0\" class=\"data row3 col0\" >0.43</td>\n",
              "      <td id=\"T_cd668_row3_col1\" class=\"data row3 col1\" >0.23</td>\n",
              "      <td id=\"T_cd668_row3_col2\" class=\"data row3 col2\" >0.27</td>\n",
              "      <td id=\"T_cd668_row3_col3\" class=\"data row3 col3\" >0.34</td>\n",
              "      <td id=\"T_cd668_row3_col4\" class=\"data row3 col4\" >0.32</td>\n",
              "    </tr>\n",
              "    <tr>\n",
              "      <th id=\"T_cd668_level0_row4\" class=\"row_heading level0 row4\" >4</th>\n",
              "      <td id=\"T_cd668_row4_col0\" class=\"data row4 col0\" >0.39</td>\n",
              "      <td id=\"T_cd668_row4_col1\" class=\"data row4 col1\" >0.18</td>\n",
              "      <td id=\"T_cd668_row4_col2\" class=\"data row4 col2\" >0.25</td>\n",
              "      <td id=\"T_cd668_row4_col3\" class=\"data row4 col3\" >0.29</td>\n",
              "      <td id=\"T_cd668_row4_col4\" class=\"data row4 col4\" >0.27</td>\n",
              "    </tr>\n",
              "  </tbody>\n",
              "</table>\n"
            ]
          },
          "metadata": {}
        },
        {
          "output_type": "stream",
          "name": "stdout",
          "text": [
            "\n",
            "Mask Patch (shape: (50, 50, 1))\n"
          ]
        },
        {
          "output_type": "display_data",
          "data": {
            "text/plain": [
              "<pandas.io.formats.style.Styler at 0x7be4272e3590>"
            ],
            "text/html": [
              "<style type=\"text/css\">\n",
              "</style>\n",
              "<table id=\"T_d0ed6\" class=\"dataframe\">\n",
              "  <caption>Mask Patch</caption>\n",
              "  <thead>\n",
              "    <tr>\n",
              "      <th class=\"blank level0\" >&nbsp;</th>\n",
              "      <th id=\"T_d0ed6_level0_col0\" class=\"col_heading level0 col0\" >0</th>\n",
              "      <th id=\"T_d0ed6_level0_col1\" class=\"col_heading level0 col1\" >1</th>\n",
              "      <th id=\"T_d0ed6_level0_col2\" class=\"col_heading level0 col2\" >2</th>\n",
              "      <th id=\"T_d0ed6_level0_col3\" class=\"col_heading level0 col3\" >3</th>\n",
              "      <th id=\"T_d0ed6_level0_col4\" class=\"col_heading level0 col4\" >4</th>\n",
              "    </tr>\n",
              "  </thead>\n",
              "  <tbody>\n",
              "    <tr>\n",
              "      <th id=\"T_d0ed6_level0_row0\" class=\"row_heading level0 row0\" >0</th>\n",
              "      <td id=\"T_d0ed6_row0_col0\" class=\"data row0 col0\" >1.00</td>\n",
              "      <td id=\"T_d0ed6_row0_col1\" class=\"data row0 col1\" >1.00</td>\n",
              "      <td id=\"T_d0ed6_row0_col2\" class=\"data row0 col2\" >1.00</td>\n",
              "      <td id=\"T_d0ed6_row0_col3\" class=\"data row0 col3\" >1.00</td>\n",
              "      <td id=\"T_d0ed6_row0_col4\" class=\"data row0 col4\" >0.00</td>\n",
              "    </tr>\n",
              "    <tr>\n",
              "      <th id=\"T_d0ed6_level0_row1\" class=\"row_heading level0 row1\" >1</th>\n",
              "      <td id=\"T_d0ed6_row1_col0\" class=\"data row1 col0\" >1.00</td>\n",
              "      <td id=\"T_d0ed6_row1_col1\" class=\"data row1 col1\" >1.00</td>\n",
              "      <td id=\"T_d0ed6_row1_col2\" class=\"data row1 col2\" >1.00</td>\n",
              "      <td id=\"T_d0ed6_row1_col3\" class=\"data row1 col3\" >0.00</td>\n",
              "      <td id=\"T_d0ed6_row1_col4\" class=\"data row1 col4\" >0.00</td>\n",
              "    </tr>\n",
              "    <tr>\n",
              "      <th id=\"T_d0ed6_level0_row2\" class=\"row_heading level0 row2\" >2</th>\n",
              "      <td id=\"T_d0ed6_row2_col0\" class=\"data row2 col0\" >0.00</td>\n",
              "      <td id=\"T_d0ed6_row2_col1\" class=\"data row2 col1\" >0.00</td>\n",
              "      <td id=\"T_d0ed6_row2_col2\" class=\"data row2 col2\" >0.00</td>\n",
              "      <td id=\"T_d0ed6_row2_col3\" class=\"data row2 col3\" >0.00</td>\n",
              "      <td id=\"T_d0ed6_row2_col4\" class=\"data row2 col4\" >0.00</td>\n",
              "    </tr>\n",
              "    <tr>\n",
              "      <th id=\"T_d0ed6_level0_row3\" class=\"row_heading level0 row3\" >3</th>\n",
              "      <td id=\"T_d0ed6_row3_col0\" class=\"data row3 col0\" >0.00</td>\n",
              "      <td id=\"T_d0ed6_row3_col1\" class=\"data row3 col1\" >0.00</td>\n",
              "      <td id=\"T_d0ed6_row3_col2\" class=\"data row3 col2\" >0.00</td>\n",
              "      <td id=\"T_d0ed6_row3_col3\" class=\"data row3 col3\" >0.00</td>\n",
              "      <td id=\"T_d0ed6_row3_col4\" class=\"data row3 col4\" >0.00</td>\n",
              "    </tr>\n",
              "    <tr>\n",
              "      <th id=\"T_d0ed6_level0_row4\" class=\"row_heading level0 row4\" >4</th>\n",
              "      <td id=\"T_d0ed6_row4_col0\" class=\"data row4 col0\" >0.00</td>\n",
              "      <td id=\"T_d0ed6_row4_col1\" class=\"data row4 col1\" >0.00</td>\n",
              "      <td id=\"T_d0ed6_row4_col2\" class=\"data row4 col2\" >0.00</td>\n",
              "      <td id=\"T_d0ed6_row4_col3\" class=\"data row4 col3\" >0.00</td>\n",
              "      <td id=\"T_d0ed6_row4_col4\" class=\"data row4 col4\" >0.00</td>\n",
              "    </tr>\n",
              "  </tbody>\n",
              "</table>\n"
            ]
          },
          "metadata": {}
        },
        {
          "output_type": "stream",
          "name": "stdout",
          "text": [
            "X shape: (160, 50, 50, 2)\n"
          ]
        }
      ]
    },
    {
      "cell_type": "code",
      "source": [
        "print(X_vh.shape)\n",
        "print(X_ndwi.shape)\n",
        "print(y.shape)\n"
      ],
      "metadata": {
        "colab": {
          "base_uri": "https://localhost:8080/"
        },
        "id": "wPJdE0fmUFVt",
        "outputId": "4ca89b84-e69f-434b-9e1e-41171dd6c9be"
      },
      "execution_count": 119,
      "outputs": [
        {
          "output_type": "stream",
          "name": "stdout",
          "text": [
            "(160, 50, 50, 1)\n",
            "(160, 50, 50, 1)\n",
            "(160, 50, 50, 1)\n"
          ]
        }
      ]
    },
    {
      "cell_type": "code",
      "source": [
        "X_vh = np.squeeze(X_vh, axis=-1)\n",
        "X_ndwi = np.squeeze(X_ndwi, axis=-1)\n",
        "y = np.squeeze(y, axis=-1)"
      ],
      "metadata": {
        "id": "VxEOr-bbEgri"
      },
      "execution_count": 120,
      "outputs": []
    },
    {
      "cell_type": "code",
      "source": [
        "X = np.stack([X_vh, X_ndwi], axis=-1)"
      ],
      "metadata": {
        "id": "ucyE5pICEoRu"
      },
      "execution_count": 121,
      "outputs": []
    },
    {
      "cell_type": "code",
      "source": [
        "X.shape"
      ],
      "metadata": {
        "colab": {
          "base_uri": "https://localhost:8080/"
        },
        "id": "78IwA06UEq_b",
        "outputId": "63142f8b-2d3c-45cb-db05-ae3a1f5834af"
      },
      "execution_count": 122,
      "outputs": [
        {
          "output_type": "execute_result",
          "data": {
            "text/plain": [
              "(160, 50, 50, 2)"
            ]
          },
          "metadata": {},
          "execution_count": 122
        }
      ]
    },
    {
      "cell_type": "code",
      "source": [
        "y.shape"
      ],
      "metadata": {
        "colab": {
          "base_uri": "https://localhost:8080/"
        },
        "id": "M-hxkCBVEoVJ",
        "outputId": "fc61b71d-df6e-49fa-ec24-f2736b976d7c"
      },
      "execution_count": 123,
      "outputs": [
        {
          "output_type": "execute_result",
          "data": {
            "text/plain": [
              "(160, 50, 50)"
            ]
          },
          "metadata": {},
          "execution_count": 123
        }
      ]
    },
    {
      "cell_type": "code",
      "source": [
        "sample_idx = 10\n",
        "image = X[sample_idx, :, :, 0]\n",
        "plt.imshow(image, cmap='gray')\n",
        "plt.axis('off')\n",
        "plt.show()\n"
      ],
      "metadata": {
        "colab": {
          "base_uri": "https://localhost:8080/",
          "height": 406
        },
        "id": "jC22tJMNE0zn",
        "outputId": "81b6a757-e4ff-413f-ed8d-2532a4362e9a"
      },
      "execution_count": 124,
      "outputs": [
        {
          "output_type": "display_data",
          "data": {
            "text/plain": [
              "<Figure size 640x480 with 1 Axes>"
            ],
            "image/png": "[encoded data removed]"
          },
          "metadata": {}
        }
      ]
    },
    {
      "cell_type": "code",
      "source": [
        "X_flat = X.reshape(-1, X.shape[-1])\n",
        "y_binary = (y > 0.5).astype(int)\n",
        "y_flat = y_binary.reshape(-1)\n"
      ],
      "metadata": {
        "id": "x361QwE8E059"
      },
      "execution_count": 125,
      "outputs": []
    },
    {
      "cell_type": "code",
      "source": [
        "print(np.unique(y_flat))\n",
        "print(y_flat[:20])\n"
      ],
      "metadata": {
        "colab": {
          "base_uri": "https://localhost:8080/"
        },
        "id": "gCOHJI8tOrO8",
        "outputId": "ed4a9114-8ba4-477a-ab0d-12281f025492"
      },
      "execution_count": 126,
      "outputs": [
        {
          "output_type": "stream",
          "name": "stdout",
          "text": [
            "[0 1]\n",
            "[1 1 1 1 1 1 1 1 1 1 1 1 1 1 1 1 1 1 1 1]\n"
          ]
        }
      ]
    },
    {
      "cell_type": "code",
      "source": [
        "from sklearn.model_selection import train_test_split\n",
        "\n",
        "X_trainval, X_test, y_trainval, y_test = train_test_split(\n",
        "    X_flat, y_flat, test_size=0.2, random_state=42\n",
        ")\n",
        "\n",
        "X_train, X_val, y_train, y_val = train_test_split(\n",
        "    X_trainval, y_trainval, test_size=0.25, random_state=42\n",
        ")\n",
        "#60% train, 20% val, 20% test\n"
      ],
      "metadata": {
        "id": "Dv6btVqcPe9l"
      },
      "execution_count": 128,
      "outputs": []
    },
    {
      "cell_type": "code",
      "source": [
        "X_train.shape"
      ],
      "metadata": {
        "id": "T5t2G7HGAsPK",
        "colab": {
          "base_uri": "https://localhost:8080/"
        },
        "outputId": "8a83bfab-5178-4bb5-8aaa-e5f85f40d7db"
      },
      "execution_count": 129,
      "outputs": [
        {
          "output_type": "execute_result",
          "data": {
            "text/plain": [
              "(240000, 2)"
            ]
          },
          "metadata": {},
          "execution_count": 129
        }
      ]
    },
    {
      "cell_type": "code",
      "source": [
        "y_train.shape"
      ],
      "metadata": {
        "colab": {
          "base_uri": "https://localhost:8080/"
        },
        "id": "gLFLS-AhPKE7",
        "outputId": "d745d596-6f16-4841-b775-052c61bcf363"
      },
      "execution_count": 130,
      "outputs": [
        {
          "output_type": "execute_result",
          "data": {
            "text/plain": [
              "(240000,)"
            ]
          },
          "metadata": {},
          "execution_count": 130
        }
      ]
    },
    {
      "cell_type": "code",
      "source": [
        "from sklearn.ensemble import RandomForestClassifier\n",
        "from sklearn.pipeline import Pipeline\n",
        "from sklearn.preprocessing import StandardScaler\n",
        "import joblib\n",
        "\n",
        "class SimpleRandomForestClassifier:\n",
        "    def __init__(self):\n",
        "        self.model = Pipeline([\n",
        "            ('rf', RandomForestClassifier(\n",
        "                n_estimators=100,\n",
        "                max_depth=None,\n",
        "                random_state=42\n",
        "            ))\n",
        "        ])\n",
        "\n",
        "    def train(self, X_train, y_train):\n",
        "        self.model.fit(X_train, y_train)\n",
        "        joblib.dump(self.model, 'rf.pkl')\n",
        "        print(\"model trained and saved as rf.pkl\")\n",
        "\n",
        "rf = SimpleRandomForestClassifier()\n",
        "rf.train(X_train, y_train)\n",
        "\n"
      ],
      "metadata": {
        "id": "Ful2UvCo5Qwj",
        "colab": {
          "base_uri": "https://localhost:8080/"
        },
        "outputId": "6284c1c5-c2d7-4b00-abbd-f46ec8ce423f"
      },
      "execution_count": 131,
      "outputs": [
        {
          "output_type": "stream",
          "name": "stdout",
          "text": [
            "model trained and saved as rf.pkl\n"
          ]
        }
      ]
    },
    {
      "cell_type": "code",
      "source": [
        "DEVICE = torch.device(\"cuda\" if torch.cuda.is_available() else \"cpu\")\n"
      ],
      "metadata": {
        "id": "-P8lLhRp-HgB"
      },
      "execution_count": 132,
      "outputs": []
    },
    {
      "cell_type": "code",
      "source": [
        "#compute and log metrics\n",
        "import numpy as np\n",
        "import pandas as pd\n",
        "import time\n",
        "from sklearn.metrics import (\n",
        "    accuracy_score, balanced_accuracy_score, precision_score,\n",
        "    recall_score, f1_score, jaccard_score, cohen_kappa_score\n",
        ")\n",
        "import os\n",
        "\n",
        "def compute_metrics(phase, true_labels, predicted_labels):\n",
        "    flat_true = np.ravel(true_labels)\n",
        "    flat_pred = np.ravel(predicted_labels)\n",
        "\n",
        "    return {\n",
        "        \"Timestamp\": time.strftime(\"%Y-%m-%d %H:%M:%S\"),\n",
        "        \"Phase\": phase,\n",
        "        \"Accuracy\": accuracy_score(flat_true, flat_pred),\n",
        "        \"Balanced Accuracy\": balanced_accuracy_score(flat_true, flat_pred),\n",
        "        \"Precision\": precision_score(flat_true, flat_pred, zero_division=0),\n",
        "        \"Recall\": recall_score(flat_true, flat_pred),\n",
        "        \"F1 Score\": f1_score(flat_true, flat_pred),\n",
        "        \"IoU\": jaccard_score(flat_true, flat_pred),\n",
        "        \"Cohen Kappa\": cohen_kappa_score(flat_true, flat_pred),\n",
        "        \"Positive %\": round(np.mean(flat_true) * 100, 2),\n",
        "    }\n",
        "\n",
        "def evaluate_and_log(y_true, y_pred, csv_path, phase):\n",
        "    metrics = compute_metrics(phase, y_true, y_pred)\n",
        "    df = pd.DataFrame([metrics])\n",
        "\n",
        "    if not os.path.isfile(csv_path):\n",
        "        df.to_csv(csv_path, index=False)\n",
        "    else:\n",
        "        df.to_csv(csv_path, mode='a', header=False, index=False)\n",
        "\n",
        "    print(f\"✅ Metrics logged for {phase} phase.\")\n",
        "\n",
        "\n",
        "\n"
      ],
      "metadata": {
        "id": "WUWsTAliWCxW"
      },
      "execution_count": 133,
      "outputs": []
    },
    {
      "cell_type": "code",
      "source": [
        "\n",
        "train_pred = rf.model.predict(X_train)\n",
        "val_pred = rf.model.predict(X_val)\n",
        "test_pred = rf.model.predict(X_test)\n",
        "\n",
        "train_pred_binary = train_pred\n",
        "val_pred_binary = val_pred\n",
        "test_pred_binary = test_pred\n",
        "\n",
        "train_true_binary = y_train\n",
        "val_true_binary = y_val\n",
        "test_true_binary = y_test\n",
        "\n"
      ],
      "metadata": {
        "id": "L0cIWgveWGaE"
      },
      "execution_count": 134,
      "outputs": []
    },
    {
      "cell_type": "code",
      "source": [
        "evaluate_and_log(y_train, train_pred, results_path, \"Train\")\n",
        "evaluate_and_log(y_val, val_pred, results_path, \"Validation\")\n",
        "evaluate_and_log(y_test, test_pred, results_path, \"Test\")"
      ],
      "metadata": {
        "id": "ULqdM-WmWGdl",
        "colab": {
          "base_uri": "https://localhost:8080/"
        },
        "outputId": "53d37760-ff0b-4371-8e04-8b824ea3a435"
      },
      "execution_count": 135,
      "outputs": [
        {
          "output_type": "stream",
          "name": "stdout",
          "text": [
            "✅ Metrics logged for Train phase.\n",
            "✅ Metrics logged for Validation phase.\n",
            "✅ Metrics logged for Test phase.\n"
          ]
        }
      ]
    }
  ]
}